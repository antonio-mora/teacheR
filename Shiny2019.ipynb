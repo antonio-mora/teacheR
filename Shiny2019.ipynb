{
 "cells": [
  {
   "cell_type": "markdown",
   "metadata": {},
   "source": [
    "# Introduction to Shiny"
   ]
  },
  {
   "cell_type": "markdown",
   "metadata": {},
   "source": [
    "## Antonio Mora"
   ]
  },
  {
   "cell_type": "markdown",
   "metadata": {},
   "source": [
    "Lab workshop, 30-08-2019"
   ]
  },
  {
   "cell_type": "markdown",
   "metadata": {},
   "source": [
    "# Exercise 1. Examples of Shiny apps:"
   ]
  },
  {
   "cell_type": "markdown",
   "metadata": {},
   "source": [
    "Let's start by watching some Shiny apps and understanding what is Shiny all about. First, from R, run all 11 built-in Shiny examples:"
   ]
  },
  {
   "cell_type": "code",
   "execution_count": null,
   "metadata": {
    "collapsed": true
   },
   "outputs": [],
   "source": [
    "runExample(\"01_hello\")      # a histogram\n",
    "runExample(\"02_text\")       # tables and data frames\n",
    "runExample(\"03_reactivity\") # a reactive expression\n",
    "runExample(\"04_mpg\")        # global variables\n",
    "runExample(\"05_sliders\")    # slider bars\n",
    "runExample(\"06_tabsets\")    # tabbed panels\n",
    "runExample(\"07_widgets\")    # help text and submit buttons\n",
    "runExample(\"08_html\")       # Shiny app built from HTML\n",
    "runExample(\"09_upload\")     # file upload wizard\n",
    "runExample(\"10_download\")   # file download wizard\n",
    "runExample(\"11_timer\")      # an automated timer"
   ]
  },
  {
   "cell_type": "markdown",
   "metadata": {},
   "source": [
    "You can also check RStudio's Shiny gallery:\n",
    "https://shiny.rstudio.com/gallery/genome-browser.html"
   ]
  },
  {
   "cell_type": "markdown",
   "metadata": {},
   "source": [
    "# Exercise 2. Structure of a Shiny app:"
   ]
  },
  {
   "cell_type": "markdown",
   "metadata": {},
   "source": [
    "Now that you are familiar with what Shiny apps can do, let's study the structure of a Shiny app. To do that, we will review the \"Hello Shiny\" example:"
   ]
  },
  {
   "cell_type": "markdown",
   "metadata": {},
   "source": [
    "#### 2.1. Create a directory called \"my_app\" (or any other name you want). Be sure that this folder is in your working directory.\n",
    "#### 2.2. Create an app.R file inside this directory.\n",
    "#### 2.3. Copy the code for the Hello Shiny app inside this file. The code is this:"
   ]
  },
  {
   "cell_type": "code",
   "execution_count": null,
   "metadata": {
    "collapsed": true
   },
   "outputs": [],
   "source": [
    "library(shiny)\n",
    "\n",
    "ui <- fluidPage(\n",
    "  titlePanel(\"Hello Shiny!\"),\n",
    "  sidebarLayout(\n",
    "    sidebarPanel(\n",
    "      sliderInput(inputId = \"bins\",\n",
    "                  label = \"Number of bins:\",\n",
    "                  min = 1,\n",
    "                  max = 50,\n",
    "                  value = 30)\n",
    "    ),\n",
    "    mainPanel(\n",
    "      plotOutput(outputId = \"distPlot\")\n",
    "    )\n",
    "  )\n",
    ")\n",
    "\n",
    "server <- function(input, output) {\n",
    "  output$distPlot <- renderPlot({\n",
    "    x    <- faithful$waiting\n",
    "    bins <- seq(min(x), max(x), length.out = input$bins + 1)\n",
    "\n",
    "    hist(x, breaks = bins, col = \"#75AADB\", border = \"white\",\n",
    "         xlab = \"Waiting time to next eruption (in mins)\",\n",
    "         main = \"Histogram of waiting times\")\n",
    "\n",
    "    })\n",
    "}\n",
    "\n",
    "shinyApp(ui = ui, server = server)"
   ]
  },
  {
   "cell_type": "markdown",
   "metadata": {},
   "source": [
    "#### 2.4. Change the titles of the app and the different values of the slider input.\n",
    "#### 2.5. Open R. Run your app using: runApp(\"my_app\").\n",
    "#### 2.6. To display the R code, use: runApp(\"my_app\", display.mode = \"showcase\")"
   ]
  },
  {
   "cell_type": "markdown",
   "metadata": {},
   "source": [
    "# Exercise 3. Building the Shiny user interface (UI):"
   ]
  },
  {
   "cell_type": "markdown",
   "metadata": {},
   "source": [
    "The following is the basic structure of a Shiny app:"
   ]
  },
  {
   "cell_type": "code",
   "execution_count": null,
   "metadata": {
    "collapsed": true
   },
   "outputs": [],
   "source": [
    "library(shiny)\n",
    "ui <- fluidPage(\n",
    " \n",
    ")\n",
    "\n",
    "server <- function(input, output) {\n",
    "  \n",
    "}\n",
    "\n",
    "shinyApp(ui = ui, server = server)"
   ]
  },
  {
   "cell_type": "markdown",
   "metadata": {},
   "source": [
    "We will start by learning to build the user interface.\n",
    "\n",
    "The UI is built by using the \"fluidPage\" function, which creates an interface according to the size of the web browser. This function contains three important parts: \"titlePanel\", \"sidebarPanel\", and \"mainPanel\"."
   ]
  },
  {
   "cell_type": "markdown",
   "metadata": {},
   "source": [
    "### 3.1. Create an app-folder and an \"app.R\" file made of an UI and no code. Add only text to the user interface."
   ]
  },
  {
   "cell_type": "code",
   "execution_count": null,
   "metadata": {
    "collapsed": true
   },
   "outputs": [],
   "source": [
    "library(shiny)\n",
    "ui <- fluidPage(\n",
    "  titlePanel(\"This is the app title\"),\n",
    "  sidebarLayout(\n",
    "    sidebarPanel(\"Here we may want to add the input\"),\n",
    "    mainPanel(\"Here we will show the results\")\n",
    "  )\n",
    ")\n",
    "server <- function(input, output) {\n",
    "}\n",
    "shinyApp(ui = ui, server = server)"
   ]
  },
  {
   "cell_type": "markdown",
   "metadata": {},
   "source": [
    "### 3.2. Open R. Run the app, using runApp(\"app-folder\")."
   ]
  },
  {
   "cell_type": "markdown",
   "metadata": {},
   "source": [
    "### 3.3. Modify the sidebar, adding:"
   ]
  },
  {
   "cell_type": "code",
   "execution_count": null,
   "metadata": {
    "collapsed": true
   },
   "outputs": [],
   "source": [
    "  sidebarLayout(position=\"right\",\n",
    "    sidebarPanel(\"Now I moved this sidebar to the right\"),\n",
    "    mainPanel(\"Now the main panel is here\")\n",
    "  )"
   ]
  },
  {
   "cell_type": "markdown",
   "metadata": {},
   "source": [
    "### Run the app and observe the changes."
   ]
  },
  {
   "cell_type": "markdown",
   "metadata": {},
   "source": [
    "### 3.4. HTML:\n",
    "HTML can be used inside the panels. For example:"
   ]
  },
  {
   "cell_type": "code",
   "execution_count": null,
   "metadata": {
    "collapsed": true
   },
   "outputs": [],
   "source": [
    "    mainPanel(\n",
    "      h1(\"First level title\"),\n",
    "      h2(\"Second level title\"),\n",
    "      h3(\"Third level title\"),\n",
    "      p(\"p creates a paragraph of text.\"),\n",
    "      strong(\"strong() makes bold text.\"),\n",
    "      em(\"em() creates italicized (i.e, emphasized) text.\"),\n",
    "      br(),\n",
    "      code(\"code displays your text similar to computer code\"),\n",
    "      div(\"div creates segments of text with a similar style. This division of text is all blue because I passed the argument 'style = color:blue' to div\", style = \"color:blue\"),\n",
    "      br(),\n",
    "      p(\"span does the same thing as div, but it works with\", span(\"groups of words\", style = \"color:blue\"), \"that appear inside a paragraph.\"),\n",
    "      img(src = \"rstudio.png\", height = 140, width = 400)\n",
    "    )"
   ]
  },
  {
   "cell_type": "markdown",
   "metadata": {},
   "source": [
    "### Create and run a Shiny app for the following text:"
   ]
  },
  {
   "cell_type": "code",
   "execution_count": null,
   "metadata": {
    "collapsed": true
   },
   "outputs": [],
   "source": [
    "library(shiny)\n",
    "ui <- fluidPage(\n",
    "  titlePanel(\"GREG App\"),\n",
    "  sidebarLayout(\n",
    "    sidebarPanel(\n",
    "      h2(\"With GREG...\"),\n",
    "      p(\" 1. Find all the protein-protein, protein-DNA, protein-lncRNA, lncRNA-DNA, and DNA-DNA interactions for your query TF, lncRNA, or genomic region! 2. Get the output as a graph! 3. Build advanced graphical queries! \"),\n",
    "      code('install.packages(\"shiny\")'),\n",
    "      br(),\n",
    "      br(),\n",
    "      br(),\n",
    "      br(),\n",
    "      img(src = \"https://github.com/mora-lab/mora-lab.github.io/blob/master/picture/GREG_Logo.png\", height = 70, width = 200),\n",
    "      br(),\n",
    "      \"GREG is a product of \", \n",
    "      span(\"Mora Lab\", style = \"color:blue\")\n",
    "    ),\n",
    "    mainPanel(\n",
    "      h1(\"What is GREG?\"),\n",
    "      p(\"GREG (The Gene Regulation Graph Database) is a graph database written in Neo4J. Its goal is to allow genomic researchers to see in a graphical way all the known interactions between proteins, lncRNAs, and DNA for a given transcription factor, lncRNA, or genomic region (ie., its \", \n",
    "        em(\"regulatory landscape\"), \n",
    "        \"). At the moment, there are no other published tools that allow such a graphical and integrative view.\"),\n",
    "      br(),\n",
    "      p(\"For an introduction and live examples, visit the \",\n",
    "        a(\"GREG homepage.\", \n",
    "          href = \"http://www.moralab.science/GREG/index.html\")),\n",
    "      br(),\n",
    "      h2(\"Mora Lab\"),\n",
    "      p(\"Antonio \", strong(\"Mora\")),\n",
    "      p(\"Mei Songqing \")\n",
    "    )\n",
    "  )\n",
    ")\n",
    "\n",
    "server <- function() {\n",
    "  \n",
    "}\n",
    "\n",
    "shinyApp(ui = ui, server = server)"
   ]
  },
  {
   "cell_type": "markdown",
   "metadata": {},
   "source": [
    "### 3.5. Widgets:\n",
    "\n",
    "There are multiple widgets that can be added inside the panels. Among them:"
   ]
  },
  {
   "cell_type": "markdown",
   "metadata": {},
   "source": [
    "numericInput() ----> A field to enter numbers<br>\n",
    "textInput() ----> A field to enter text<br>\n",
    "selectInput() ----> A box with choices to select from<br>\n",
    "sliderInput() ----> A slider bar<br>\n",
    "fileInput() ----> A file upload control wizard<br><br>\n",
    "And many others."
   ]
  },
  {
   "cell_type": "markdown",
   "metadata": {},
   "source": [
    "### Let's use the RStudio example that combines the \"helpText\", \"selectInput\" and \"sliderInput\" widgets. Create and run a Shiny app with the following code:"
   ]
  },
  {
   "cell_type": "code",
   "execution_count": null,
   "metadata": {
    "collapsed": true
   },
   "outputs": [],
   "source": [
    "library(shiny)\n",
    "ui <- fluidPage(\n",
    "  titlePanel(\"censusVis\"),\n",
    "  \n",
    "  sidebarLayout(\n",
    "    sidebarPanel(\n",
    "      helpText(\"Create demographic maps with \n",
    "               information from the 2010 US Census.\"),\n",
    "      \n",
    "      selectInput(\"var\", \n",
    "                  label = \"Choose a variable to display\",\n",
    "                  choices = list(\"Percent White\", \n",
    "                                 \"Percent Black\",\n",
    "                                 \"Percent Hispanic\", \n",
    "                                 \"Percent Asian\"),\n",
    "                  selected = \"Percent White\"),\n",
    "      \n",
    "      sliderInput(\"range\", \n",
    "                  label = \"Range of interest:\",\n",
    "                  min = 0, max = 100, value = c(0, 100))\n",
    "    ),\n",
    "    \n",
    "    mainPanel()\n",
    "  )\n",
    ")\n",
    "server <- function(input, output) {\n",
    "}\n",
    "shinyApp(ui = ui, server = server)"
   ]
  },
  {
   "cell_type": "markdown",
   "metadata": {},
   "source": [
    "### 3.6. Go to the Shiny widget gallery and check the code for all the different widgets (you will find both the code to create the UI and the code to pass the input to the server function).\n",
    "https://shiny.rstudio.com/gallery/widget-gallery.html"
   ]
  },
  {
   "cell_type": "markdown",
   "metadata": {},
   "source": [
    "# Exercise 4. Outputs:"
   ]
  },
  {
   "cell_type": "markdown",
   "metadata": {},
   "source": [
    "### 4.1. Just as with inputs, Shiny contains several functions to convert R objects into Shiny outputs:"
   ]
  },
  {
   "cell_type": "markdown",
   "metadata": {},
   "source": [
    "dataTableOutput() ----> DataTable<br>\n",
    "htmlOutput() ----> raw HTML<br>\n",
    "imageOutput() ----> image<br>\n",
    "plotOutput() ----> plot<br>\n",
    "tableOutput() ----> table<br>\n",
    "textOutput() ----> text<br>\n",
    "uiOutput() ----> raw HTML<br>\n",
    "verbatimTextOutput() ----> text"
   ]
  },
  {
   "cell_type": "markdown",
   "metadata": {},
   "source": [
    "### For example, add an output to the user interface in the previous censusVis example:"
   ]
  },
  {
   "cell_type": "code",
   "execution_count": null,
   "metadata": {
    "collapsed": true
   },
   "outputs": [],
   "source": [
    "ui <- fluidPage(\n",
    "  titlePanel(\"censusVis\"),\n",
    "  sidebarLayout(\n",
    "    sidebarPanel(\n",
    "      helpText(\"Create demographic maps with \n",
    "               information from the 2010 US Census.\"),\n",
    "      \n",
    "      selectInput(\"var\", \n",
    "                  label = \"Choose a variable to display\",\n",
    "                  choices = c(\"Percent White\", \n",
    "                              \"Percent Black\",\n",
    "                              \"Percent Hispanic\", \n",
    "                              \"Percent Asian\"),\n",
    "                  selected = \"Percent White\"),\n",
    "      \n",
    "      sliderInput(\"range\", \n",
    "                  label = \"Range of interest:\",\n",
    "                  min = 0, max = 100, value = c(0, 100))\n",
    "    ),\n",
    "    \n",
    "    mainPanel(\n",
    "      textOutput(\"selected_var\")\n",
    "    )\n",
    "  )\n",
    ")"
   ]
  },
  {
   "cell_type": "markdown",
   "metadata": {},
   "source": [
    "### There is now a space in the main panel to display the name of the selected variable as text. However, first we need to finish the \"server\" function as well."
   ]
  },
  {
   "cell_type": "markdown",
   "metadata": {},
   "source": [
    "### 4.2. The server function:"
   ]
  },
  {
   "cell_type": "markdown",
   "metadata": {},
   "source": [
    "server creates a list object called \"output\", which contains all of the R code needed. For example,"
   ]
  },
  {
   "cell_type": "code",
   "execution_count": null,
   "metadata": {
    "collapsed": true
   },
   "outputs": [],
   "source": [
    "server <- function(input, output) {\n",
    "  output$selected_var <- renderText({ \n",
    "    \"You have selected... something\"\n",
    "  })\n",
    "}"
   ]
  },
  {
   "cell_type": "markdown",
   "metadata": {},
   "source": [
    "Add this code to your app.R and comment on the results.\n",
    "\n",
    "Note that a \"renderText\" function was used. Shiny has different types of render* functions according to the type of object, including:"
   ]
  },
  {
   "cell_type": "markdown",
   "metadata": {},
   "source": [
    "renderDataTable ----> DataTable<br>\n",
    "renderImage ----> images (saved as a link to a source file)<br>\n",
    "renderPlot ----> plots<br>\n",
    "renderPrint ----> any printed output<br>\n",
    "renderTable ----> data frame, matrix, other table like structures<br>\n",
    "renderText ----> character strings<br>\n",
    "renderUI ----> a Shiny tag object or HTML<br>"
   ]
  },
  {
   "cell_type": "markdown",
   "metadata": {},
   "source": [
    "### 4.3. Making the app reactive (output changing automatically when changing the input):"
   ]
  },
  {
   "cell_type": "markdown",
   "metadata": {},
   "source": [
    "This is done by using the \"input\" parameter of the server function.<br>\n",
    "Change the server function from your app.R in the following way:"
   ]
  },
  {
   "cell_type": "code",
   "execution_count": null,
   "metadata": {
    "collapsed": true
   },
   "outputs": [],
   "source": [
    "server <- function(input, output) {\n",
    "  output$selected_var <- renderText({ \n",
    "    paste(\"You have selected: \", input$var)\n",
    "  })\n",
    "}"
   ]
  },
  {
   "cell_type": "markdown",
   "metadata": {},
   "source": [
    "input is another list. input\\$var brings the value of the variable \"var\" to the server. In the same way, input$range would bring the value of \"range\". The app becomes reactive by connecting the objects in input to the objects in output.<br>\n",
    "\n",
    "Run the app and try changing the values of the select box. You will see the output text changing.<br>\n",
    "\n",
    "If we want to see the selected range as well, we need to change both the main panel and the output. Add the following code to the app.R:"
   ]
  },
  {
   "cell_type": "code",
   "execution_count": null,
   "metadata": {
    "collapsed": true
   },
   "outputs": [],
   "source": [
    "    mainPanel(\n",
    "      textOutput(\"selected_var\"),\n",
    "      textOutput(\"min_max\")\n",
    "    )\n",
    "\t\n",
    "server <- function(input, output) {\n",
    "  output$selected_var <- renderText({ \n",
    "    paste(\"You have selected: \", input$var)\n",
    "  })\n",
    "  output$min_max <- renderText({ \n",
    "\tpaste(\"You have chosen a range that goes from\",\n",
    "          input$range[1], \"to\", input$range[2])\n",
    "  })\n",
    "}"
   ]
  },
  {
   "cell_type": "markdown",
   "metadata": {},
   "source": [
    "### Now run the app. Try changing both the select box and the slider's minimum and maximum values."
   ]
  },
  {
   "cell_type": "markdown",
   "metadata": {},
   "source": [
    "# Exercise 5. Creating a real bioinformatics app:"
   ]
  },
  {
   "cell_type": "markdown",
   "metadata": {},
   "source": [
    "RStudio recommends the following rules to create a Shiny app:\n",
    "\n",
    "a) \"Source scripts, load libraries, and read data sets at the beginning of app.R outside of the server function. Shiny will only run this code once, which is all you need to set your server up to run the R expressions contained in server.\"\n",
    "\n",
    "b) \"Define user specific objects inside server function, but outside of any render* calls. These would be objects that you think each user will need their own personal copy of. For example, an object that records the user’s session information. This code will be run once per user.\"\n",
    "\n",
    "c) \"Only place code that Shiny must rerun to build an object inside of a render* function. Shiny will rerun all of the code in a render* chunk each time a user changes a widget mentioned in the chunk. This can be quite often.\""
   ]
  },
  {
   "cell_type": "markdown",
   "metadata": {},
   "source": [
    "### 5.1. Getting \"chrombrowser\":"
   ]
  },
  {
   "cell_type": "markdown",
   "metadata": {},
   "source": [
    "I have created an app called \"chrombrowser\" based on a series of app scripts that I wrote some years ago but I never used.\n",
    "The goal of the app is to retrieve chromatin interaction files from GEO and, given that those files have different formats, give tham a unified format (which is called bedpe format). In order to use \"chrombrowser\", go to:\n",
    "\n",
    "https://github.com/antonio-mora/chrombrowseR\n",
    "\n",
    "Create a chrombrowseR folder in your hard disk and copy the following files there: app.R, bedpe_liftover.R, format_rao.R, get_rao.R, and get_tables.R\n",
    "\n",
    "Check the four auxiliary scripts:\n",
    "\n",
    "*get_rao* retrieves the Rao dataset from GEO, for the selected cell type, and copies it into the working directory.\n",
    "\n",
    "*format_rao* reads the downloaded files and change the format to \"bedpe\" format, which is the standard we are using.\n",
    "\n",
    "*bedpe_liftover* is an auxiliary function that format_rao uses to convert the files from hg19 to hg38.\n",
    "\n",
    "*get_tables* is an auxiliary function that get_rao uses to download the files."
   ]
  },
  {
   "cell_type": "markdown",
   "metadata": {},
   "source": [
    "### 5.2. Understanding \"chrombrowser\":"
   ]
  },
  {
   "cell_type": "markdown",
   "metadata": {},
   "source": [
    "Now, check the main app code:\n",
    "\n",
    "You will see that the code starts with the call to the different libraries and functions:"
   ]
  },
  {
   "cell_type": "code",
   "execution_count": null,
   "metadata": {
    "collapsed": true
   },
   "outputs": [],
   "source": [
    "library(shiny)\n",
    "library(GenomicRanges)\n",
    "library(R.utils)    \t# includes gunzip\n",
    "library(rtracklayer)\t# includes liftOver\n",
    "source(\"get_rao.R\")\n",
    "source(\"format_rao.R\")"
   ]
  },
  {
   "cell_type": "markdown",
   "metadata": {},
   "source": [
    "Be sure that you have installed all libraries and have the R scripts on the app folder.\n",
    "\n",
    "The UI contains:<br>\n",
    "a) a sidebar with some help text and a select box with all the different cell types in Rao's dataset,<br>\n",
    "b) a main panel with four divisions: the input cell type, a space to add html text, and two spaces for two tables."
   ]
  },
  {
   "cell_type": "code",
   "execution_count": null,
   "metadata": {
    "collapsed": true
   },
   "outputs": [],
   "source": [
    "ui <- fluidPage(\n",
    "  titlePanel(\"ChromBrowser\"),\n",
    "  sidebarLayout(\n",
    "    sidebarPanel(\n",
    "      helpText(\"Retrieving and formatting the chromatin interaction datasets from Rao et al., 2014\"),\n",
    "      selectInput(\"cell\", \n",
    "                  label = \"Cell type\",\n",
    "                  choices = c(\"GM12878\", \"HMEC\", \"HUVEC\", \"HeLa\", \"IMR90\", \"K562\", \"KBM7\", \"NHEK\", \"CH12-LX\"),\n",
    "                  selected = \"GM12878\")\n",
    "    ),\n",
    "    mainPanel(\n",
    "      textOutput(\"selected_cell\"),\n",
    "\t  htmlOutput(\"text\"),\n",
    "\t  tableOutput(\"headTable\"),\n",
    "\t  tableOutput(\"headTable2\")\n",
    "    )\n",
    "  )\n",
    ")"
   ]
  },
  {
   "cell_type": "markdown",
   "metadata": {},
   "source": [
    "The server function starts building three reactive functions: one using *get_rao*, one using *format_rao* for loops, and one using *format_rao* for domains. Such functions are time-consuming and, therefore, we only want to execute them once.\n",
    "\n",
    "The second part of the server function contains the output list. The first element of the output is an html function which uses \"renderUI\" and includes the name of the cell type, information on location of the downloaded datasets, and size of the files.\n",
    "\n",
    "The following elements of the server function are tables, using the \"renderTable\" function. Such tables will be re-run every time that we change the cell type. Therefore, the app would only be slow the first time. After that, the tables and other iformation will change very fast."
   ]
  },
  {
   "cell_type": "code",
   "execution_count": null,
   "metadata": {
    "collapsed": true
   },
   "outputs": [],
   "source": [
    "server <- function(input, output) {\n",
    "\t# Get Rao datasets from GEO:\n",
    "\traoList <- reactive({\n",
    "\t\tget_rao(input$cell)\n",
    "\t})\n",
    "\t\n",
    "\t# Format Rao dataset ():\n",
    "\traoLoops <- reactive({\n",
    "\t\tformat_rao(raoList(), \"loops\", input$cell)\n",
    "\t})\n",
    "\traoDomains <- reactive({\n",
    "\t\tformat_rao(raoList(), \"domains\", input$cell)\n",
    "\t})\n",
    "\n",
    "\t# Output:\n",
    "\toutput$text <- renderUI({\n",
    "\t\tstr1 <- paste(\"You have selected: \", input$cell)\n",
    "\t\tstr2 <- paste(\"Raw interaction data has been downloaded to: \", getwd())\n",
    "\t\tstr3 <- paste(\"Formatted interaction data has been downloaded to: \", getwd())\n",
    "\t\tstr4 <- paste(\"Loop dataset size: \", dim(raoLoops())[1])\n",
    "\t\tstr5 <- paste(\"Domain dataset size: \", dim(raoDomains())[1])\n",
    "\t\tstr6 <- \"Tables (heads): \"\n",
    "\n",
    "\t\tHTML(paste(str1, str2, str3, str4, str5, str6, sep = '<br/>'))\n",
    "\t})\n",
    "    output$headTable <- renderTable({ \n",
    "\t\t#head(raoList()$loops)\n",
    "\t\thead(raoLoops())\n",
    "    })\n",
    "    output$headTable2 <- renderTable({ \n",
    "\t\t#head(raoList()$domains)\n",
    "\t\thead(raoDomains())\n",
    "    })\n",
    "}"
   ]
  },
  {
   "cell_type": "markdown",
   "metadata": {},
   "source": [
    "### 5.3. Run the app and comment on the results."
   ]
  },
  {
   "cell_type": "markdown",
   "metadata": {},
   "source": [
    "# Exercise 6. Homework:"
   ]
  },
  {
   "cell_type": "markdown",
   "metadata": {},
   "source": [
    "Shiny can be useful for all of our projects. Here are some interesting tasks:\n",
    "\n",
    "Task 1 (Xiaowei and anyone else): Build a Shiny app to explore GREG. This can be done using Shiny and RNeo4j. See: https://nicolewhite.github.io/2014/06/30/create-shiny-app-neo4j-graphene.html\n",
    "\n",
    "Task 2 (Me and anyone else): Build a Shiny app for the GSARefDB database (https://gsa-central.github.io/gsarefdb/GSARefDB_0.8.xlsx).\n",
    "\n",
    "Task 3 (Chengshu and anyone else): Build a Shiny app to run all the single-sample GSA methods. To do that, see: runExample(\"09_upload\"). The user uploads the gene list, and the server function includes all the SS software studies.\n",
    "\n",
    "Task 4 (Shaurya and anyone else): Build a Shiny app to apply ML methods to genomic tracks.\n",
    "\n",
    "Task 5 (anyone): Quick benchmarker: Choose one gold standard dataset and all methods we want to compare. Output the sensitivity, specificity and prioritization plots."
   ]
  },
  {
   "cell_type": "markdown",
   "metadata": {},
   "source": [
    "# References:"
   ]
  },
  {
   "cell_type": "markdown",
   "metadata": {},
   "source": [
    "https://shiny.rstudio.com/tutorial/#written-tutorials"
   ]
  },
  {
   "cell_type": "code",
   "execution_count": null,
   "metadata": {
    "collapsed": true
   },
   "outputs": [],
   "source": []
  }
 ],
 "metadata": {
  "kernelspec": {
   "display_name": "R",
   "language": "R",
   "name": "ir"
  },
  "language_info": {
   "codemirror_mode": "r",
   "file_extension": ".r",
   "mimetype": "text/x-r-source",
   "name": "R",
   "pygments_lexer": "r",
   "version": "3.6.0"
  }
 },
 "nbformat": 4,
 "nbformat_minor": 2
}
