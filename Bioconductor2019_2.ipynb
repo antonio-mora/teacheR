{
 "cells": [
  {
   "cell_type": "markdown",
   "metadata": {},
   "source": [
    "# Introduction to Bioconductor (2)"
   ]
  },
  {
   "cell_type": "markdown",
   "metadata": {},
   "source": [
    "## Antonio Mora"
   ]
  },
  {
   "cell_type": "markdown",
   "metadata": {},
   "source": [
    "Lab workshop, 21-06-2019"
   ]
  },
  {
   "cell_type": "markdown",
   "metadata": {},
   "source": [
    "# Part 1. Working with annotation:"
   ]
  },
  {
   "cell_type": "markdown",
   "metadata": {},
   "source": [
    "Let's start by installing the required packages for today's workshop."
   ]
  },
  {
   "cell_type": "code",
   "execution_count": 88,
   "metadata": {},
   "outputs": [
    {
     "name": "stderr",
     "output_type": "stream",
     "text": [
      "Bioconductor version 3.9 (BiocManager 1.30.4), R 3.6.0 (2019-04-26)\n",
      "Installing package(s) 'AnnotationDbi', 'hgu95av2.db', 'org.Hs.eg.db', 'GO.db',\n",
      "  'EnsDb.Hsapiens.v75', 'AnnotationHub', 'rtracklayer',\n",
      "  'BSgenome.Hsapiens.UCSC.hg38', 'Gviz'\n",
      "Warning message:\n",
      "\"packages 'AnnotationDbi', 'AnnotationHub', 'rtracklayer', 'Gviz' are in use and will not be installed\"installing the source packages 'hgu95av2.db', 'org.Hs.eg.db', 'GO.db', 'EnsDb.Hsapiens.v75', 'BSgenome.Hsapiens.UCSC.hg38'\n",
      "\n",
      "Update old packages: 'BiocParallel'\n"
     ]
    }
   ],
   "source": [
    "BiocManager::install(c(\"AnnotationDbi\", \"hgu95av2.db\", \"org.Hs.eg.db\", \"GO.db\", \"EnsDb.Hsapiens.v75\", \"AnnotationHub\", \"rtracklayer\", \"BSgenome.Hsapiens.UCSC.hg38\", \"Gviz\"))"
   ]
  },
  {
   "cell_type": "markdown",
   "metadata": {},
   "source": [
    "## 1.1) AnnotationDbi:"
   ]
  },
  {
   "cell_type": "markdown",
   "metadata": {},
   "source": [
    "As explained in the slides, AnnotationDb objects have been used on several different databases, therefore they are the basis of ChipDb objects, OrgDb objects, GO.db, and TxDb objects, among others. All these objects can be accessed using the same four basic methods: \"columns\", \"keytypes\", \"keys\", and \"select\"."
   ]
  },
  {
   "cell_type": "markdown",
   "metadata": {},
   "source": [
    "_ChipDb objects:_"
   ]
  },
  {
   "cell_type": "code",
   "execution_count": 3,
   "metadata": {},
   "outputs": [],
   "source": [
    "library(hgu95av2.db, verbose=FALSE)"
   ]
  },
  {
   "cell_type": "markdown",
   "metadata": {},
   "source": [
    "We can list all objects in the package."
   ]
  },
  {
   "cell_type": "code",
   "execution_count": 4,
   "metadata": {},
   "outputs": [
    {
     "data": {
      "text/html": [
       "<ol class=list-inline>\n",
       "\t<li>'hgu95av2'</li>\n",
       "\t<li>'hgu95av2.db'</li>\n",
       "\t<li>'hgu95av2_dbconn'</li>\n",
       "\t<li>'hgu95av2_dbfile'</li>\n",
       "\t<li>'hgu95av2_dbInfo'</li>\n",
       "\t<li>'hgu95av2_dbschema'</li>\n",
       "\t<li>'hgu95av2ACCNUM'</li>\n",
       "\t<li>'hgu95av2ALIAS2PROBE'</li>\n",
       "\t<li>'hgu95av2CHR'</li>\n",
       "\t<li>'hgu95av2CHRLENGTHS'</li>\n",
       "\t<li>'hgu95av2CHRLOC'</li>\n",
       "\t<li>'hgu95av2CHRLOCEND'</li>\n",
       "\t<li>'hgu95av2ENSEMBL'</li>\n",
       "\t<li>'hgu95av2ENSEMBL2PROBE'</li>\n",
       "\t<li>'hgu95av2ENTREZID'</li>\n",
       "\t<li>'hgu95av2ENZYME'</li>\n",
       "\t<li>'hgu95av2ENZYME2PROBE'</li>\n",
       "\t<li>'hgu95av2GENENAME'</li>\n",
       "\t<li>'hgu95av2GO'</li>\n",
       "\t<li>'hgu95av2GO2ALLPROBES'</li>\n",
       "\t<li>'hgu95av2GO2PROBE'</li>\n",
       "\t<li>'hgu95av2MAP'</li>\n",
       "\t<li>'hgu95av2MAPCOUNTS'</li>\n",
       "\t<li>'hgu95av2OMIM'</li>\n",
       "\t<li>'hgu95av2ORGANISM'</li>\n",
       "\t<li>'hgu95av2ORGPKG'</li>\n",
       "\t<li>'hgu95av2PATH'</li>\n",
       "\t<li>'hgu95av2PATH2PROBE'</li>\n",
       "\t<li>'hgu95av2PFAM'</li>\n",
       "\t<li>'hgu95av2PMID'</li>\n",
       "\t<li>'hgu95av2PMID2PROBE'</li>\n",
       "\t<li>'hgu95av2PROSITE'</li>\n",
       "\t<li>'hgu95av2REFSEQ'</li>\n",
       "\t<li>'hgu95av2SYMBOL'</li>\n",
       "\t<li>'hgu95av2UNIGENE'</li>\n",
       "\t<li>'hgu95av2UNIPROT'</li>\n",
       "</ol>\n"
      ],
      "text/latex": [
       "\\begin{enumerate*}\n",
       "\\item 'hgu95av2'\n",
       "\\item 'hgu95av2.db'\n",
       "\\item 'hgu95av2\\_dbconn'\n",
       "\\item 'hgu95av2\\_dbfile'\n",
       "\\item 'hgu95av2\\_dbInfo'\n",
       "\\item 'hgu95av2\\_dbschema'\n",
       "\\item 'hgu95av2ACCNUM'\n",
       "\\item 'hgu95av2ALIAS2PROBE'\n",
       "\\item 'hgu95av2CHR'\n",
       "\\item 'hgu95av2CHRLENGTHS'\n",
       "\\item 'hgu95av2CHRLOC'\n",
       "\\item 'hgu95av2CHRLOCEND'\n",
       "\\item 'hgu95av2ENSEMBL'\n",
       "\\item 'hgu95av2ENSEMBL2PROBE'\n",
       "\\item 'hgu95av2ENTREZID'\n",
       "\\item 'hgu95av2ENZYME'\n",
       "\\item 'hgu95av2ENZYME2PROBE'\n",
       "\\item 'hgu95av2GENENAME'\n",
       "\\item 'hgu95av2GO'\n",
       "\\item 'hgu95av2GO2ALLPROBES'\n",
       "\\item 'hgu95av2GO2PROBE'\n",
       "\\item 'hgu95av2MAP'\n",
       "\\item 'hgu95av2MAPCOUNTS'\n",
       "\\item 'hgu95av2OMIM'\n",
       "\\item 'hgu95av2ORGANISM'\n",
       "\\item 'hgu95av2ORGPKG'\n",
       "\\item 'hgu95av2PATH'\n",
       "\\item 'hgu95av2PATH2PROBE'\n",
       "\\item 'hgu95av2PFAM'\n",
       "\\item 'hgu95av2PMID'\n",
       "\\item 'hgu95av2PMID2PROBE'\n",
       "\\item 'hgu95av2PROSITE'\n",
       "\\item 'hgu95av2REFSEQ'\n",
       "\\item 'hgu95av2SYMBOL'\n",
       "\\item 'hgu95av2UNIGENE'\n",
       "\\item 'hgu95av2UNIPROT'\n",
       "\\end{enumerate*}\n"
      ],
      "text/markdown": [
       "1. 'hgu95av2'\n",
       "2. 'hgu95av2.db'\n",
       "3. 'hgu95av2_dbconn'\n",
       "4. 'hgu95av2_dbfile'\n",
       "5. 'hgu95av2_dbInfo'\n",
       "6. 'hgu95av2_dbschema'\n",
       "7. 'hgu95av2ACCNUM'\n",
       "8. 'hgu95av2ALIAS2PROBE'\n",
       "9. 'hgu95av2CHR'\n",
       "10. 'hgu95av2CHRLENGTHS'\n",
       "11. 'hgu95av2CHRLOC'\n",
       "12. 'hgu95av2CHRLOCEND'\n",
       "13. 'hgu95av2ENSEMBL'\n",
       "14. 'hgu95av2ENSEMBL2PROBE'\n",
       "15. 'hgu95av2ENTREZID'\n",
       "16. 'hgu95av2ENZYME'\n",
       "17. 'hgu95av2ENZYME2PROBE'\n",
       "18. 'hgu95av2GENENAME'\n",
       "19. 'hgu95av2GO'\n",
       "20. 'hgu95av2GO2ALLPROBES'\n",
       "21. 'hgu95av2GO2PROBE'\n",
       "22. 'hgu95av2MAP'\n",
       "23. 'hgu95av2MAPCOUNTS'\n",
       "24. 'hgu95av2OMIM'\n",
       "25. 'hgu95av2ORGANISM'\n",
       "26. 'hgu95av2ORGPKG'\n",
       "27. 'hgu95av2PATH'\n",
       "28. 'hgu95av2PATH2PROBE'\n",
       "29. 'hgu95av2PFAM'\n",
       "30. 'hgu95av2PMID'\n",
       "31. 'hgu95av2PMID2PROBE'\n",
       "32. 'hgu95av2PROSITE'\n",
       "33. 'hgu95av2REFSEQ'\n",
       "34. 'hgu95av2SYMBOL'\n",
       "35. 'hgu95av2UNIGENE'\n",
       "36. 'hgu95av2UNIPROT'\n",
       "\n",
       "\n"
      ],
      "text/plain": [
       " [1] \"hgu95av2\"              \"hgu95av2.db\"           \"hgu95av2_dbconn\"      \n",
       " [4] \"hgu95av2_dbfile\"       \"hgu95av2_dbInfo\"       \"hgu95av2_dbschema\"    \n",
       " [7] \"hgu95av2ACCNUM\"        \"hgu95av2ALIAS2PROBE\"   \"hgu95av2CHR\"          \n",
       "[10] \"hgu95av2CHRLENGTHS\"    \"hgu95av2CHRLOC\"        \"hgu95av2CHRLOCEND\"    \n",
       "[13] \"hgu95av2ENSEMBL\"       \"hgu95av2ENSEMBL2PROBE\" \"hgu95av2ENTREZID\"     \n",
       "[16] \"hgu95av2ENZYME\"        \"hgu95av2ENZYME2PROBE\"  \"hgu95av2GENENAME\"     \n",
       "[19] \"hgu95av2GO\"            \"hgu95av2GO2ALLPROBES\"  \"hgu95av2GO2PROBE\"     \n",
       "[22] \"hgu95av2MAP\"           \"hgu95av2MAPCOUNTS\"     \"hgu95av2OMIM\"         \n",
       "[25] \"hgu95av2ORGANISM\"      \"hgu95av2ORGPKG\"        \"hgu95av2PATH\"         \n",
       "[28] \"hgu95av2PATH2PROBE\"    \"hgu95av2PFAM\"          \"hgu95av2PMID\"         \n",
       "[31] \"hgu95av2PMID2PROBE\"    \"hgu95av2PROSITE\"       \"hgu95av2REFSEQ\"       \n",
       "[34] \"hgu95av2SYMBOL\"        \"hgu95av2UNIGENE\"       \"hgu95av2UNIPROT\"      "
      ]
     },
     "metadata": {},
     "output_type": "display_data"
    }
   ],
   "source": [
    "ls(\"package:hgu95av2.db\")"
   ]
  },
  {
   "cell_type": "markdown",
   "metadata": {},
   "source": [
    "And check what kind of objects are they:"
   ]
  },
  {
   "cell_type": "code",
   "execution_count": 5,
   "metadata": {},
   "outputs": [
    {
     "data": {
      "text/html": [
       "'ProbeAnnDbBimap'"
      ],
      "text/latex": [
       "'ProbeAnnDbBimap'"
      ],
      "text/markdown": [
       "'ProbeAnnDbBimap'"
      ],
      "text/plain": [
       "[1] \"ProbeAnnDbBimap\"\n",
       "attr(,\"package\")\n",
       "[1] \"AnnotationDbi\""
      ]
     },
     "metadata": {},
     "output_type": "display_data"
    }
   ],
   "source": [
    "class(hgu95av2GENENAME)"
   ]
  },
  {
   "cell_type": "markdown",
   "metadata": {},
   "source": [
    "The main object is the one with the name of the package. We can see its contents with \"columns\":"
   ]
  },
  {
   "cell_type": "code",
   "execution_count": 6,
   "metadata": {},
   "outputs": [
    {
     "data": {
      "text/html": [
       "<ol class=list-inline>\n",
       "\t<li>'ACCNUM'</li>\n",
       "\t<li>'ALIAS'</li>\n",
       "\t<li>'ENSEMBL'</li>\n",
       "\t<li>'ENSEMBLPROT'</li>\n",
       "\t<li>'ENSEMBLTRANS'</li>\n",
       "\t<li>'ENTREZID'</li>\n",
       "\t<li>'ENZYME'</li>\n",
       "\t<li>'EVIDENCE'</li>\n",
       "\t<li>'EVIDENCEALL'</li>\n",
       "\t<li>'GENENAME'</li>\n",
       "\t<li>'GO'</li>\n",
       "\t<li>'GOALL'</li>\n",
       "\t<li>'IPI'</li>\n",
       "\t<li>'MAP'</li>\n",
       "\t<li>'OMIM'</li>\n",
       "\t<li>'ONTOLOGY'</li>\n",
       "\t<li>'ONTOLOGYALL'</li>\n",
       "\t<li>'PATH'</li>\n",
       "\t<li>'PFAM'</li>\n",
       "\t<li>'PMID'</li>\n",
       "\t<li>'PROBEID'</li>\n",
       "\t<li>'PROSITE'</li>\n",
       "\t<li>'REFSEQ'</li>\n",
       "\t<li>'SYMBOL'</li>\n",
       "\t<li>'UCSCKG'</li>\n",
       "\t<li>'UNIGENE'</li>\n",
       "\t<li>'UNIPROT'</li>\n",
       "</ol>\n"
      ],
      "text/latex": [
       "\\begin{enumerate*}\n",
       "\\item 'ACCNUM'\n",
       "\\item 'ALIAS'\n",
       "\\item 'ENSEMBL'\n",
       "\\item 'ENSEMBLPROT'\n",
       "\\item 'ENSEMBLTRANS'\n",
       "\\item 'ENTREZID'\n",
       "\\item 'ENZYME'\n",
       "\\item 'EVIDENCE'\n",
       "\\item 'EVIDENCEALL'\n",
       "\\item 'GENENAME'\n",
       "\\item 'GO'\n",
       "\\item 'GOALL'\n",
       "\\item 'IPI'\n",
       "\\item 'MAP'\n",
       "\\item 'OMIM'\n",
       "\\item 'ONTOLOGY'\n",
       "\\item 'ONTOLOGYALL'\n",
       "\\item 'PATH'\n",
       "\\item 'PFAM'\n",
       "\\item 'PMID'\n",
       "\\item 'PROBEID'\n",
       "\\item 'PROSITE'\n",
       "\\item 'REFSEQ'\n",
       "\\item 'SYMBOL'\n",
       "\\item 'UCSCKG'\n",
       "\\item 'UNIGENE'\n",
       "\\item 'UNIPROT'\n",
       "\\end{enumerate*}\n"
      ],
      "text/markdown": [
       "1. 'ACCNUM'\n",
       "2. 'ALIAS'\n",
       "3. 'ENSEMBL'\n",
       "4. 'ENSEMBLPROT'\n",
       "5. 'ENSEMBLTRANS'\n",
       "6. 'ENTREZID'\n",
       "7. 'ENZYME'\n",
       "8. 'EVIDENCE'\n",
       "9. 'EVIDENCEALL'\n",
       "10. 'GENENAME'\n",
       "11. 'GO'\n",
       "12. 'GOALL'\n",
       "13. 'IPI'\n",
       "14. 'MAP'\n",
       "15. 'OMIM'\n",
       "16. 'ONTOLOGY'\n",
       "17. 'ONTOLOGYALL'\n",
       "18. 'PATH'\n",
       "19. 'PFAM'\n",
       "20. 'PMID'\n",
       "21. 'PROBEID'\n",
       "22. 'PROSITE'\n",
       "23. 'REFSEQ'\n",
       "24. 'SYMBOL'\n",
       "25. 'UCSCKG'\n",
       "26. 'UNIGENE'\n",
       "27. 'UNIPROT'\n",
       "\n",
       "\n"
      ],
      "text/plain": [
       " [1] \"ACCNUM\"       \"ALIAS\"        \"ENSEMBL\"      \"ENSEMBLPROT\"  \"ENSEMBLTRANS\"\n",
       " [6] \"ENTREZID\"     \"ENZYME\"       \"EVIDENCE\"     \"EVIDENCEALL\"  \"GENENAME\"    \n",
       "[11] \"GO\"           \"GOALL\"        \"IPI\"          \"MAP\"          \"OMIM\"        \n",
       "[16] \"ONTOLOGY\"     \"ONTOLOGYALL\"  \"PATH\"         \"PFAM\"         \"PMID\"        \n",
       "[21] \"PROBEID\"      \"PROSITE\"      \"REFSEQ\"       \"SYMBOL\"       \"UCSCKG\"      \n",
       "[26] \"UNIGENE\"      \"UNIPROT\"     "
      ]
     },
     "metadata": {},
     "output_type": "display_data"
    }
   ],
   "source": [
    "columns(hgu95av2.db)"
   ]
  },
  {
   "cell_type": "markdown",
   "metadata": {},
   "source": [
    "\"keytypes\" will tells us which fields we can use as queries for the database (sometimes they could be all the coolumns; sometimes, less):"
   ]
  },
  {
   "cell_type": "code",
   "execution_count": 7,
   "metadata": {},
   "outputs": [
    {
     "data": {
      "text/html": [
       "<ol class=list-inline>\n",
       "\t<li>'ACCNUM'</li>\n",
       "\t<li>'ALIAS'</li>\n",
       "\t<li>'ENSEMBL'</li>\n",
       "\t<li>'ENSEMBLPROT'</li>\n",
       "\t<li>'ENSEMBLTRANS'</li>\n",
       "\t<li>'ENTREZID'</li>\n",
       "\t<li>'ENZYME'</li>\n",
       "\t<li>'EVIDENCE'</li>\n",
       "\t<li>'EVIDENCEALL'</li>\n",
       "\t<li>'GENENAME'</li>\n",
       "\t<li>'GO'</li>\n",
       "\t<li>'GOALL'</li>\n",
       "\t<li>'IPI'</li>\n",
       "\t<li>'MAP'</li>\n",
       "\t<li>'OMIM'</li>\n",
       "\t<li>'ONTOLOGY'</li>\n",
       "\t<li>'ONTOLOGYALL'</li>\n",
       "\t<li>'PATH'</li>\n",
       "\t<li>'PFAM'</li>\n",
       "\t<li>'PMID'</li>\n",
       "\t<li>'PROBEID'</li>\n",
       "\t<li>'PROSITE'</li>\n",
       "\t<li>'REFSEQ'</li>\n",
       "\t<li>'SYMBOL'</li>\n",
       "\t<li>'UCSCKG'</li>\n",
       "\t<li>'UNIGENE'</li>\n",
       "\t<li>'UNIPROT'</li>\n",
       "</ol>\n"
      ],
      "text/latex": [
       "\\begin{enumerate*}\n",
       "\\item 'ACCNUM'\n",
       "\\item 'ALIAS'\n",
       "\\item 'ENSEMBL'\n",
       "\\item 'ENSEMBLPROT'\n",
       "\\item 'ENSEMBLTRANS'\n",
       "\\item 'ENTREZID'\n",
       "\\item 'ENZYME'\n",
       "\\item 'EVIDENCE'\n",
       "\\item 'EVIDENCEALL'\n",
       "\\item 'GENENAME'\n",
       "\\item 'GO'\n",
       "\\item 'GOALL'\n",
       "\\item 'IPI'\n",
       "\\item 'MAP'\n",
       "\\item 'OMIM'\n",
       "\\item 'ONTOLOGY'\n",
       "\\item 'ONTOLOGYALL'\n",
       "\\item 'PATH'\n",
       "\\item 'PFAM'\n",
       "\\item 'PMID'\n",
       "\\item 'PROBEID'\n",
       "\\item 'PROSITE'\n",
       "\\item 'REFSEQ'\n",
       "\\item 'SYMBOL'\n",
       "\\item 'UCSCKG'\n",
       "\\item 'UNIGENE'\n",
       "\\item 'UNIPROT'\n",
       "\\end{enumerate*}\n"
      ],
      "text/markdown": [
       "1. 'ACCNUM'\n",
       "2. 'ALIAS'\n",
       "3. 'ENSEMBL'\n",
       "4. 'ENSEMBLPROT'\n",
       "5. 'ENSEMBLTRANS'\n",
       "6. 'ENTREZID'\n",
       "7. 'ENZYME'\n",
       "8. 'EVIDENCE'\n",
       "9. 'EVIDENCEALL'\n",
       "10. 'GENENAME'\n",
       "11. 'GO'\n",
       "12. 'GOALL'\n",
       "13. 'IPI'\n",
       "14. 'MAP'\n",
       "15. 'OMIM'\n",
       "16. 'ONTOLOGY'\n",
       "17. 'ONTOLOGYALL'\n",
       "18. 'PATH'\n",
       "19. 'PFAM'\n",
       "20. 'PMID'\n",
       "21. 'PROBEID'\n",
       "22. 'PROSITE'\n",
       "23. 'REFSEQ'\n",
       "24. 'SYMBOL'\n",
       "25. 'UCSCKG'\n",
       "26. 'UNIGENE'\n",
       "27. 'UNIPROT'\n",
       "\n",
       "\n"
      ],
      "text/plain": [
       " [1] \"ACCNUM\"       \"ALIAS\"        \"ENSEMBL\"      \"ENSEMBLPROT\"  \"ENSEMBLTRANS\"\n",
       " [6] \"ENTREZID\"     \"ENZYME\"       \"EVIDENCE\"     \"EVIDENCEALL\"  \"GENENAME\"    \n",
       "[11] \"GO\"           \"GOALL\"        \"IPI\"          \"MAP\"          \"OMIM\"        \n",
       "[16] \"ONTOLOGY\"     \"ONTOLOGYALL\"  \"PATH\"         \"PFAM\"         \"PMID\"        \n",
       "[21] \"PROBEID\"      \"PROSITE\"      \"REFSEQ\"       \"SYMBOL\"       \"UCSCKG\"      \n",
       "[26] \"UNIGENE\"      \"UNIPROT\"     "
      ]
     },
     "metadata": {},
     "output_type": "display_data"
    }
   ],
   "source": [
    "keytypes(hgu95av2.db)"
   ]
  },
  {
   "cell_type": "markdown",
   "metadata": {},
   "source": [
    "To start a query, we must choose some \"keys\". For example:"
   ]
  },
  {
   "cell_type": "code",
   "execution_count": 8,
   "metadata": {},
   "outputs": [
    {
     "data": {
      "text/html": [
       "<ol class=list-inline>\n",
       "\t<li>'A1BG'</li>\n",
       "\t<li>'A2M'</li>\n",
       "\t<li>'A2MP1'</li>\n",
       "\t<li>'NAT1'</li>\n",
       "\t<li>'NAT2'</li>\n",
       "\t<li>'NATP'</li>\n",
       "</ol>\n"
      ],
      "text/latex": [
       "\\begin{enumerate*}\n",
       "\\item 'A1BG'\n",
       "\\item 'A2M'\n",
       "\\item 'A2MP1'\n",
       "\\item 'NAT1'\n",
       "\\item 'NAT2'\n",
       "\\item 'NATP'\n",
       "\\end{enumerate*}\n"
      ],
      "text/markdown": [
       "1. 'A1BG'\n",
       "2. 'A2M'\n",
       "3. 'A2MP1'\n",
       "4. 'NAT1'\n",
       "5. 'NAT2'\n",
       "6. 'NATP'\n",
       "\n",
       "\n"
      ],
      "text/plain": [
       "[1] \"A1BG\"  \"A2M\"   \"A2MP1\" \"NAT1\"  \"NAT2\"  \"NATP\" "
      ]
     },
     "metadata": {},
     "output_type": "display_data"
    }
   ],
   "source": [
    "head(keys(hgu95av2.db, keytype=\"SYMBOL\"))"
   ]
  },
  {
   "cell_type": "markdown",
   "metadata": {},
   "source": [
    "Finally, we get our information using \"select\":"
   ]
  },
  {
   "cell_type": "code",
   "execution_count": 9,
   "metadata": {},
   "outputs": [
    {
     "name": "stderr",
     "output_type": "stream",
     "text": [
      "'select()' returned 1:many mapping between keys and columns\n"
     ]
    },
    {
     "data": {
      "text/html": [
       "<table>\n",
       "<caption>A data.frame: 11 × 3</caption>\n",
       "<thead>\n",
       "\t<tr><th scope=col>PROBEID</th><th scope=col>SYMBOL</th><th scope=col>GENENAME</th></tr>\n",
       "\t<tr><th scope=col>&lt;chr&gt;</th><th scope=col>&lt;chr&gt;</th><th scope=col>&lt;chr&gt;</th></tr>\n",
       "</thead>\n",
       "<tbody>\n",
       "\t<tr><td>1000_at  </td><td>MAPK3  </td><td>mitogen-activated protein kinase 3                             </td></tr>\n",
       "\t<tr><td>1001_at  </td><td>TIE1   </td><td>tyrosine kinase with immunoglobulin like and EGF like domains 1</td></tr>\n",
       "\t<tr><td>1002_f_at</td><td>CYP2C19</td><td>cytochrome P450 family 2 subfamily C member 19                 </td></tr>\n",
       "\t<tr><td>1003_s_at</td><td>CXCR5  </td><td>C-X-C motif chemokine receptor 5                               </td></tr>\n",
       "\t<tr><td>1004_at  </td><td>CXCR5  </td><td>C-X-C motif chemokine receptor 5                               </td></tr>\n",
       "\t<tr><td>1005_at  </td><td>DUSP1  </td><td>dual specificity phosphatase 1                                 </td></tr>\n",
       "\t<tr><td>1006_at  </td><td>MMP10  </td><td>matrix metallopeptidase 10                                     </td></tr>\n",
       "\t<tr><td>1007_s_at</td><td>DDR1   </td><td>discoidin domain receptor tyrosine kinase 1                    </td></tr>\n",
       "\t<tr><td>1007_s_at</td><td>MIR4640</td><td>microRNA 4640                                                  </td></tr>\n",
       "\t<tr><td>1008_f_at</td><td>EIF2AK2</td><td>eukaryotic translation initiation factor 2 alpha kinase 2      </td></tr>\n",
       "\t<tr><td>1009_at  </td><td>HINT1  </td><td>histidine triad nucleotide binding protein 1                   </td></tr>\n",
       "</tbody>\n",
       "</table>\n"
      ],
      "text/latex": [
       "A data.frame: 11 × 3\n",
       "\\begin{tabular}{r|lll}\n",
       " PROBEID & SYMBOL & GENENAME\\\\\n",
       " <chr> & <chr> & <chr>\\\\\n",
       "\\hline\n",
       "\t 1000\\_at   & MAPK3   & mitogen-activated protein kinase 3                             \\\\\n",
       "\t 1001\\_at   & TIE1    & tyrosine kinase with immunoglobulin like and EGF like domains 1\\\\\n",
       "\t 1002\\_f\\_at & CYP2C19 & cytochrome P450 family 2 subfamily C member 19                 \\\\\n",
       "\t 1003\\_s\\_at & CXCR5   & C-X-C motif chemokine receptor 5                               \\\\\n",
       "\t 1004\\_at   & CXCR5   & C-X-C motif chemokine receptor 5                               \\\\\n",
       "\t 1005\\_at   & DUSP1   & dual specificity phosphatase 1                                 \\\\\n",
       "\t 1006\\_at   & MMP10   & matrix metallopeptidase 10                                     \\\\\n",
       "\t 1007\\_s\\_at & DDR1    & discoidin domain receptor tyrosine kinase 1                    \\\\\n",
       "\t 1007\\_s\\_at & MIR4640 & microRNA 4640                                                  \\\\\n",
       "\t 1008\\_f\\_at & EIF2AK2 & eukaryotic translation initiation factor 2 alpha kinase 2      \\\\\n",
       "\t 1009\\_at   & HINT1   & histidine triad nucleotide binding protein 1                   \\\\\n",
       "\\end{tabular}\n"
      ],
      "text/markdown": [
       "\n",
       "A data.frame: 11 × 3\n",
       "\n",
       "| PROBEID &lt;chr&gt; | SYMBOL &lt;chr&gt; | GENENAME &lt;chr&gt; |\n",
       "|---|---|---|\n",
       "| 1000_at   | MAPK3   | mitogen-activated protein kinase 3                              |\n",
       "| 1001_at   | TIE1    | tyrosine kinase with immunoglobulin like and EGF like domains 1 |\n",
       "| 1002_f_at | CYP2C19 | cytochrome P450 family 2 subfamily C member 19                  |\n",
       "| 1003_s_at | CXCR5   | C-X-C motif chemokine receptor 5                                |\n",
       "| 1004_at   | CXCR5   | C-X-C motif chemokine receptor 5                                |\n",
       "| 1005_at   | DUSP1   | dual specificity phosphatase 1                                  |\n",
       "| 1006_at   | MMP10   | matrix metallopeptidase 10                                      |\n",
       "| 1007_s_at | DDR1    | discoidin domain receptor tyrosine kinase 1                     |\n",
       "| 1007_s_at | MIR4640 | microRNA 4640                                                   |\n",
       "| 1008_f_at | EIF2AK2 | eukaryotic translation initiation factor 2 alpha kinase 2       |\n",
       "| 1009_at   | HINT1   | histidine triad nucleotide binding protein 1                    |\n",
       "\n"
      ],
      "text/plain": [
       "   PROBEID   SYMBOL \n",
       "1  1000_at   MAPK3  \n",
       "2  1001_at   TIE1   \n",
       "3  1002_f_at CYP2C19\n",
       "4  1003_s_at CXCR5  \n",
       "5  1004_at   CXCR5  \n",
       "6  1005_at   DUSP1  \n",
       "7  1006_at   MMP10  \n",
       "8  1007_s_at DDR1   \n",
       "9  1007_s_at MIR4640\n",
       "10 1008_f_at EIF2AK2\n",
       "11 1009_at   HINT1  \n",
       "   GENENAME                                                       \n",
       "1  mitogen-activated protein kinase 3                             \n",
       "2  tyrosine kinase with immunoglobulin like and EGF like domains 1\n",
       "3  cytochrome P450 family 2 subfamily C member 19                 \n",
       "4  C-X-C motif chemokine receptor 5                               \n",
       "5  C-X-C motif chemokine receptor 5                               \n",
       "6  dual specificity phosphatase 1                                 \n",
       "7  matrix metallopeptidase 10                                     \n",
       "8  discoidin domain receptor tyrosine kinase 1                    \n",
       "9  microRNA 4640                                                  \n",
       "10 eukaryotic translation initiation factor 2 alpha kinase 2      \n",
       "11 histidine triad nucleotide binding protein 1                   "
      ]
     },
     "metadata": {},
     "output_type": "display_data"
    }
   ],
   "source": [
    "myKeys = keys(hgu95av2.db,keytype=\"PROBEID\")[1:10]\n",
    "select(hgu95av2.db, keys=myKeys, columns=c(\"SYMBOL\",\"GENENAME\"), keytype=\"PROBEID\")"
   ]
  },
  {
   "cell_type": "markdown",
   "metadata": {},
   "source": [
    "Where can you see a 1:many mapping example?"
   ]
  },
  {
   "cell_type": "markdown",
   "metadata": {},
   "source": [
    "\"_mapIds_\" is useful if we only need to extract one column:"
   ]
  },
  {
   "cell_type": "code",
   "execution_count": 10,
   "metadata": {},
   "outputs": [
    {
     "name": "stderr",
     "output_type": "stream",
     "text": [
      "'select()' returned 1:many mapping between keys and columns\n"
     ]
    },
    {
     "data": {
      "text/html": [
       "<dl class=dl-horizontal>\n",
       "\t<dt>1000_at</dt>\n",
       "\t\t<dd>'mitogen-activated protein kinase 3'</dd>\n",
       "\t<dt>1001_at</dt>\n",
       "\t\t<dd>'tyrosine kinase with immunoglobulin like and EGF like domains 1'</dd>\n",
       "\t<dt>1002_f_at</dt>\n",
       "\t\t<dd>'cytochrome P450 family 2 subfamily C member 19'</dd>\n",
       "\t<dt>1003_s_at</dt>\n",
       "\t\t<dd>'C-X-C motif chemokine receptor 5'</dd>\n",
       "\t<dt>1004_at</dt>\n",
       "\t\t<dd>'C-X-C motif chemokine receptor 5'</dd>\n",
       "\t<dt>1005_at</dt>\n",
       "\t\t<dd>'dual specificity phosphatase 1'</dd>\n",
       "\t<dt>1006_at</dt>\n",
       "\t\t<dd>'matrix metallopeptidase 10'</dd>\n",
       "\t<dt>1007_s_at</dt>\n",
       "\t\t<dd>'discoidin domain receptor tyrosine kinase 1'</dd>\n",
       "\t<dt>1008_f_at</dt>\n",
       "\t\t<dd>'eukaryotic translation initiation factor 2 alpha kinase 2'</dd>\n",
       "\t<dt>1009_at</dt>\n",
       "\t\t<dd>'histidine triad nucleotide binding protein 1'</dd>\n",
       "</dl>\n"
      ],
      "text/latex": [
       "\\begin{description*}\n",
       "\\item[1000\\textbackslash{}\\_at] 'mitogen-activated protein kinase 3'\n",
       "\\item[1001\\textbackslash{}\\_at] 'tyrosine kinase with immunoglobulin like and EGF like domains 1'\n",
       "\\item[1002\\textbackslash{}\\_f\\textbackslash{}\\_at] 'cytochrome P450 family 2 subfamily C member 19'\n",
       "\\item[1003\\textbackslash{}\\_s\\textbackslash{}\\_at] 'C-X-C motif chemokine receptor 5'\n",
       "\\item[1004\\textbackslash{}\\_at] 'C-X-C motif chemokine receptor 5'\n",
       "\\item[1005\\textbackslash{}\\_at] 'dual specificity phosphatase 1'\n",
       "\\item[1006\\textbackslash{}\\_at] 'matrix metallopeptidase 10'\n",
       "\\item[1007\\textbackslash{}\\_s\\textbackslash{}\\_at] 'discoidin domain receptor tyrosine kinase 1'\n",
       "\\item[1008\\textbackslash{}\\_f\\textbackslash{}\\_at] 'eukaryotic translation initiation factor 2 alpha kinase 2'\n",
       "\\item[1009\\textbackslash{}\\_at] 'histidine triad nucleotide binding protein 1'\n",
       "\\end{description*}\n"
      ],
      "text/markdown": [
       "1000_at\n",
       ":   'mitogen-activated protein kinase 3'1001_at\n",
       ":   'tyrosine kinase with immunoglobulin like and EGF like domains 1'1002_f_at\n",
       ":   'cytochrome P450 family 2 subfamily C member 19'1003_s_at\n",
       ":   'C-X-C motif chemokine receptor 5'1004_at\n",
       ":   'C-X-C motif chemokine receptor 5'1005_at\n",
       ":   'dual specificity phosphatase 1'1006_at\n",
       ":   'matrix metallopeptidase 10'1007_s_at\n",
       ":   'discoidin domain receptor tyrosine kinase 1'1008_f_at\n",
       ":   'eukaryotic translation initiation factor 2 alpha kinase 2'1009_at\n",
       ":   'histidine triad nucleotide binding protein 1'\n",
       "\n"
      ],
      "text/plain": [
       "                                                          1000_at \n",
       "                             \"mitogen-activated protein kinase 3\" \n",
       "                                                          1001_at \n",
       "\"tyrosine kinase with immunoglobulin like and EGF like domains 1\" \n",
       "                                                        1002_f_at \n",
       "                 \"cytochrome P450 family 2 subfamily C member 19\" \n",
       "                                                        1003_s_at \n",
       "                               \"C-X-C motif chemokine receptor 5\" \n",
       "                                                          1004_at \n",
       "                               \"C-X-C motif chemokine receptor 5\" \n",
       "                                                          1005_at \n",
       "                                 \"dual specificity phosphatase 1\" \n",
       "                                                          1006_at \n",
       "                                     \"matrix metallopeptidase 10\" \n",
       "                                                        1007_s_at \n",
       "                    \"discoidin domain receptor tyrosine kinase 1\" \n",
       "                                                        1008_f_at \n",
       "      \"eukaryotic translation initiation factor 2 alpha kinase 2\" \n",
       "                                                          1009_at \n",
       "                   \"histidine triad nucleotide binding protein 1\" "
      ]
     },
     "metadata": {},
     "output_type": "display_data"
    }
   ],
   "source": [
    "mapIds(hgu95av2.db, keys=myKeys, column=c(\"GENENAME\"), keytype=\"PROBEID\")"
   ]
  },
  {
   "cell_type": "markdown",
   "metadata": {},
   "source": [
    "_OrgDb objects:_"
   ]
  },
  {
   "cell_type": "markdown",
   "metadata": {},
   "source": [
    "Exactly the same steps can be followed using an OrgDb object:"
   ]
  },
  {
   "cell_type": "code",
   "execution_count": 11,
   "metadata": {},
   "outputs": [
    {
     "data": {
      "text/html": [
       "<ol class=list-inline>\n",
       "\t<li>'ACCNUM'</li>\n",
       "\t<li>'ALIAS'</li>\n",
       "\t<li>'ENSEMBL'</li>\n",
       "\t<li>'ENSEMBLPROT'</li>\n",
       "\t<li>'ENSEMBLTRANS'</li>\n",
       "\t<li>'ENTREZID'</li>\n",
       "\t<li>'ENZYME'</li>\n",
       "\t<li>'EVIDENCE'</li>\n",
       "\t<li>'EVIDENCEALL'</li>\n",
       "\t<li>'GENENAME'</li>\n",
       "\t<li>'GO'</li>\n",
       "\t<li>'GOALL'</li>\n",
       "\t<li>'IPI'</li>\n",
       "\t<li>'MAP'</li>\n",
       "\t<li>'OMIM'</li>\n",
       "\t<li>'ONTOLOGY'</li>\n",
       "\t<li>'ONTOLOGYALL'</li>\n",
       "\t<li>'PATH'</li>\n",
       "\t<li>'PFAM'</li>\n",
       "\t<li>'PMID'</li>\n",
       "\t<li>'PROSITE'</li>\n",
       "\t<li>'REFSEQ'</li>\n",
       "\t<li>'SYMBOL'</li>\n",
       "\t<li>'UCSCKG'</li>\n",
       "\t<li>'UNIGENE'</li>\n",
       "\t<li>'UNIPROT'</li>\n",
       "</ol>\n"
      ],
      "text/latex": [
       "\\begin{enumerate*}\n",
       "\\item 'ACCNUM'\n",
       "\\item 'ALIAS'\n",
       "\\item 'ENSEMBL'\n",
       "\\item 'ENSEMBLPROT'\n",
       "\\item 'ENSEMBLTRANS'\n",
       "\\item 'ENTREZID'\n",
       "\\item 'ENZYME'\n",
       "\\item 'EVIDENCE'\n",
       "\\item 'EVIDENCEALL'\n",
       "\\item 'GENENAME'\n",
       "\\item 'GO'\n",
       "\\item 'GOALL'\n",
       "\\item 'IPI'\n",
       "\\item 'MAP'\n",
       "\\item 'OMIM'\n",
       "\\item 'ONTOLOGY'\n",
       "\\item 'ONTOLOGYALL'\n",
       "\\item 'PATH'\n",
       "\\item 'PFAM'\n",
       "\\item 'PMID'\n",
       "\\item 'PROSITE'\n",
       "\\item 'REFSEQ'\n",
       "\\item 'SYMBOL'\n",
       "\\item 'UCSCKG'\n",
       "\\item 'UNIGENE'\n",
       "\\item 'UNIPROT'\n",
       "\\end{enumerate*}\n"
      ],
      "text/markdown": [
       "1. 'ACCNUM'\n",
       "2. 'ALIAS'\n",
       "3. 'ENSEMBL'\n",
       "4. 'ENSEMBLPROT'\n",
       "5. 'ENSEMBLTRANS'\n",
       "6. 'ENTREZID'\n",
       "7. 'ENZYME'\n",
       "8. 'EVIDENCE'\n",
       "9. 'EVIDENCEALL'\n",
       "10. 'GENENAME'\n",
       "11. 'GO'\n",
       "12. 'GOALL'\n",
       "13. 'IPI'\n",
       "14. 'MAP'\n",
       "15. 'OMIM'\n",
       "16. 'ONTOLOGY'\n",
       "17. 'ONTOLOGYALL'\n",
       "18. 'PATH'\n",
       "19. 'PFAM'\n",
       "20. 'PMID'\n",
       "21. 'PROSITE'\n",
       "22. 'REFSEQ'\n",
       "23. 'SYMBOL'\n",
       "24. 'UCSCKG'\n",
       "25. 'UNIGENE'\n",
       "26. 'UNIPROT'\n",
       "\n",
       "\n"
      ],
      "text/plain": [
       " [1] \"ACCNUM\"       \"ALIAS\"        \"ENSEMBL\"      \"ENSEMBLPROT\"  \"ENSEMBLTRANS\"\n",
       " [6] \"ENTREZID\"     \"ENZYME\"       \"EVIDENCE\"     \"EVIDENCEALL\"  \"GENENAME\"    \n",
       "[11] \"GO\"           \"GOALL\"        \"IPI\"          \"MAP\"          \"OMIM\"        \n",
       "[16] \"ONTOLOGY\"     \"ONTOLOGYALL\"  \"PATH\"         \"PFAM\"         \"PMID\"        \n",
       "[21] \"PROSITE\"      \"REFSEQ\"       \"SYMBOL\"       \"UCSCKG\"       \"UNIGENE\"     \n",
       "[26] \"UNIPROT\"     "
      ]
     },
     "metadata": {},
     "output_type": "display_data"
    },
    {
     "data": {
      "text/html": [
       "<ol class=list-inline>\n",
       "\t<li>'ACCNUM'</li>\n",
       "\t<li>'ALIAS'</li>\n",
       "\t<li>'ENSEMBL'</li>\n",
       "\t<li>'ENSEMBLPROT'</li>\n",
       "\t<li>'ENSEMBLTRANS'</li>\n",
       "\t<li>'ENTREZID'</li>\n",
       "\t<li>'ENZYME'</li>\n",
       "\t<li>'EVIDENCE'</li>\n",
       "\t<li>'EVIDENCEALL'</li>\n",
       "\t<li>'GENENAME'</li>\n",
       "\t<li>'GO'</li>\n",
       "\t<li>'GOALL'</li>\n",
       "\t<li>'IPI'</li>\n",
       "\t<li>'MAP'</li>\n",
       "\t<li>'OMIM'</li>\n",
       "\t<li>'ONTOLOGY'</li>\n",
       "\t<li>'ONTOLOGYALL'</li>\n",
       "\t<li>'PATH'</li>\n",
       "\t<li>'PFAM'</li>\n",
       "\t<li>'PMID'</li>\n",
       "\t<li>'PROSITE'</li>\n",
       "\t<li>'REFSEQ'</li>\n",
       "\t<li>'SYMBOL'</li>\n",
       "\t<li>'UCSCKG'</li>\n",
       "\t<li>'UNIGENE'</li>\n",
       "\t<li>'UNIPROT'</li>\n",
       "</ol>\n"
      ],
      "text/latex": [
       "\\begin{enumerate*}\n",
       "\\item 'ACCNUM'\n",
       "\\item 'ALIAS'\n",
       "\\item 'ENSEMBL'\n",
       "\\item 'ENSEMBLPROT'\n",
       "\\item 'ENSEMBLTRANS'\n",
       "\\item 'ENTREZID'\n",
       "\\item 'ENZYME'\n",
       "\\item 'EVIDENCE'\n",
       "\\item 'EVIDENCEALL'\n",
       "\\item 'GENENAME'\n",
       "\\item 'GO'\n",
       "\\item 'GOALL'\n",
       "\\item 'IPI'\n",
       "\\item 'MAP'\n",
       "\\item 'OMIM'\n",
       "\\item 'ONTOLOGY'\n",
       "\\item 'ONTOLOGYALL'\n",
       "\\item 'PATH'\n",
       "\\item 'PFAM'\n",
       "\\item 'PMID'\n",
       "\\item 'PROSITE'\n",
       "\\item 'REFSEQ'\n",
       "\\item 'SYMBOL'\n",
       "\\item 'UCSCKG'\n",
       "\\item 'UNIGENE'\n",
       "\\item 'UNIPROT'\n",
       "\\end{enumerate*}\n"
      ],
      "text/markdown": [
       "1. 'ACCNUM'\n",
       "2. 'ALIAS'\n",
       "3. 'ENSEMBL'\n",
       "4. 'ENSEMBLPROT'\n",
       "5. 'ENSEMBLTRANS'\n",
       "6. 'ENTREZID'\n",
       "7. 'ENZYME'\n",
       "8. 'EVIDENCE'\n",
       "9. 'EVIDENCEALL'\n",
       "10. 'GENENAME'\n",
       "11. 'GO'\n",
       "12. 'GOALL'\n",
       "13. 'IPI'\n",
       "14. 'MAP'\n",
       "15. 'OMIM'\n",
       "16. 'ONTOLOGY'\n",
       "17. 'ONTOLOGYALL'\n",
       "18. 'PATH'\n",
       "19. 'PFAM'\n",
       "20. 'PMID'\n",
       "21. 'PROSITE'\n",
       "22. 'REFSEQ'\n",
       "23. 'SYMBOL'\n",
       "24. 'UCSCKG'\n",
       "25. 'UNIGENE'\n",
       "26. 'UNIPROT'\n",
       "\n",
       "\n"
      ],
      "text/plain": [
       " [1] \"ACCNUM\"       \"ALIAS\"        \"ENSEMBL\"      \"ENSEMBLPROT\"  \"ENSEMBLTRANS\"\n",
       " [6] \"ENTREZID\"     \"ENZYME\"       \"EVIDENCE\"     \"EVIDENCEALL\"  \"GENENAME\"    \n",
       "[11] \"GO\"           \"GOALL\"        \"IPI\"          \"MAP\"          \"OMIM\"        \n",
       "[16] \"ONTOLOGY\"     \"ONTOLOGYALL\"  \"PATH\"         \"PFAM\"         \"PMID\"        \n",
       "[21] \"PROSITE\"      \"REFSEQ\"       \"SYMBOL\"       \"UCSCKG\"       \"UNIGENE\"     \n",
       "[26] \"UNIPROT\"     "
      ]
     },
     "metadata": {},
     "output_type": "display_data"
    }
   ],
   "source": [
    "library(org.Hs.eg.db, verbose=FALSE)\n",
    "columns(org.Hs.eg.db)\n",
    "keytypes(org.Hs.eg.db)"
   ]
  },
  {
   "cell_type": "markdown",
   "metadata": {},
   "source": [
    "In this case, we can extract the gene symbol and the KEGG pathway for a given UniProt ID:"
   ]
  },
  {
   "cell_type": "code",
   "execution_count": 12,
   "metadata": {},
   "outputs": [
    {
     "name": "stderr",
     "output_type": "stream",
     "text": [
      "'select()' returned 1:many mapping between keys and columns\n"
     ]
    },
    {
     "data": {
      "text/html": [
       "<table>\n",
       "<caption>A data.frame: 12 × 3</caption>\n",
       "<thead>\n",
       "\t<tr><th scope=col>UNIPROT</th><th scope=col>SYMBOL</th><th scope=col>PATH</th></tr>\n",
       "\t<tr><th scope=col>&lt;chr&gt;</th><th scope=col>&lt;chr&gt;</th><th scope=col>&lt;chr&gt;</th></tr>\n",
       "</thead>\n",
       "<tbody>\n",
       "\t<tr><td>P04217</td><td>A1BG</td><td>NA   </td></tr>\n",
       "\t<tr><td>V9HWD8</td><td>A1BG</td><td>NA   </td></tr>\n",
       "\t<tr><td>P01023</td><td>A2M </td><td>04610</td></tr>\n",
       "\t<tr><td>P18440</td><td>NAT1</td><td>00232</td></tr>\n",
       "\t<tr><td>P18440</td><td>NAT1</td><td>00983</td></tr>\n",
       "\t<tr><td>P18440</td><td>NAT1</td><td>01100</td></tr>\n",
       "\t<tr><td>Q400J6</td><td>NAT1</td><td>00232</td></tr>\n",
       "\t<tr><td>Q400J6</td><td>NAT1</td><td>00983</td></tr>\n",
       "\t<tr><td>Q400J6</td><td>NAT1</td><td>01100</td></tr>\n",
       "\t<tr><td>F5H5R8</td><td>NAT1</td><td>00232</td></tr>\n",
       "\t<tr><td>F5H5R8</td><td>NAT1</td><td>00983</td></tr>\n",
       "\t<tr><td>F5H5R8</td><td>NAT1</td><td>01100</td></tr>\n",
       "</tbody>\n",
       "</table>\n"
      ],
      "text/latex": [
       "A data.frame: 12 × 3\n",
       "\\begin{tabular}{r|lll}\n",
       " UNIPROT & SYMBOL & PATH\\\\\n",
       " <chr> & <chr> & <chr>\\\\\n",
       "\\hline\n",
       "\t P04217 & A1BG & NA   \\\\\n",
       "\t V9HWD8 & A1BG & NA   \\\\\n",
       "\t P01023 & A2M  & 04610\\\\\n",
       "\t P18440 & NAT1 & 00232\\\\\n",
       "\t P18440 & NAT1 & 00983\\\\\n",
       "\t P18440 & NAT1 & 01100\\\\\n",
       "\t Q400J6 & NAT1 & 00232\\\\\n",
       "\t Q400J6 & NAT1 & 00983\\\\\n",
       "\t Q400J6 & NAT1 & 01100\\\\\n",
       "\t F5H5R8 & NAT1 & 00232\\\\\n",
       "\t F5H5R8 & NAT1 & 00983\\\\\n",
       "\t F5H5R8 & NAT1 & 01100\\\\\n",
       "\\end{tabular}\n"
      ],
      "text/markdown": [
       "\n",
       "A data.frame: 12 × 3\n",
       "\n",
       "| UNIPROT &lt;chr&gt; | SYMBOL &lt;chr&gt; | PATH &lt;chr&gt; |\n",
       "|---|---|---|\n",
       "| P04217 | A1BG | NA    |\n",
       "| V9HWD8 | A1BG | NA    |\n",
       "| P01023 | A2M  | 04610 |\n",
       "| P18440 | NAT1 | 00232 |\n",
       "| P18440 | NAT1 | 00983 |\n",
       "| P18440 | NAT1 | 01100 |\n",
       "| Q400J6 | NAT1 | 00232 |\n",
       "| Q400J6 | NAT1 | 00983 |\n",
       "| Q400J6 | NAT1 | 01100 |\n",
       "| F5H5R8 | NAT1 | 00232 |\n",
       "| F5H5R8 | NAT1 | 00983 |\n",
       "| F5H5R8 | NAT1 | 01100 |\n",
       "\n"
      ],
      "text/plain": [
       "   UNIPROT SYMBOL PATH \n",
       "1  P04217  A1BG   NA   \n",
       "2  V9HWD8  A1BG   NA   \n",
       "3  P01023  A2M    04610\n",
       "4  P18440  NAT1   00232\n",
       "5  P18440  NAT1   00983\n",
       "6  P18440  NAT1   01100\n",
       "7  Q400J6  NAT1   00232\n",
       "8  Q400J6  NAT1   00983\n",
       "9  Q400J6  NAT1   01100\n",
       "10 F5H5R8  NAT1   00232\n",
       "11 F5H5R8  NAT1   00983\n",
       "12 F5H5R8  NAT1   01100"
      ]
     },
     "metadata": {},
     "output_type": "display_data"
    }
   ],
   "source": [
    "uniKeys <- head(keys(org.Hs.eg.db, keytype=\"UNIPROT\"))\n",
    "select(org.Hs.eg.db, keys=uniKeys, columns=c(\"SYMBOL\", \"PATH\"), keytype=\"UNIPROT\")"
   ]
  },
  {
   "cell_type": "markdown",
   "metadata": {},
   "source": [
    "_GO.db object:_"
   ]
  },
  {
   "cell_type": "markdown",
   "metadata": {},
   "source": [
    "Finally, we can do the same with the GO database object:"
   ]
  },
  {
   "cell_type": "code",
   "execution_count": 13,
   "metadata": {},
   "outputs": [
    {
     "name": "stderr",
     "output_type": "stream",
     "text": [
      "\n"
     ]
    },
    {
     "data": {
      "text/html": [
       "<ol class=list-inline>\n",
       "\t<li>'DEFINITION'</li>\n",
       "\t<li>'GOID'</li>\n",
       "\t<li>'ONTOLOGY'</li>\n",
       "\t<li>'TERM'</li>\n",
       "</ol>\n"
      ],
      "text/latex": [
       "\\begin{enumerate*}\n",
       "\\item 'DEFINITION'\n",
       "\\item 'GOID'\n",
       "\\item 'ONTOLOGY'\n",
       "\\item 'TERM'\n",
       "\\end{enumerate*}\n"
      ],
      "text/markdown": [
       "1. 'DEFINITION'\n",
       "2. 'GOID'\n",
       "3. 'ONTOLOGY'\n",
       "4. 'TERM'\n",
       "\n",
       "\n"
      ],
      "text/plain": [
       "[1] \"DEFINITION\" \"GOID\"       \"ONTOLOGY\"   \"TERM\"      "
      ]
     },
     "metadata": {},
     "output_type": "display_data"
    },
    {
     "data": {
      "text/html": [
       "<ol class=list-inline>\n",
       "\t<li>'DEFINITION'</li>\n",
       "\t<li>'GOID'</li>\n",
       "\t<li>'ONTOLOGY'</li>\n",
       "\t<li>'TERM'</li>\n",
       "</ol>\n"
      ],
      "text/latex": [
       "\\begin{enumerate*}\n",
       "\\item 'DEFINITION'\n",
       "\\item 'GOID'\n",
       "\\item 'ONTOLOGY'\n",
       "\\item 'TERM'\n",
       "\\end{enumerate*}\n"
      ],
      "text/markdown": [
       "1. 'DEFINITION'\n",
       "2. 'GOID'\n",
       "3. 'ONTOLOGY'\n",
       "4. 'TERM'\n",
       "\n",
       "\n"
      ],
      "text/plain": [
       "[1] \"DEFINITION\" \"GOID\"       \"ONTOLOGY\"   \"TERM\"      "
      ]
     },
     "metadata": {},
     "output_type": "display_data"
    }
   ],
   "source": [
    "library(GO.db, verbose=FALSE)\n",
    "columns(GO.db)\n",
    "keytypes(GO.db)"
   ]
  },
  {
   "cell_type": "code",
   "execution_count": 14,
   "metadata": {},
   "outputs": [
    {
     "name": "stderr",
     "output_type": "stream",
     "text": [
      "'select()' returned 1:1 mapping between keys and columns\n"
     ]
    },
    {
     "data": {
      "text/html": [
       "<table>\n",
       "<caption>A data.frame: 2 × 2</caption>\n",
       "<thead>\n",
       "\t<tr><th scope=col>GOID</th><th scope=col>DEFINITION</th></tr>\n",
       "\t<tr><th scope=col>&lt;chr&gt;</th><th scope=col>&lt;chr&gt;</th></tr>\n",
       "</thead>\n",
       "<tbody>\n",
       "\t<tr><td>GO:0042254</td><td>A cellular process that results in the biosynthesis of constituent macromolecules, assembly, and arrangement of constituent parts of ribosome subunits; includes transport to the sites of protein synthesis.     </td></tr>\n",
       "\t<tr><td>GO:0044183</td><td>Interacting selectively and non-covalently with any protein or protein complex (a complex of two or more proteins that may include other nonprotein molecules) that contributes to the process of protein folding.</td></tr>\n",
       "</tbody>\n",
       "</table>\n"
      ],
      "text/latex": [
       "A data.frame: 2 × 2\n",
       "\\begin{tabular}{r|ll}\n",
       " GOID & DEFINITION\\\\\n",
       " <chr> & <chr>\\\\\n",
       "\\hline\n",
       "\t GO:0042254 & A cellular process that results in the biosynthesis of constituent macromolecules, assembly, and arrangement of constituent parts of ribosome subunits; includes transport to the sites of protein synthesis.     \\\\\n",
       "\t GO:0044183 & Interacting selectively and non-covalently with any protein or protein complex (a complex of two or more proteins that may include other nonprotein molecules) that contributes to the process of protein folding.\\\\\n",
       "\\end{tabular}\n"
      ],
      "text/markdown": [
       "\n",
       "A data.frame: 2 × 2\n",
       "\n",
       "| GOID &lt;chr&gt; | DEFINITION &lt;chr&gt; |\n",
       "|---|---|\n",
       "| GO:0042254 | A cellular process that results in the biosynthesis of constituent macromolecules, assembly, and arrangement of constituent parts of ribosome subunits; includes transport to the sites of protein synthesis.      |\n",
       "| GO:0044183 | Interacting selectively and non-covalently with any protein or protein complex (a complex of two or more proteins that may include other nonprotein molecules) that contributes to the process of protein folding. |\n",
       "\n"
      ],
      "text/plain": [
       "  GOID      \n",
       "1 GO:0042254\n",
       "2 GO:0044183\n",
       "  DEFINITION                                                                                                                                                                                                        \n",
       "1 A cellular process that results in the biosynthesis of constituent macromolecules, assembly, and arrangement of constituent parts of ribosome subunits; includes transport to the sites of protein synthesis.     \n",
       "2 Interacting selectively and non-covalently with any protein or protein complex (a complex of two or more proteins that may include other nonprotein molecules) that contributes to the process of protein folding."
      ]
     },
     "metadata": {},
     "output_type": "display_data"
    }
   ],
   "source": [
    "GOIDs <- c(\"GO:0042254\",\"GO:0044183\")\n",
    "select(GO.db, keys=GOIDs, columns=\"DEFINITION\", keytype=\"GOID\")"
   ]
  },
  {
   "cell_type": "markdown",
   "metadata": {},
   "source": [
    "## Exercises:"
   ]
  },
  {
   "cell_type": "markdown",
   "metadata": {},
   "source": [
    "1) Get a table with a gene list with transcriptomics results (example from AnotationDbi package) and add annotation using org.Hs.eg.db.\n",
    "\n",
    "First, we get the gene list:"
   ]
  },
  {
   "cell_type": "code",
   "execution_count": 16,
   "metadata": {},
   "outputs": [
    {
     "data": {
      "text/html": [
       "<table>\n",
       "<caption>A data.frame: 6 × 5</caption>\n",
       "<thead>\n",
       "\t<tr><th></th><th scope=col>logConc</th><th scope=col>logFC</th><th scope=col>LR.statistic</th><th scope=col>PValue</th><th scope=col>FDR</th></tr>\n",
       "\t<tr><th></th><th scope=col>&lt;dbl&gt;</th><th scope=col>&lt;dbl&gt;</th><th scope=col>&lt;dbl&gt;</th><th scope=col>&lt;dbl&gt;</th><th scope=col>&lt;dbl&gt;</th></tr>\n",
       "</thead>\n",
       "<tbody>\n",
       "\t<tr><th scope=row>100418920</th><td> -9.639471</td><td>-4.679498</td><td>378.0732</td><td>3.269307e-84</td><td>2.613484e-80</td></tr>\n",
       "\t<tr><th scope=row>100419779</th><td>-10.638865</td><td>-4.264830</td><td>291.1028</td><td>2.859424e-65</td><td>1.142912e-61</td></tr>\n",
       "\t<tr><th scope=row>100271867</th><td>-11.448981</td><td>-4.009603</td><td>222.3653</td><td>2.757135e-50</td><td>7.346846e-47</td></tr>\n",
       "\t<tr><th scope=row>100287169</th><td>-11.026699</td><td>-3.486593</td><td>206.7771</td><td>6.934967e-47</td><td>1.385953e-43</td></tr>\n",
       "\t<tr><th scope=row>100287735</th><td>-11.036862</td><td> 3.064980</td><td>204.1235</td><td>2.630432e-46</td><td>4.205535e-43</td></tr>\n",
       "\t<tr><th scope=row>100421986</th><td>-12.276297</td><td>-4.695736</td><td>190.5368</td><td>2.427556e-43</td><td>3.234314e-40</td></tr>\n",
       "</tbody>\n",
       "</table>\n"
      ],
      "text/latex": [
       "A data.frame: 6 × 5\n",
       "\\begin{tabular}{r|lllll}\n",
       "  & logConc & logFC & LR.statistic & PValue & FDR\\\\\n",
       "  & <dbl> & <dbl> & <dbl> & <dbl> & <dbl>\\\\\n",
       "\\hline\n",
       "\t100418920 &  -9.639471 & -4.679498 & 378.0732 & 3.269307e-84 & 2.613484e-80\\\\\n",
       "\t100419779 & -10.638865 & -4.264830 & 291.1028 & 2.859424e-65 & 1.142912e-61\\\\\n",
       "\t100271867 & -11.448981 & -4.009603 & 222.3653 & 2.757135e-50 & 7.346846e-47\\\\\n",
       "\t100287169 & -11.026699 & -3.486593 & 206.7771 & 6.934967e-47 & 1.385953e-43\\\\\n",
       "\t100287735 & -11.036862 &  3.064980 & 204.1235 & 2.630432e-46 & 4.205535e-43\\\\\n",
       "\t100421986 & -12.276297 & -4.695736 & 190.5368 & 2.427556e-43 & 3.234314e-40\\\\\n",
       "\\end{tabular}\n"
      ],
      "text/markdown": [
       "\n",
       "A data.frame: 6 × 5\n",
       "\n",
       "| <!--/--> | logConc &lt;dbl&gt; | logFC &lt;dbl&gt; | LR.statistic &lt;dbl&gt; | PValue &lt;dbl&gt; | FDR &lt;dbl&gt; |\n",
       "|---|---|---|---|---|---|\n",
       "| 100418920 |  -9.639471 | -4.679498 | 378.0732 | 3.269307e-84 | 2.613484e-80 |\n",
       "| 100419779 | -10.638865 | -4.264830 | 291.1028 | 2.859424e-65 | 1.142912e-61 |\n",
       "| 100271867 | -11.448981 | -4.009603 | 222.3653 | 2.757135e-50 | 7.346846e-47 |\n",
       "| 100287169 | -11.026699 | -3.486593 | 206.7771 | 6.934967e-47 | 1.385953e-43 |\n",
       "| 100287735 | -11.036862 |  3.064980 | 204.1235 | 2.630432e-46 | 4.205535e-43 |\n",
       "| 100421986 | -12.276297 | -4.695736 | 190.5368 | 2.427556e-43 | 3.234314e-40 |\n",
       "\n"
      ],
      "text/plain": [
       "          logConc    logFC     LR.statistic PValue       FDR         \n",
       "100418920  -9.639471 -4.679498 378.0732     3.269307e-84 2.613484e-80\n",
       "100419779 -10.638865 -4.264830 291.1028     2.859424e-65 1.142912e-61\n",
       "100271867 -11.448981 -4.009603 222.3653     2.757135e-50 7.346846e-47\n",
       "100287169 -11.026699 -3.486593 206.7771     6.934967e-47 1.385953e-43\n",
       "100287735 -11.036862  3.064980 204.1235     2.630432e-46 4.205535e-43\n",
       "100421986 -12.276297 -4.695736 190.5368     2.427556e-43 3.234314e-40"
      ]
     },
     "metadata": {},
     "output_type": "display_data"
    }
   ],
   "source": [
    "load(system.file(\"extdata\", \"resultTable.Rda\", package=\"AnnotationDbi\"))\n",
    "head(resultTable)"
   ]
  },
  {
   "cell_type": "markdown",
   "metadata": {},
   "source": [
    "Now, we find the annotation we want to add:"
   ]
  },
  {
   "cell_type": "code",
   "execution_count": 17,
   "metadata": {},
   "outputs": [
    {
     "name": "stderr",
     "output_type": "stream",
     "text": [
      "'select()' returned 1:1 mapping between keys and columns\n"
     ]
    },
    {
     "data": {
      "text/html": [
       "<table>\n",
       "<caption>A data.frame: 6 × 3</caption>\n",
       "<thead>\n",
       "\t<tr><th scope=col>ENTREZID</th><th scope=col>SYMBOL</th><th scope=col>GENENAME</th></tr>\n",
       "\t<tr><th scope=col>&lt;chr&gt;</th><th scope=col>&lt;chr&gt;</th><th scope=col>&lt;chr&gt;</th></tr>\n",
       "</thead>\n",
       "<tbody>\n",
       "\t<tr><td>100418920</td><td>ACTG1P13    </td><td>actin gamma 1 pseudogene 13             </td></tr>\n",
       "\t<tr><td>100419779</td><td>LOC100419779</td><td>zinc finger protein 195 pseudogene      </td></tr>\n",
       "\t<tr><td>100271867</td><td>MPVQTL1     </td><td>Mean platelet volume QTL1               </td></tr>\n",
       "\t<tr><td>100287169</td><td>NA          </td><td>NA                                      </td></tr>\n",
       "\t<tr><td>100287735</td><td>TTTY13B     </td><td>testis-specific transcript, Y-linked 13B</td></tr>\n",
       "\t<tr><td>100421986</td><td>NA          </td><td>NA                                      </td></tr>\n",
       "</tbody>\n",
       "</table>\n"
      ],
      "text/latex": [
       "A data.frame: 6 × 3\n",
       "\\begin{tabular}{r|lll}\n",
       " ENTREZID & SYMBOL & GENENAME\\\\\n",
       " <chr> & <chr> & <chr>\\\\\n",
       "\\hline\n",
       "\t 100418920 & ACTG1P13     & actin gamma 1 pseudogene 13             \\\\\n",
       "\t 100419779 & LOC100419779 & zinc finger protein 195 pseudogene      \\\\\n",
       "\t 100271867 & MPVQTL1      & Mean platelet volume QTL1               \\\\\n",
       "\t 100287169 & NA           & NA                                      \\\\\n",
       "\t 100287735 & TTTY13B      & testis-specific transcript, Y-linked 13B\\\\\n",
       "\t 100421986 & NA           & NA                                      \\\\\n",
       "\\end{tabular}\n"
      ],
      "text/markdown": [
       "\n",
       "A data.frame: 6 × 3\n",
       "\n",
       "| ENTREZID &lt;chr&gt; | SYMBOL &lt;chr&gt; | GENENAME &lt;chr&gt; |\n",
       "|---|---|---|\n",
       "| 100418920 | ACTG1P13     | actin gamma 1 pseudogene 13              |\n",
       "| 100419779 | LOC100419779 | zinc finger protein 195 pseudogene       |\n",
       "| 100271867 | MPVQTL1      | Mean platelet volume QTL1                |\n",
       "| 100287169 | NA           | NA                                       |\n",
       "| 100287735 | TTTY13B      | testis-specific transcript, Y-linked 13B |\n",
       "| 100421986 | NA           | NA                                       |\n",
       "\n"
      ],
      "text/plain": [
       "  ENTREZID  SYMBOL       GENENAME                                \n",
       "1 100418920 ACTG1P13     actin gamma 1 pseudogene 13             \n",
       "2 100419779 LOC100419779 zinc finger protein 195 pseudogene      \n",
       "3 100271867 MPVQTL1      Mean platelet volume QTL1               \n",
       "4 100287169 NA           NA                                      \n",
       "5 100287735 TTTY13B      testis-specific transcript, Y-linked 13B\n",
       "6 100421986 NA           NA                                      "
      ]
     },
     "metadata": {},
     "output_type": "display_data"
    }
   ],
   "source": [
    "annots <- select(org.Hs.eg.db, keys=rownames(resultTable),columns=c(\"SYMBOL\",\"GENENAME\"), keytype=\"ENTREZID\")\n",
    "head(annots)"
   ]
  },
  {
   "cell_type": "markdown",
   "metadata": {},
   "source": [
    "Finally, we merge the annotation with our table:"
   ]
  },
  {
   "cell_type": "code",
   "execution_count": 18,
   "metadata": {},
   "outputs": [
    {
     "data": {
      "text/html": [
       "<table>\n",
       "<caption>A data.frame: 6 × 8</caption>\n",
       "<thead>\n",
       "\t<tr><th scope=col>Row.names</th><th scope=col>logConc</th><th scope=col>logFC</th><th scope=col>LR.statistic</th><th scope=col>PValue</th><th scope=col>FDR</th><th scope=col>SYMBOL</th><th scope=col>GENENAME</th></tr>\n",
       "\t<tr><th scope=col>&lt;I&lt;chr&gt;&gt;</th><th scope=col>&lt;dbl&gt;</th><th scope=col>&lt;dbl&gt;</th><th scope=col>&lt;dbl&gt;</th><th scope=col>&lt;dbl&gt;</th><th scope=col>&lt;dbl&gt;</th><th scope=col>&lt;chr&gt;</th><th scope=col>&lt;chr&gt;</th></tr>\n",
       "</thead>\n",
       "<tbody>\n",
       "\t<tr><td>100127888</td><td>-10.57050</td><td> 2.758937</td><td>182.8937</td><td>1.131473e-41</td><td>1.130624e-38</td><td>SLCO4A1-AS1 </td><td>SLCO4A1 antisense RNA 1                          </td></tr>\n",
       "\t<tr><td>100131223</td><td>-12.37808</td><td>-4.654318</td><td>179.2331</td><td>7.126423e-41</td><td>6.329847e-38</td><td>LOC100131223</td><td>ADP ribosylation factor like GTPase 8B pseudogene</td></tr>\n",
       "\t<tr><td>100271381</td><td>-12.06340</td><td> 3.511937</td><td>188.4824</td><td>6.817155e-43</td><td>7.785191e-40</td><td>RPS28P8     </td><td>ribosomal protein S28 pseudogene 8               </td></tr>\n",
       "\t<tr><td>100271867</td><td>-11.44898</td><td>-4.009603</td><td>222.3653</td><td>2.757135e-50</td><td>7.346846e-47</td><td>MPVQTL1     </td><td>Mean platelet volume QTL1                        </td></tr>\n",
       "\t<tr><td>100287169</td><td>-11.02670</td><td>-3.486593</td><td>206.7771</td><td>6.934967e-47</td><td>1.385953e-43</td><td>NA          </td><td>NA                                               </td></tr>\n",
       "\t<tr><td>100287735</td><td>-11.03686</td><td> 3.064980</td><td>204.1235</td><td>2.630432e-46</td><td>4.205535e-43</td><td>TTTY13B     </td><td>testis-specific transcript, Y-linked 13B         </td></tr>\n",
       "</tbody>\n",
       "</table>\n"
      ],
      "text/latex": [
       "A data.frame: 6 × 8\n",
       "\\begin{tabular}{r|llllllll}\n",
       " Row.names & logConc & logFC & LR.statistic & PValue & FDR & SYMBOL & GENENAME\\\\\n",
       " <I<chr>> & <dbl> & <dbl> & <dbl> & <dbl> & <dbl> & <chr> & <chr>\\\\\n",
       "\\hline\n",
       "\t 100127888 & -10.57050 &  2.758937 & 182.8937 & 1.131473e-41 & 1.130624e-38 & SLCO4A1-AS1  & SLCO4A1 antisense RNA 1                          \\\\\n",
       "\t 100131223 & -12.37808 & -4.654318 & 179.2331 & 7.126423e-41 & 6.329847e-38 & LOC100131223 & ADP ribosylation factor like GTPase 8B pseudogene\\\\\n",
       "\t 100271381 & -12.06340 &  3.511937 & 188.4824 & 6.817155e-43 & 7.785191e-40 & RPS28P8      & ribosomal protein S28 pseudogene 8               \\\\\n",
       "\t 100271867 & -11.44898 & -4.009603 & 222.3653 & 2.757135e-50 & 7.346846e-47 & MPVQTL1      & Mean platelet volume QTL1                        \\\\\n",
       "\t 100287169 & -11.02670 & -3.486593 & 206.7771 & 6.934967e-47 & 1.385953e-43 & NA           & NA                                               \\\\\n",
       "\t 100287735 & -11.03686 &  3.064980 & 204.1235 & 2.630432e-46 & 4.205535e-43 & TTTY13B      & testis-specific transcript, Y-linked 13B         \\\\\n",
       "\\end{tabular}\n"
      ],
      "text/markdown": [
       "\n",
       "A data.frame: 6 × 8\n",
       "\n",
       "| Row.names &lt;I&lt;chr&gt;&gt; | logConc &lt;dbl&gt; | logFC &lt;dbl&gt; | LR.statistic &lt;dbl&gt; | PValue &lt;dbl&gt; | FDR &lt;dbl&gt; | SYMBOL &lt;chr&gt; | GENENAME &lt;chr&gt; |\n",
       "|---|---|---|---|---|---|---|---|\n",
       "| 100127888 | -10.57050 |  2.758937 | 182.8937 | 1.131473e-41 | 1.130624e-38 | SLCO4A1-AS1  | SLCO4A1 antisense RNA 1                           |\n",
       "| 100131223 | -12.37808 | -4.654318 | 179.2331 | 7.126423e-41 | 6.329847e-38 | LOC100131223 | ADP ribosylation factor like GTPase 8B pseudogene |\n",
       "| 100271381 | -12.06340 |  3.511937 | 188.4824 | 6.817155e-43 | 7.785191e-40 | RPS28P8      | ribosomal protein S28 pseudogene 8                |\n",
       "| 100271867 | -11.44898 | -4.009603 | 222.3653 | 2.757135e-50 | 7.346846e-47 | MPVQTL1      | Mean platelet volume QTL1                         |\n",
       "| 100287169 | -11.02670 | -3.486593 | 206.7771 | 6.934967e-47 | 1.385953e-43 | NA           | NA                                                |\n",
       "| 100287735 | -11.03686 |  3.064980 | 204.1235 | 2.630432e-46 | 4.205535e-43 | TTTY13B      | testis-specific transcript, Y-linked 13B          |\n",
       "\n"
      ],
      "text/plain": [
       "  Row.names logConc   logFC     LR.statistic PValue       FDR         \n",
       "1 100127888 -10.57050  2.758937 182.8937     1.131473e-41 1.130624e-38\n",
       "2 100131223 -12.37808 -4.654318 179.2331     7.126423e-41 6.329847e-38\n",
       "3 100271381 -12.06340  3.511937 188.4824     6.817155e-43 7.785191e-40\n",
       "4 100271867 -11.44898 -4.009603 222.3653     2.757135e-50 7.346846e-47\n",
       "5 100287169 -11.02670 -3.486593 206.7771     6.934967e-47 1.385953e-43\n",
       "6 100287735 -11.03686  3.064980 204.1235     2.630432e-46 4.205535e-43\n",
       "  SYMBOL       GENENAME                                         \n",
       "1 SLCO4A1-AS1  SLCO4A1 antisense RNA 1                          \n",
       "2 LOC100131223 ADP ribosylation factor like GTPase 8B pseudogene\n",
       "3 RPS28P8      ribosomal protein S28 pseudogene 8               \n",
       "4 MPVQTL1      Mean platelet volume QTL1                        \n",
       "5 NA           NA                                               \n",
       "6 TTTY13B      testis-specific transcript, Y-linked 13B         "
      ]
     },
     "metadata": {},
     "output_type": "display_data"
    }
   ],
   "source": [
    "resultTable <- merge(resultTable, annots, by.x=0, by.y=\"ENTREZID\")\n",
    "head(resultTable)"
   ]
  },
  {
   "cell_type": "markdown",
   "metadata": {},
   "source": [
    "2) Another AnnotationDb package is EnsDb (Ensemble). Explore it, using the four basic commands."
   ]
  },
  {
   "cell_type": "code",
   "execution_count": 21,
   "metadata": {},
   "outputs": [
    {
     "name": "stderr",
     "output_type": "stream",
     "text": [
      "Loading required package: ensembldb\n",
      "Loading required package: GenomicRanges\n",
      "Loading required package: GenomeInfoDb\n",
      "Loading required package: GenomicFeatures\n",
      "Loading required package: AnnotationFilter\n",
      "\n",
      "Attaching package: 'ensembldb'\n",
      "\n",
      "The following object is masked from 'package:stats':\n",
      "\n",
      "    filter\n",
      "\n"
     ]
    },
    {
     "data": {
      "text/html": [
       "<ol class=list-inline>\n",
       "\t<li>'ENTREZID'</li>\n",
       "\t<li>'EXONID'</li>\n",
       "\t<li>'EXONIDX'</li>\n",
       "\t<li>'EXONSEQEND'</li>\n",
       "\t<li>'EXONSEQSTART'</li>\n",
       "\t<li>'GENEBIOTYPE'</li>\n",
       "\t<li>'GENEID'</li>\n",
       "\t<li>'GENENAME'</li>\n",
       "\t<li>'GENESEQEND'</li>\n",
       "\t<li>'GENESEQSTART'</li>\n",
       "\t<li>'INTERPROACCESSION'</li>\n",
       "\t<li>'ISCIRCULAR'</li>\n",
       "\t<li>'PROTDOMEND'</li>\n",
       "\t<li>'PROTDOMSTART'</li>\n",
       "\t<li>'PROTEINDOMAINID'</li>\n",
       "\t<li>'PROTEINDOMAINSOURCE'</li>\n",
       "\t<li>'PROTEINID'</li>\n",
       "\t<li>'PROTEINSEQUENCE'</li>\n",
       "\t<li>'SEQCOORDSYSTEM'</li>\n",
       "\t<li>'SEQLENGTH'</li>\n",
       "\t<li>'SEQNAME'</li>\n",
       "\t<li>'SEQSTRAND'</li>\n",
       "\t<li>'SYMBOL'</li>\n",
       "\t<li>'TXBIOTYPE'</li>\n",
       "\t<li>'TXCDSSEQEND'</li>\n",
       "\t<li>'TXCDSSEQSTART'</li>\n",
       "\t<li>'TXID'</li>\n",
       "\t<li>'TXNAME'</li>\n",
       "\t<li>'TXSEQEND'</li>\n",
       "\t<li>'TXSEQSTART'</li>\n",
       "\t<li>'UNIPROTDB'</li>\n",
       "\t<li>'UNIPROTID'</li>\n",
       "\t<li>'UNIPROTMAPPINGTYPE'</li>\n",
       "</ol>\n"
      ],
      "text/latex": [
       "\\begin{enumerate*}\n",
       "\\item 'ENTREZID'\n",
       "\\item 'EXONID'\n",
       "\\item 'EXONIDX'\n",
       "\\item 'EXONSEQEND'\n",
       "\\item 'EXONSEQSTART'\n",
       "\\item 'GENEBIOTYPE'\n",
       "\\item 'GENEID'\n",
       "\\item 'GENENAME'\n",
       "\\item 'GENESEQEND'\n",
       "\\item 'GENESEQSTART'\n",
       "\\item 'INTERPROACCESSION'\n",
       "\\item 'ISCIRCULAR'\n",
       "\\item 'PROTDOMEND'\n",
       "\\item 'PROTDOMSTART'\n",
       "\\item 'PROTEINDOMAINID'\n",
       "\\item 'PROTEINDOMAINSOURCE'\n",
       "\\item 'PROTEINID'\n",
       "\\item 'PROTEINSEQUENCE'\n",
       "\\item 'SEQCOORDSYSTEM'\n",
       "\\item 'SEQLENGTH'\n",
       "\\item 'SEQNAME'\n",
       "\\item 'SEQSTRAND'\n",
       "\\item 'SYMBOL'\n",
       "\\item 'TXBIOTYPE'\n",
       "\\item 'TXCDSSEQEND'\n",
       "\\item 'TXCDSSEQSTART'\n",
       "\\item 'TXID'\n",
       "\\item 'TXNAME'\n",
       "\\item 'TXSEQEND'\n",
       "\\item 'TXSEQSTART'\n",
       "\\item 'UNIPROTDB'\n",
       "\\item 'UNIPROTID'\n",
       "\\item 'UNIPROTMAPPINGTYPE'\n",
       "\\end{enumerate*}\n"
      ],
      "text/markdown": [
       "1. 'ENTREZID'\n",
       "2. 'EXONID'\n",
       "3. 'EXONIDX'\n",
       "4. 'EXONSEQEND'\n",
       "5. 'EXONSEQSTART'\n",
       "6. 'GENEBIOTYPE'\n",
       "7. 'GENEID'\n",
       "8. 'GENENAME'\n",
       "9. 'GENESEQEND'\n",
       "10. 'GENESEQSTART'\n",
       "11. 'INTERPROACCESSION'\n",
       "12. 'ISCIRCULAR'\n",
       "13. 'PROTDOMEND'\n",
       "14. 'PROTDOMSTART'\n",
       "15. 'PROTEINDOMAINID'\n",
       "16. 'PROTEINDOMAINSOURCE'\n",
       "17. 'PROTEINID'\n",
       "18. 'PROTEINSEQUENCE'\n",
       "19. 'SEQCOORDSYSTEM'\n",
       "20. 'SEQLENGTH'\n",
       "21. 'SEQNAME'\n",
       "22. 'SEQSTRAND'\n",
       "23. 'SYMBOL'\n",
       "24. 'TXBIOTYPE'\n",
       "25. 'TXCDSSEQEND'\n",
       "26. 'TXCDSSEQSTART'\n",
       "27. 'TXID'\n",
       "28. 'TXNAME'\n",
       "29. 'TXSEQEND'\n",
       "30. 'TXSEQSTART'\n",
       "31. 'UNIPROTDB'\n",
       "32. 'UNIPROTID'\n",
       "33. 'UNIPROTMAPPINGTYPE'\n",
       "\n",
       "\n"
      ],
      "text/plain": [
       " [1] \"ENTREZID\"            \"EXONID\"              \"EXONIDX\"            \n",
       " [4] \"EXONSEQEND\"          \"EXONSEQSTART\"        \"GENEBIOTYPE\"        \n",
       " [7] \"GENEID\"              \"GENENAME\"            \"GENESEQEND\"         \n",
       "[10] \"GENESEQSTART\"        \"INTERPROACCESSION\"   \"ISCIRCULAR\"         \n",
       "[13] \"PROTDOMEND\"          \"PROTDOMSTART\"        \"PROTEINDOMAINID\"    \n",
       "[16] \"PROTEINDOMAINSOURCE\" \"PROTEINID\"           \"PROTEINSEQUENCE\"    \n",
       "[19] \"SEQCOORDSYSTEM\"      \"SEQLENGTH\"           \"SEQNAME\"            \n",
       "[22] \"SEQSTRAND\"           \"SYMBOL\"              \"TXBIOTYPE\"          \n",
       "[25] \"TXCDSSEQEND\"         \"TXCDSSEQSTART\"       \"TXID\"               \n",
       "[28] \"TXNAME\"              \"TXSEQEND\"            \"TXSEQSTART\"         \n",
       "[31] \"UNIPROTDB\"           \"UNIPROTID\"           \"UNIPROTMAPPINGTYPE\" "
      ]
     },
     "metadata": {},
     "output_type": "display_data"
    },
    {
     "data": {
      "text/html": [
       "<ol class=list-inline>\n",
       "\t<li>'ENTREZID'</li>\n",
       "\t<li>'EXONID'</li>\n",
       "\t<li>'GENEBIOTYPE'</li>\n",
       "\t<li>'GENEID'</li>\n",
       "\t<li>'GENENAME'</li>\n",
       "\t<li>'PROTDOMID'</li>\n",
       "\t<li>'PROTEINDOMAINID'</li>\n",
       "\t<li>'PROTEINDOMAINSOURCE'</li>\n",
       "\t<li>'PROTEINID'</li>\n",
       "\t<li>'SEQNAME'</li>\n",
       "\t<li>'SEQSTRAND'</li>\n",
       "\t<li>'SYMBOL'</li>\n",
       "\t<li>'TXBIOTYPE'</li>\n",
       "\t<li>'TXID'</li>\n",
       "\t<li>'TXNAME'</li>\n",
       "\t<li>'UNIPROTID'</li>\n",
       "</ol>\n"
      ],
      "text/latex": [
       "\\begin{enumerate*}\n",
       "\\item 'ENTREZID'\n",
       "\\item 'EXONID'\n",
       "\\item 'GENEBIOTYPE'\n",
       "\\item 'GENEID'\n",
       "\\item 'GENENAME'\n",
       "\\item 'PROTDOMID'\n",
       "\\item 'PROTEINDOMAINID'\n",
       "\\item 'PROTEINDOMAINSOURCE'\n",
       "\\item 'PROTEINID'\n",
       "\\item 'SEQNAME'\n",
       "\\item 'SEQSTRAND'\n",
       "\\item 'SYMBOL'\n",
       "\\item 'TXBIOTYPE'\n",
       "\\item 'TXID'\n",
       "\\item 'TXNAME'\n",
       "\\item 'UNIPROTID'\n",
       "\\end{enumerate*}\n"
      ],
      "text/markdown": [
       "1. 'ENTREZID'\n",
       "2. 'EXONID'\n",
       "3. 'GENEBIOTYPE'\n",
       "4. 'GENEID'\n",
       "5. 'GENENAME'\n",
       "6. 'PROTDOMID'\n",
       "7. 'PROTEINDOMAINID'\n",
       "8. 'PROTEINDOMAINSOURCE'\n",
       "9. 'PROTEINID'\n",
       "10. 'SEQNAME'\n",
       "11. 'SEQSTRAND'\n",
       "12. 'SYMBOL'\n",
       "13. 'TXBIOTYPE'\n",
       "14. 'TXID'\n",
       "15. 'TXNAME'\n",
       "16. 'UNIPROTID'\n",
       "\n",
       "\n"
      ],
      "text/plain": [
       " [1] \"ENTREZID\"            \"EXONID\"              \"GENEBIOTYPE\"        \n",
       " [4] \"GENEID\"              \"GENENAME\"            \"PROTDOMID\"          \n",
       " [7] \"PROTEINDOMAINID\"     \"PROTEINDOMAINSOURCE\" \"PROTEINID\"          \n",
       "[10] \"SEQNAME\"             \"SEQSTRAND\"           \"SYMBOL\"             \n",
       "[13] \"TXBIOTYPE\"           \"TXID\"                \"TXNAME\"             \n",
       "[16] \"UNIPROTID\"          "
      ]
     },
     "metadata": {},
     "output_type": "display_data"
    }
   ],
   "source": [
    "library(EnsDb.Hsapiens.v75, verbose=FALSE)\n",
    "columns(EnsDb.Hsapiens.v75)\n",
    "keytypes(EnsDb.Hsapiens.v75)"
   ]
  },
  {
   "cell_type": "code",
   "execution_count": 22,
   "metadata": {},
   "outputs": [
    {
     "data": {
      "text/html": [
       "<table>\n",
       "<caption>A data.frame: 35 × 4</caption>\n",
       "<thead>\n",
       "\t<tr><th scope=col>GENEID</th><th scope=col>TXID</th><th scope=col>TXSEQSTART</th><th scope=col>TXBIOTYPE</th></tr>\n",
       "\t<tr><th scope=col>&lt;chr&gt;</th><th scope=col>&lt;chr&gt;</th><th scope=col>&lt;int&gt;</th><th scope=col>&lt;chr&gt;</th></tr>\n",
       "</thead>\n",
       "<tbody>\n",
       "\t<tr><td>ENSG00000000003</td><td>ENST00000373020</td><td> 99883667</td><td>protein_coding      </td></tr>\n",
       "\t<tr><td>ENSG00000000003</td><td>ENST00000496771</td><td> 99887538</td><td>processed_transcript</td></tr>\n",
       "\t<tr><td>ENSG00000000003</td><td>ENST00000494424</td><td> 99888439</td><td>processed_transcript</td></tr>\n",
       "\t<tr><td>ENSG00000000005</td><td>ENST00000373031</td><td> 99839799</td><td>protein_coding      </td></tr>\n",
       "\t<tr><td>ENSG00000000005</td><td>ENST00000485971</td><td> 99848621</td><td>processed_transcript</td></tr>\n",
       "\t<tr><td>ENSG00000000419</td><td>ENST00000371588</td><td> 49551404</td><td>protein_coding      </td></tr>\n",
       "\t<tr><td>ENSG00000000419</td><td>ENST00000466152</td><td> 49551404</td><td>processed_transcript</td></tr>\n",
       "\t<tr><td>ENSG00000000419</td><td>ENST00000371582</td><td> 49551404</td><td>protein_coding      </td></tr>\n",
       "\t<tr><td>ENSG00000000419</td><td>ENST00000494752</td><td> 49551433</td><td>processed_transcript</td></tr>\n",
       "\t<tr><td>ENSG00000000419</td><td>ENST00000371584</td><td> 49551482</td><td>protein_coding      </td></tr>\n",
       "\t<tr><td>ENSG00000000419</td><td>ENST00000413082</td><td> 49552685</td><td>protein_coding      </td></tr>\n",
       "\t<tr><td>ENSG00000000419</td><td>ENST00000371583</td><td> 49551490</td><td>protein_coding      </td></tr>\n",
       "\t<tr><td>ENSG00000000457</td><td>ENST00000367771</td><td>169818772</td><td>protein_coding      </td></tr>\n",
       "\t<tr><td>ENSG00000000457</td><td>ENST00000367770</td><td>169822215</td><td>protein_coding      </td></tr>\n",
       "\t<tr><td>ENSG00000000457</td><td>ENST00000423670</td><td>169823652</td><td>protein_coding      </td></tr>\n",
       "\t<tr><td>ENSG00000000457</td><td>ENST00000470238</td><td>169828260</td><td>processed_transcript</td></tr>\n",
       "\t<tr><td>ENSG00000000457</td><td>ENST00000367772</td><td>169821804</td><td>protein_coding      </td></tr>\n",
       "\t<tr><td>ENSG00000000460</td><td>ENST00000498289</td><td>169631245</td><td>processed_transcript</td></tr>\n",
       "\t<tr><td>ENSG00000000460</td><td>ENST00000472795</td><td>169763871</td><td>processed_transcript</td></tr>\n",
       "\t<tr><td>ENSG00000000460</td><td>ENST00000496973</td><td>169764184</td><td>processed_transcript</td></tr>\n",
       "\t<tr><td>ENSG00000000460</td><td>ENST00000481744</td><td>169764184</td><td>processed_transcript</td></tr>\n",
       "\t<tr><td>ENSG00000000460</td><td>ENST00000359326</td><td>169764190</td><td>protein_coding      </td></tr>\n",
       "\t<tr><td>ENSG00000000460</td><td>ENST00000466580</td><td>169764220</td><td>processed_transcript</td></tr>\n",
       "\t<tr><td>ENSG00000000460</td><td>ENST00000459772</td><td>169764220</td><td>processed_transcript</td></tr>\n",
       "\t<tr><td>ENSG00000000460</td><td>ENST00000286031</td><td>169764550</td><td>protein_coding      </td></tr>\n",
       "\t<tr><td>ENSG00000000460</td><td>ENST00000456684</td><td>169764220</td><td>protein_coding      </td></tr>\n",
       "\t<tr><td>ENSG00000000460</td><td>ENST00000413811</td><td>169764181</td><td>protein_coding      </td></tr>\n",
       "\t<tr><td>ENSG00000000938</td><td>ENST00000374005</td><td> 27938575</td><td>protein_coding      </td></tr>\n",
       "\t<tr><td>ENSG00000000938</td><td>ENST00000374004</td><td> 27938811</td><td>protein_coding      </td></tr>\n",
       "\t<tr><td>ENSG00000000938</td><td>ENST00000374003</td><td> 27939180</td><td>protein_coding      </td></tr>\n",
       "\t<tr><td>ENSG00000000938</td><td>ENST00000457296</td><td> 27942025</td><td>protein_coding      </td></tr>\n",
       "\t<tr><td>ENSG00000000938</td><td>ENST00000475472</td><td> 27949895</td><td>processed_transcript</td></tr>\n",
       "\t<tr><td>ENSG00000000938</td><td>ENST00000468038</td><td> 27949918</td><td>processed_transcript</td></tr>\n",
       "\t<tr><td>ENSG00000000938</td><td>ENST00000545953</td><td> 27938803</td><td>protein_coding      </td></tr>\n",
       "\t<tr><td>ENSG00000000938</td><td>ENST00000399173</td><td> 27938803</td><td>protein_coding      </td></tr>\n",
       "</tbody>\n",
       "</table>\n"
      ],
      "text/latex": [
       "A data.frame: 35 × 4\n",
       "\\begin{tabular}{r|llll}\n",
       " GENEID & TXID & TXSEQSTART & TXBIOTYPE\\\\\n",
       " <chr> & <chr> & <int> & <chr>\\\\\n",
       "\\hline\n",
       "\t ENSG00000000003 & ENST00000373020 &  99883667 & protein\\_coding      \\\\\n",
       "\t ENSG00000000003 & ENST00000496771 &  99887538 & processed\\_transcript\\\\\n",
       "\t ENSG00000000003 & ENST00000494424 &  99888439 & processed\\_transcript\\\\\n",
       "\t ENSG00000000005 & ENST00000373031 &  99839799 & protein\\_coding      \\\\\n",
       "\t ENSG00000000005 & ENST00000485971 &  99848621 & processed\\_transcript\\\\\n",
       "\t ENSG00000000419 & ENST00000371588 &  49551404 & protein\\_coding      \\\\\n",
       "\t ENSG00000000419 & ENST00000466152 &  49551404 & processed\\_transcript\\\\\n",
       "\t ENSG00000000419 & ENST00000371582 &  49551404 & protein\\_coding      \\\\\n",
       "\t ENSG00000000419 & ENST00000494752 &  49551433 & processed\\_transcript\\\\\n",
       "\t ENSG00000000419 & ENST00000371584 &  49551482 & protein\\_coding      \\\\\n",
       "\t ENSG00000000419 & ENST00000413082 &  49552685 & protein\\_coding      \\\\\n",
       "\t ENSG00000000419 & ENST00000371583 &  49551490 & protein\\_coding      \\\\\n",
       "\t ENSG00000000457 & ENST00000367771 & 169818772 & protein\\_coding      \\\\\n",
       "\t ENSG00000000457 & ENST00000367770 & 169822215 & protein\\_coding      \\\\\n",
       "\t ENSG00000000457 & ENST00000423670 & 169823652 & protein\\_coding      \\\\\n",
       "\t ENSG00000000457 & ENST00000470238 & 169828260 & processed\\_transcript\\\\\n",
       "\t ENSG00000000457 & ENST00000367772 & 169821804 & protein\\_coding      \\\\\n",
       "\t ENSG00000000460 & ENST00000498289 & 169631245 & processed\\_transcript\\\\\n",
       "\t ENSG00000000460 & ENST00000472795 & 169763871 & processed\\_transcript\\\\\n",
       "\t ENSG00000000460 & ENST00000496973 & 169764184 & processed\\_transcript\\\\\n",
       "\t ENSG00000000460 & ENST00000481744 & 169764184 & processed\\_transcript\\\\\n",
       "\t ENSG00000000460 & ENST00000359326 & 169764190 & protein\\_coding      \\\\\n",
       "\t ENSG00000000460 & ENST00000466580 & 169764220 & processed\\_transcript\\\\\n",
       "\t ENSG00000000460 & ENST00000459772 & 169764220 & processed\\_transcript\\\\\n",
       "\t ENSG00000000460 & ENST00000286031 & 169764550 & protein\\_coding      \\\\\n",
       "\t ENSG00000000460 & ENST00000456684 & 169764220 & protein\\_coding      \\\\\n",
       "\t ENSG00000000460 & ENST00000413811 & 169764181 & protein\\_coding      \\\\\n",
       "\t ENSG00000000938 & ENST00000374005 &  27938575 & protein\\_coding      \\\\\n",
       "\t ENSG00000000938 & ENST00000374004 &  27938811 & protein\\_coding      \\\\\n",
       "\t ENSG00000000938 & ENST00000374003 &  27939180 & protein\\_coding      \\\\\n",
       "\t ENSG00000000938 & ENST00000457296 &  27942025 & protein\\_coding      \\\\\n",
       "\t ENSG00000000938 & ENST00000475472 &  27949895 & processed\\_transcript\\\\\n",
       "\t ENSG00000000938 & ENST00000468038 &  27949918 & processed\\_transcript\\\\\n",
       "\t ENSG00000000938 & ENST00000545953 &  27938803 & protein\\_coding      \\\\\n",
       "\t ENSG00000000938 & ENST00000399173 &  27938803 & protein\\_coding      \\\\\n",
       "\\end{tabular}\n"
      ],
      "text/markdown": [
       "\n",
       "A data.frame: 35 × 4\n",
       "\n",
       "| GENEID &lt;chr&gt; | TXID &lt;chr&gt; | TXSEQSTART &lt;int&gt; | TXBIOTYPE &lt;chr&gt; |\n",
       "|---|---|---|---|\n",
       "| ENSG00000000003 | ENST00000373020 |  99883667 | protein_coding       |\n",
       "| ENSG00000000003 | ENST00000496771 |  99887538 | processed_transcript |\n",
       "| ENSG00000000003 | ENST00000494424 |  99888439 | processed_transcript |\n",
       "| ENSG00000000005 | ENST00000373031 |  99839799 | protein_coding       |\n",
       "| ENSG00000000005 | ENST00000485971 |  99848621 | processed_transcript |\n",
       "| ENSG00000000419 | ENST00000371588 |  49551404 | protein_coding       |\n",
       "| ENSG00000000419 | ENST00000466152 |  49551404 | processed_transcript |\n",
       "| ENSG00000000419 | ENST00000371582 |  49551404 | protein_coding       |\n",
       "| ENSG00000000419 | ENST00000494752 |  49551433 | processed_transcript |\n",
       "| ENSG00000000419 | ENST00000371584 |  49551482 | protein_coding       |\n",
       "| ENSG00000000419 | ENST00000413082 |  49552685 | protein_coding       |\n",
       "| ENSG00000000419 | ENST00000371583 |  49551490 | protein_coding       |\n",
       "| ENSG00000000457 | ENST00000367771 | 169818772 | protein_coding       |\n",
       "| ENSG00000000457 | ENST00000367770 | 169822215 | protein_coding       |\n",
       "| ENSG00000000457 | ENST00000423670 | 169823652 | protein_coding       |\n",
       "| ENSG00000000457 | ENST00000470238 | 169828260 | processed_transcript |\n",
       "| ENSG00000000457 | ENST00000367772 | 169821804 | protein_coding       |\n",
       "| ENSG00000000460 | ENST00000498289 | 169631245 | processed_transcript |\n",
       "| ENSG00000000460 | ENST00000472795 | 169763871 | processed_transcript |\n",
       "| ENSG00000000460 | ENST00000496973 | 169764184 | processed_transcript |\n",
       "| ENSG00000000460 | ENST00000481744 | 169764184 | processed_transcript |\n",
       "| ENSG00000000460 | ENST00000359326 | 169764190 | protein_coding       |\n",
       "| ENSG00000000460 | ENST00000466580 | 169764220 | processed_transcript |\n",
       "| ENSG00000000460 | ENST00000459772 | 169764220 | processed_transcript |\n",
       "| ENSG00000000460 | ENST00000286031 | 169764550 | protein_coding       |\n",
       "| ENSG00000000460 | ENST00000456684 | 169764220 | protein_coding       |\n",
       "| ENSG00000000460 | ENST00000413811 | 169764181 | protein_coding       |\n",
       "| ENSG00000000938 | ENST00000374005 |  27938575 | protein_coding       |\n",
       "| ENSG00000000938 | ENST00000374004 |  27938811 | protein_coding       |\n",
       "| ENSG00000000938 | ENST00000374003 |  27939180 | protein_coding       |\n",
       "| ENSG00000000938 | ENST00000457296 |  27942025 | protein_coding       |\n",
       "| ENSG00000000938 | ENST00000475472 |  27949895 | processed_transcript |\n",
       "| ENSG00000000938 | ENST00000468038 |  27949918 | processed_transcript |\n",
       "| ENSG00000000938 | ENST00000545953 |  27938803 | protein_coding       |\n",
       "| ENSG00000000938 | ENST00000399173 |  27938803 | protein_coding       |\n",
       "\n"
      ],
      "text/plain": [
       "   GENEID          TXID            TXSEQSTART TXBIOTYPE           \n",
       "1  ENSG00000000003 ENST00000373020  99883667  protein_coding      \n",
       "2  ENSG00000000003 ENST00000496771  99887538  processed_transcript\n",
       "3  ENSG00000000003 ENST00000494424  99888439  processed_transcript\n",
       "4  ENSG00000000005 ENST00000373031  99839799  protein_coding      \n",
       "5  ENSG00000000005 ENST00000485971  99848621  processed_transcript\n",
       "6  ENSG00000000419 ENST00000371588  49551404  protein_coding      \n",
       "7  ENSG00000000419 ENST00000466152  49551404  processed_transcript\n",
       "8  ENSG00000000419 ENST00000371582  49551404  protein_coding      \n",
       "9  ENSG00000000419 ENST00000494752  49551433  processed_transcript\n",
       "10 ENSG00000000419 ENST00000371584  49551482  protein_coding      \n",
       "11 ENSG00000000419 ENST00000413082  49552685  protein_coding      \n",
       "12 ENSG00000000419 ENST00000371583  49551490  protein_coding      \n",
       "13 ENSG00000000457 ENST00000367771 169818772  protein_coding      \n",
       "14 ENSG00000000457 ENST00000367770 169822215  protein_coding      \n",
       "15 ENSG00000000457 ENST00000423670 169823652  protein_coding      \n",
       "16 ENSG00000000457 ENST00000470238 169828260  processed_transcript\n",
       "17 ENSG00000000457 ENST00000367772 169821804  protein_coding      \n",
       "18 ENSG00000000460 ENST00000498289 169631245  processed_transcript\n",
       "19 ENSG00000000460 ENST00000472795 169763871  processed_transcript\n",
       "20 ENSG00000000460 ENST00000496973 169764184  processed_transcript\n",
       "21 ENSG00000000460 ENST00000481744 169764184  processed_transcript\n",
       "22 ENSG00000000460 ENST00000359326 169764190  protein_coding      \n",
       "23 ENSG00000000460 ENST00000466580 169764220  processed_transcript\n",
       "24 ENSG00000000460 ENST00000459772 169764220  processed_transcript\n",
       "25 ENSG00000000460 ENST00000286031 169764550  protein_coding      \n",
       "26 ENSG00000000460 ENST00000456684 169764220  protein_coding      \n",
       "27 ENSG00000000460 ENST00000413811 169764181  protein_coding      \n",
       "28 ENSG00000000938 ENST00000374005  27938575  protein_coding      \n",
       "29 ENSG00000000938 ENST00000374004  27938811  protein_coding      \n",
       "30 ENSG00000000938 ENST00000374003  27939180  protein_coding      \n",
       "31 ENSG00000000938 ENST00000457296  27942025  protein_coding      \n",
       "32 ENSG00000000938 ENST00000475472  27949895  processed_transcript\n",
       "33 ENSG00000000938 ENST00000468038  27949918  processed_transcript\n",
       "34 ENSG00000000938 ENST00000545953  27938803  protein_coding      \n",
       "35 ENSG00000000938 ENST00000399173  27938803  protein_coding      "
      ]
     },
     "metadata": {},
     "output_type": "display_data"
    }
   ],
   "source": [
    "keys <- head(keys(EnsDb.Hsapiens.v75, keytype=\"GENEID\"))\n",
    "select(EnsDb.Hsapiens.v75, keys=keys, columns=c(\"TXID\", \"TXSEQSTART\", \"TXBIOTYPE\"),keytype=\"GENEID\")"
   ]
  },
  {
   "cell_type": "markdown",
   "metadata": {},
   "source": [
    "3) Using EnsDb, retrieve the gene IDs of all lincRNAs encoded on chromosome Y:"
   ]
  },
  {
   "cell_type": "code",
   "execution_count": 24,
   "metadata": {},
   "outputs": [
    {
     "data": {
      "text/html": [
       "<table>\n",
       "<caption>A data.frame: 66 × 4</caption>\n",
       "<thead>\n",
       "\t<tr><th scope=col>GENEID</th><th scope=col>TXID</th><th scope=col>TXSEQSTART</th><th scope=col>TXBIOTYPE</th></tr>\n",
       "\t<tr><th scope=col>&lt;chr&gt;</th><th scope=col>&lt;chr&gt;</th><th scope=col>&lt;int&gt;</th><th scope=col>&lt;chr&gt;</th></tr>\n",
       "</thead>\n",
       "<tbody>\n",
       "\t<tr><td>ENSG00000129816</td><td>ENST00000250776</td><td> 6258472</td><td>lincRNA</td></tr>\n",
       "\t<tr><td>ENSG00000129845</td><td>ENST00000250805</td><td> 9590765</td><td>lincRNA</td></tr>\n",
       "\t<tr><td>ENSG00000131538</td><td>ENST00000253838</td><td>24585740</td><td>lincRNA</td></tr>\n",
       "\t<tr><td>ENSG00000131538</td><td>ENST00000538537</td><td>24585887</td><td>lincRNA</td></tr>\n",
       "\t<tr><td>ENSG00000147753</td><td>ENST00000457100</td><td> 6317509</td><td>lincRNA</td></tr>\n",
       "\t<tr><td>ENSG00000147753</td><td>ENST00000276770</td><td> 6317509</td><td>lincRNA</td></tr>\n",
       "\t<tr><td>ENSG00000147753</td><td>ENST00000449828</td><td> 6321946</td><td>lincRNA</td></tr>\n",
       "\t<tr><td>ENSG00000147761</td><td>ENST00000447655</td><td> 9544433</td><td>lincRNA</td></tr>\n",
       "\t<tr><td>ENSG00000147761</td><td>ENST00000276779</td><td> 9544433</td><td>lincRNA</td></tr>\n",
       "\t<tr><td>ENSG00000147761</td><td>ENST00000415405</td><td> 9544433</td><td>lincRNA</td></tr>\n",
       "\t<tr><td>ENSG00000176728</td><td>ENST00000324446</td><td>21034387</td><td>lincRNA</td></tr>\n",
       "\t<tr><td>ENSG00000176728</td><td>ENST00000454875</td><td>21034389</td><td>lincRNA</td></tr>\n",
       "\t<tr><td>ENSG00000176728</td><td>ENST00000452584</td><td>21094203</td><td>lincRNA</td></tr>\n",
       "\t<tr><td>ENSG00000176728</td><td>ENST00000331787</td><td>21094585</td><td>lincRNA</td></tr>\n",
       "\t<tr><td>ENSG00000176728</td><td>ENST00000447937</td><td>21203384</td><td>lincRNA</td></tr>\n",
       "\t<tr><td>ENSG00000180910</td><td>ENST00000253470</td><td> 8651351</td><td>lincRNA</td></tr>\n",
       "\t<tr><td>ENSG00000183385</td><td>ENST00000329684</td><td> 9528709</td><td>lincRNA</td></tr>\n",
       "\t<tr><td>ENSG00000183385</td><td>ENST00000426035</td><td> 9528709</td><td>lincRNA</td></tr>\n",
       "\t<tr><td>ENSG00000184991</td><td>ENST00000330337</td><td>23745486</td><td>lincRNA</td></tr>\n",
       "\t<tr><td>ENSG00000185700</td><td>ENST00000455570</td><td> 6338814</td><td>lincRNA</td></tr>\n",
       "\t<tr><td>ENSG00000185700</td><td>ENST00000328819</td><td> 6339072</td><td>lincRNA</td></tr>\n",
       "\t<tr><td>ENSG00000212855</td><td>ENST00000417072</td><td> 9578193</td><td>lincRNA</td></tr>\n",
       "\t<tr><td>ENSG00000212856</td><td>ENST00000450591</td><td> 6274285</td><td>lincRNA</td></tr>\n",
       "\t<tr><td>ENSG00000215560</td><td>ENST00000400581</td><td>24442945</td><td>lincRNA</td></tr>\n",
       "\t<tr><td>ENSG00000223517</td><td>ENST00000435111</td><td>16388092</td><td>lincRNA</td></tr>\n",
       "\t<tr><td>ENSG00000223641</td><td>ENST00000421387</td><td>27329790</td><td>lincRNA</td></tr>\n",
       "\t<tr><td>ENSG00000224075</td><td>ENST00000445253</td><td> 9638762</td><td>lincRNA</td></tr>\n",
       "\t<tr><td>ENSG00000224989</td><td>ENST00000421205</td><td>19612838</td><td>lincRNA</td></tr>\n",
       "\t<tr><td>ENSG00000225520</td><td>ENST00000437686</td><td> 7567398</td><td>lincRNA</td></tr>\n",
       "\t<tr><td>ENSG00000226362</td><td>ENST00000458627</td><td>20552880</td><td>lincRNA</td></tr>\n",
       "\t<tr><td>...</td><td>...</td><td>...</td><td>...</td></tr>\n",
       "\t<tr><td>ENSG00000228890</td><td>ENST00000430228</td><td> 9555262</td><td>lincRNA</td></tr>\n",
       "\t<tr><td>ENSG00000229236</td><td>ENST00000455084</td><td>22627554</td><td>lincRNA</td></tr>\n",
       "\t<tr><td>ENSG00000229236</td><td>ENST00000439472</td><td>22669140</td><td>lincRNA</td></tr>\n",
       "\t<tr><td>ENSG00000229308</td><td>ENST00000426699</td><td> 3904538</td><td>lincRNA</td></tr>\n",
       "\t<tr><td>ENSG00000229643</td><td>ENST00000439525</td><td> 6225260</td><td>lincRNA</td></tr>\n",
       "\t<tr><td>ENSG00000230663</td><td>ENST00000458667</td><td>19664680</td><td>lincRNA</td></tr>\n",
       "\t<tr><td>ENSG00000231141</td><td>ENST00000417334</td><td>27874637</td><td>lincRNA</td></tr>\n",
       "\t<tr><td>ENSG00000231535</td><td>ENST00000444263</td><td> 2870953</td><td>lincRNA</td></tr>\n",
       "\t<tr><td>ENSG00000231535</td><td>ENST00000425031</td><td> 2871039</td><td>lincRNA</td></tr>\n",
       "\t<tr><td>ENSG00000232348</td><td>ENST00000413486</td><td> 8506335</td><td>lincRNA</td></tr>\n",
       "\t<tr><td>ENSG00000232419</td><td>ENST00000453955</td><td> 8572513</td><td>lincRNA</td></tr>\n",
       "\t<tr><td>ENSG00000233522</td><td>ENST00000419557</td><td>20488139</td><td>lincRNA</td></tr>\n",
       "\t<tr><td>ENSG00000233699</td><td>ENST00000438677</td><td> 8551411</td><td>lincRNA</td></tr>\n",
       "\t<tr><td>ENSG00000233864</td><td>ENST00000457658</td><td>14774265</td><td>lincRNA</td></tr>\n",
       "\t<tr><td>ENSG00000233864</td><td>ENST00000440408</td><td>14774265</td><td>lincRNA</td></tr>\n",
       "\t<tr><td>ENSG00000233864</td><td>ENST00000417071</td><td>14774468</td><td>lincRNA</td></tr>\n",
       "\t<tr><td>ENSG00000233864</td><td>ENST00000543097</td><td>14774284</td><td>lincRNA</td></tr>\n",
       "\t<tr><td>ENSG00000235059</td><td>ENST00000446299</td><td>24585087</td><td>lincRNA</td></tr>\n",
       "\t<tr><td>ENSG00000235059</td><td>ENST00000439653</td><td>24626684</td><td>lincRNA</td></tr>\n",
       "\t<tr><td>ENSG00000235412</td><td>ENST00000420149</td><td>26716349</td><td>lincRNA</td></tr>\n",
       "\t<tr><td>ENSG00000236951</td><td>ENST00000417910</td><td>24246961</td><td>lincRNA</td></tr>\n",
       "\t<tr><td>ENSG00000236951</td><td>ENST00000419158</td><td>24247839</td><td>lincRNA</td></tr>\n",
       "\t<tr><td>ENSG00000237048</td><td>ENST00000413466</td><td> 7672965</td><td>lincRNA</td></tr>\n",
       "\t<tr><td>ENSG00000237069</td><td>ENST00000451467</td><td> 6110487</td><td>lincRNA</td></tr>\n",
       "\t<tr><td>ENSG00000237563</td><td>ENST00000421353</td><td> 6311475</td><td>lincRNA</td></tr>\n",
       "\t<tr><td>ENSG00000239225</td><td>ENST00000452889</td><td> 9748407</td><td>lincRNA</td></tr>\n",
       "\t<tr><td>ENSG00000240450</td><td>ENST00000306641</td><td>27629055</td><td>lincRNA</td></tr>\n",
       "\t<tr><td>ENSG00000251510</td><td>ENST00000510613</td><td>20653626</td><td>lincRNA</td></tr>\n",
       "\t<tr><td>ENSG00000254488</td><td>ENST00000527562</td><td>23200175</td><td>lincRNA</td></tr>\n",
       "\t<tr><td>ENSG00000260197</td><td>ENST00000566193</td><td>21853827</td><td>lincRNA</td></tr>\n",
       "</tbody>\n",
       "</table>\n"
      ],
      "text/latex": [
       "A data.frame: 66 × 4\n",
       "\\begin{tabular}{r|llll}\n",
       " GENEID & TXID & TXSEQSTART & TXBIOTYPE\\\\\n",
       " <chr> & <chr> & <int> & <chr>\\\\\n",
       "\\hline\n",
       "\t ENSG00000129816 & ENST00000250776 &  6258472 & lincRNA\\\\\n",
       "\t ENSG00000129845 & ENST00000250805 &  9590765 & lincRNA\\\\\n",
       "\t ENSG00000131538 & ENST00000253838 & 24585740 & lincRNA\\\\\n",
       "\t ENSG00000131538 & ENST00000538537 & 24585887 & lincRNA\\\\\n",
       "\t ENSG00000147753 & ENST00000457100 &  6317509 & lincRNA\\\\\n",
       "\t ENSG00000147753 & ENST00000276770 &  6317509 & lincRNA\\\\\n",
       "\t ENSG00000147753 & ENST00000449828 &  6321946 & lincRNA\\\\\n",
       "\t ENSG00000147761 & ENST00000447655 &  9544433 & lincRNA\\\\\n",
       "\t ENSG00000147761 & ENST00000276779 &  9544433 & lincRNA\\\\\n",
       "\t ENSG00000147761 & ENST00000415405 &  9544433 & lincRNA\\\\\n",
       "\t ENSG00000176728 & ENST00000324446 & 21034387 & lincRNA\\\\\n",
       "\t ENSG00000176728 & ENST00000454875 & 21034389 & lincRNA\\\\\n",
       "\t ENSG00000176728 & ENST00000452584 & 21094203 & lincRNA\\\\\n",
       "\t ENSG00000176728 & ENST00000331787 & 21094585 & lincRNA\\\\\n",
       "\t ENSG00000176728 & ENST00000447937 & 21203384 & lincRNA\\\\\n",
       "\t ENSG00000180910 & ENST00000253470 &  8651351 & lincRNA\\\\\n",
       "\t ENSG00000183385 & ENST00000329684 &  9528709 & lincRNA\\\\\n",
       "\t ENSG00000183385 & ENST00000426035 &  9528709 & lincRNA\\\\\n",
       "\t ENSG00000184991 & ENST00000330337 & 23745486 & lincRNA\\\\\n",
       "\t ENSG00000185700 & ENST00000455570 &  6338814 & lincRNA\\\\\n",
       "\t ENSG00000185700 & ENST00000328819 &  6339072 & lincRNA\\\\\n",
       "\t ENSG00000212855 & ENST00000417072 &  9578193 & lincRNA\\\\\n",
       "\t ENSG00000212856 & ENST00000450591 &  6274285 & lincRNA\\\\\n",
       "\t ENSG00000215560 & ENST00000400581 & 24442945 & lincRNA\\\\\n",
       "\t ENSG00000223517 & ENST00000435111 & 16388092 & lincRNA\\\\\n",
       "\t ENSG00000223641 & ENST00000421387 & 27329790 & lincRNA\\\\\n",
       "\t ENSG00000224075 & ENST00000445253 &  9638762 & lincRNA\\\\\n",
       "\t ENSG00000224989 & ENST00000421205 & 19612838 & lincRNA\\\\\n",
       "\t ENSG00000225520 & ENST00000437686 &  7567398 & lincRNA\\\\\n",
       "\t ENSG00000226362 & ENST00000458627 & 20552880 & lincRNA\\\\\n",
       "\t ... & ... & ... & ...\\\\\n",
       "\t ENSG00000228890 & ENST00000430228 &  9555262 & lincRNA\\\\\n",
       "\t ENSG00000229236 & ENST00000455084 & 22627554 & lincRNA\\\\\n",
       "\t ENSG00000229236 & ENST00000439472 & 22669140 & lincRNA\\\\\n",
       "\t ENSG00000229308 & ENST00000426699 &  3904538 & lincRNA\\\\\n",
       "\t ENSG00000229643 & ENST00000439525 &  6225260 & lincRNA\\\\\n",
       "\t ENSG00000230663 & ENST00000458667 & 19664680 & lincRNA\\\\\n",
       "\t ENSG00000231141 & ENST00000417334 & 27874637 & lincRNA\\\\\n",
       "\t ENSG00000231535 & ENST00000444263 &  2870953 & lincRNA\\\\\n",
       "\t ENSG00000231535 & ENST00000425031 &  2871039 & lincRNA\\\\\n",
       "\t ENSG00000232348 & ENST00000413486 &  8506335 & lincRNA\\\\\n",
       "\t ENSG00000232419 & ENST00000453955 &  8572513 & lincRNA\\\\\n",
       "\t ENSG00000233522 & ENST00000419557 & 20488139 & lincRNA\\\\\n",
       "\t ENSG00000233699 & ENST00000438677 &  8551411 & lincRNA\\\\\n",
       "\t ENSG00000233864 & ENST00000457658 & 14774265 & lincRNA\\\\\n",
       "\t ENSG00000233864 & ENST00000440408 & 14774265 & lincRNA\\\\\n",
       "\t ENSG00000233864 & ENST00000417071 & 14774468 & lincRNA\\\\\n",
       "\t ENSG00000233864 & ENST00000543097 & 14774284 & lincRNA\\\\\n",
       "\t ENSG00000235059 & ENST00000446299 & 24585087 & lincRNA\\\\\n",
       "\t ENSG00000235059 & ENST00000439653 & 24626684 & lincRNA\\\\\n",
       "\t ENSG00000235412 & ENST00000420149 & 26716349 & lincRNA\\\\\n",
       "\t ENSG00000236951 & ENST00000417910 & 24246961 & lincRNA\\\\\n",
       "\t ENSG00000236951 & ENST00000419158 & 24247839 & lincRNA\\\\\n",
       "\t ENSG00000237048 & ENST00000413466 &  7672965 & lincRNA\\\\\n",
       "\t ENSG00000237069 & ENST00000451467 &  6110487 & lincRNA\\\\\n",
       "\t ENSG00000237563 & ENST00000421353 &  6311475 & lincRNA\\\\\n",
       "\t ENSG00000239225 & ENST00000452889 &  9748407 & lincRNA\\\\\n",
       "\t ENSG00000240450 & ENST00000306641 & 27629055 & lincRNA\\\\\n",
       "\t ENSG00000251510 & ENST00000510613 & 20653626 & lincRNA\\\\\n",
       "\t ENSG00000254488 & ENST00000527562 & 23200175 & lincRNA\\\\\n",
       "\t ENSG00000260197 & ENST00000566193 & 21853827 & lincRNA\\\\\n",
       "\\end{tabular}\n"
      ],
      "text/markdown": [
       "\n",
       "A data.frame: 66 × 4\n",
       "\n",
       "| GENEID &lt;chr&gt; | TXID &lt;chr&gt; | TXSEQSTART &lt;int&gt; | TXBIOTYPE &lt;chr&gt; |\n",
       "|---|---|---|---|\n",
       "| ENSG00000129816 | ENST00000250776 |  6258472 | lincRNA |\n",
       "| ENSG00000129845 | ENST00000250805 |  9590765 | lincRNA |\n",
       "| ENSG00000131538 | ENST00000253838 | 24585740 | lincRNA |\n",
       "| ENSG00000131538 | ENST00000538537 | 24585887 | lincRNA |\n",
       "| ENSG00000147753 | ENST00000457100 |  6317509 | lincRNA |\n",
       "| ENSG00000147753 | ENST00000276770 |  6317509 | lincRNA |\n",
       "| ENSG00000147753 | ENST00000449828 |  6321946 | lincRNA |\n",
       "| ENSG00000147761 | ENST00000447655 |  9544433 | lincRNA |\n",
       "| ENSG00000147761 | ENST00000276779 |  9544433 | lincRNA |\n",
       "| ENSG00000147761 | ENST00000415405 |  9544433 | lincRNA |\n",
       "| ENSG00000176728 | ENST00000324446 | 21034387 | lincRNA |\n",
       "| ENSG00000176728 | ENST00000454875 | 21034389 | lincRNA |\n",
       "| ENSG00000176728 | ENST00000452584 | 21094203 | lincRNA |\n",
       "| ENSG00000176728 | ENST00000331787 | 21094585 | lincRNA |\n",
       "| ENSG00000176728 | ENST00000447937 | 21203384 | lincRNA |\n",
       "| ENSG00000180910 | ENST00000253470 |  8651351 | lincRNA |\n",
       "| ENSG00000183385 | ENST00000329684 |  9528709 | lincRNA |\n",
       "| ENSG00000183385 | ENST00000426035 |  9528709 | lincRNA |\n",
       "| ENSG00000184991 | ENST00000330337 | 23745486 | lincRNA |\n",
       "| ENSG00000185700 | ENST00000455570 |  6338814 | lincRNA |\n",
       "| ENSG00000185700 | ENST00000328819 |  6339072 | lincRNA |\n",
       "| ENSG00000212855 | ENST00000417072 |  9578193 | lincRNA |\n",
       "| ENSG00000212856 | ENST00000450591 |  6274285 | lincRNA |\n",
       "| ENSG00000215560 | ENST00000400581 | 24442945 | lincRNA |\n",
       "| ENSG00000223517 | ENST00000435111 | 16388092 | lincRNA |\n",
       "| ENSG00000223641 | ENST00000421387 | 27329790 | lincRNA |\n",
       "| ENSG00000224075 | ENST00000445253 |  9638762 | lincRNA |\n",
       "| ENSG00000224989 | ENST00000421205 | 19612838 | lincRNA |\n",
       "| ENSG00000225520 | ENST00000437686 |  7567398 | lincRNA |\n",
       "| ENSG00000226362 | ENST00000458627 | 20552880 | lincRNA |\n",
       "| ... | ... | ... | ... |\n",
       "| ENSG00000228890 | ENST00000430228 |  9555262 | lincRNA |\n",
       "| ENSG00000229236 | ENST00000455084 | 22627554 | lincRNA |\n",
       "| ENSG00000229236 | ENST00000439472 | 22669140 | lincRNA |\n",
       "| ENSG00000229308 | ENST00000426699 |  3904538 | lincRNA |\n",
       "| ENSG00000229643 | ENST00000439525 |  6225260 | lincRNA |\n",
       "| ENSG00000230663 | ENST00000458667 | 19664680 | lincRNA |\n",
       "| ENSG00000231141 | ENST00000417334 | 27874637 | lincRNA |\n",
       "| ENSG00000231535 | ENST00000444263 |  2870953 | lincRNA |\n",
       "| ENSG00000231535 | ENST00000425031 |  2871039 | lincRNA |\n",
       "| ENSG00000232348 | ENST00000413486 |  8506335 | lincRNA |\n",
       "| ENSG00000232419 | ENST00000453955 |  8572513 | lincRNA |\n",
       "| ENSG00000233522 | ENST00000419557 | 20488139 | lincRNA |\n",
       "| ENSG00000233699 | ENST00000438677 |  8551411 | lincRNA |\n",
       "| ENSG00000233864 | ENST00000457658 | 14774265 | lincRNA |\n",
       "| ENSG00000233864 | ENST00000440408 | 14774265 | lincRNA |\n",
       "| ENSG00000233864 | ENST00000417071 | 14774468 | lincRNA |\n",
       "| ENSG00000233864 | ENST00000543097 | 14774284 | lincRNA |\n",
       "| ENSG00000235059 | ENST00000446299 | 24585087 | lincRNA |\n",
       "| ENSG00000235059 | ENST00000439653 | 24626684 | lincRNA |\n",
       "| ENSG00000235412 | ENST00000420149 | 26716349 | lincRNA |\n",
       "| ENSG00000236951 | ENST00000417910 | 24246961 | lincRNA |\n",
       "| ENSG00000236951 | ENST00000419158 | 24247839 | lincRNA |\n",
       "| ENSG00000237048 | ENST00000413466 |  7672965 | lincRNA |\n",
       "| ENSG00000237069 | ENST00000451467 |  6110487 | lincRNA |\n",
       "| ENSG00000237563 | ENST00000421353 |  6311475 | lincRNA |\n",
       "| ENSG00000239225 | ENST00000452889 |  9748407 | lincRNA |\n",
       "| ENSG00000240450 | ENST00000306641 | 27629055 | lincRNA |\n",
       "| ENSG00000251510 | ENST00000510613 | 20653626 | lincRNA |\n",
       "| ENSG00000254488 | ENST00000527562 | 23200175 | lincRNA |\n",
       "| ENSG00000260197 | ENST00000566193 | 21853827 | lincRNA |\n",
       "\n"
      ],
      "text/plain": [
       "    GENEID          TXID            TXSEQSTART TXBIOTYPE\n",
       "1   ENSG00000129816 ENST00000250776  6258472   lincRNA  \n",
       "2   ENSG00000129845 ENST00000250805  9590765   lincRNA  \n",
       "3   ENSG00000131538 ENST00000253838 24585740   lincRNA  \n",
       "4   ENSG00000131538 ENST00000538537 24585887   lincRNA  \n",
       "5   ENSG00000147753 ENST00000457100  6317509   lincRNA  \n",
       "6   ENSG00000147753 ENST00000276770  6317509   lincRNA  \n",
       "7   ENSG00000147753 ENST00000449828  6321946   lincRNA  \n",
       "8   ENSG00000147761 ENST00000447655  9544433   lincRNA  \n",
       "9   ENSG00000147761 ENST00000276779  9544433   lincRNA  \n",
       "10  ENSG00000147761 ENST00000415405  9544433   lincRNA  \n",
       "11  ENSG00000176728 ENST00000324446 21034387   lincRNA  \n",
       "12  ENSG00000176728 ENST00000454875 21034389   lincRNA  \n",
       "13  ENSG00000176728 ENST00000452584 21094203   lincRNA  \n",
       "14  ENSG00000176728 ENST00000331787 21094585   lincRNA  \n",
       "15  ENSG00000176728 ENST00000447937 21203384   lincRNA  \n",
       "16  ENSG00000180910 ENST00000253470  8651351   lincRNA  \n",
       "17  ENSG00000183385 ENST00000329684  9528709   lincRNA  \n",
       "18  ENSG00000183385 ENST00000426035  9528709   lincRNA  \n",
       "19  ENSG00000184991 ENST00000330337 23745486   lincRNA  \n",
       "20  ENSG00000185700 ENST00000455570  6338814   lincRNA  \n",
       "21  ENSG00000185700 ENST00000328819  6339072   lincRNA  \n",
       "22  ENSG00000212855 ENST00000417072  9578193   lincRNA  \n",
       "23  ENSG00000212856 ENST00000450591  6274285   lincRNA  \n",
       "24  ENSG00000215560 ENST00000400581 24442945   lincRNA  \n",
       "25  ENSG00000223517 ENST00000435111 16388092   lincRNA  \n",
       "26  ENSG00000223641 ENST00000421387 27329790   lincRNA  \n",
       "27  ENSG00000224075 ENST00000445253  9638762   lincRNA  \n",
       "28  ENSG00000224989 ENST00000421205 19612838   lincRNA  \n",
       "29  ENSG00000225520 ENST00000437686  7567398   lincRNA  \n",
       "30  ENSG00000226362 ENST00000458627 20552880   lincRNA  \n",
       "... ...             ...             ...        ...      \n",
       "37  ENSG00000228890 ENST00000430228  9555262   lincRNA  \n",
       "38  ENSG00000229236 ENST00000455084 22627554   lincRNA  \n",
       "39  ENSG00000229236 ENST00000439472 22669140   lincRNA  \n",
       "40  ENSG00000229308 ENST00000426699  3904538   lincRNA  \n",
       "41  ENSG00000229643 ENST00000439525  6225260   lincRNA  \n",
       "42  ENSG00000230663 ENST00000458667 19664680   lincRNA  \n",
       "43  ENSG00000231141 ENST00000417334 27874637   lincRNA  \n",
       "44  ENSG00000231535 ENST00000444263  2870953   lincRNA  \n",
       "45  ENSG00000231535 ENST00000425031  2871039   lincRNA  \n",
       "46  ENSG00000232348 ENST00000413486  8506335   lincRNA  \n",
       "47  ENSG00000232419 ENST00000453955  8572513   lincRNA  \n",
       "48  ENSG00000233522 ENST00000419557 20488139   lincRNA  \n",
       "49  ENSG00000233699 ENST00000438677  8551411   lincRNA  \n",
       "50  ENSG00000233864 ENST00000457658 14774265   lincRNA  \n",
       "51  ENSG00000233864 ENST00000440408 14774265   lincRNA  \n",
       "52  ENSG00000233864 ENST00000417071 14774468   lincRNA  \n",
       "53  ENSG00000233864 ENST00000543097 14774284   lincRNA  \n",
       "54  ENSG00000235059 ENST00000446299 24585087   lincRNA  \n",
       "55  ENSG00000235059 ENST00000439653 24626684   lincRNA  \n",
       "56  ENSG00000235412 ENST00000420149 26716349   lincRNA  \n",
       "57  ENSG00000236951 ENST00000417910 24246961   lincRNA  \n",
       "58  ENSG00000236951 ENST00000419158 24247839   lincRNA  \n",
       "59  ENSG00000237048 ENST00000413466  7672965   lincRNA  \n",
       "60  ENSG00000237069 ENST00000451467  6110487   lincRNA  \n",
       "61  ENSG00000237563 ENST00000421353  6311475   lincRNA  \n",
       "62  ENSG00000239225 ENST00000452889  9748407   lincRNA  \n",
       "63  ENSG00000240450 ENST00000306641 27629055   lincRNA  \n",
       "64  ENSG00000251510 ENST00000510613 20653626   lincRNA  \n",
       "65  ENSG00000254488 ENST00000527562 23200175   lincRNA  \n",
       "66  ENSG00000260197 ENST00000566193 21853827   lincRNA  "
      ]
     },
     "metadata": {},
     "output_type": "display_data"
    }
   ],
   "source": [
    "lincY <- keys(EnsDb.Hsapiens.v75,filter=list(GeneBiotypeFilter(\"lincRNA\"), SeqNameFilter(\"Y\")))\n",
    "txs <- select(EnsDb.Hsapiens.v75, keys=lincY, columns=c(\"TXID\", \"TXSEQSTART\", \"TXBIOTYPE\"),keytype=\"GENEID\")\n",
    "txs"
   ]
  },
  {
   "cell_type": "markdown",
   "metadata": {},
   "source": [
    "## 1.2) AnnotationHub:"
   ]
  },
  {
   "cell_type": "code",
   "execution_count": 25,
   "metadata": {},
   "outputs": [
    {
     "name": "stderr",
     "output_type": "stream",
     "text": [
      "Loading required package: BiocFileCache\n",
      "Loading required package: dbplyr\n",
      "\n",
      "Attaching package: 'AnnotationHub'\n",
      "\n",
      "The following object is masked from 'package:Biobase':\n",
      "\n",
      "    cache\n",
      "\n"
     ]
    }
   ],
   "source": [
    "library(AnnotationHub)"
   ]
  },
  {
   "cell_type": "markdown",
   "metadata": {},
   "source": [
    "We start by creating an AnnotationHub object:"
   ]
  },
  {
   "cell_type": "code",
   "execution_count": 26,
   "metadata": {},
   "outputs": [
    {
     "name": "stderr",
     "output_type": "stream",
     "text": [
      "Using temporary cache C:\\Users\\admin\\AppData\\Local\\Temp\\RtmpK4ucuT/BiocFileCache\n",
      "snapshotDate(): 2019-05-02\n",
      "Using temporary cache C:\\Users\\admin\\AppData\\Local\\Temp\\RtmpK4ucuT/BiocFileCache\n"
     ]
    }
   ],
   "source": [
    "ah = AnnotationHub()"
   ]
  },
  {
   "cell_type": "markdown",
   "metadata": {},
   "source": [
    "We can see the original databases:"
   ]
  },
  {
   "cell_type": "code",
   "execution_count": 27,
   "metadata": {},
   "outputs": [
    {
     "data": {
      "text/html": [
       "<ol class=list-inline>\n",
       "\t<li>'UCSC'</li>\n",
       "\t<li>'Ensembl'</li>\n",
       "\t<li>'RefNet'</li>\n",
       "\t<li>'Inparanoid8'</li>\n",
       "\t<li>'NHLBI'</li>\n",
       "\t<li>'ChEA'</li>\n",
       "\t<li>'Pazar'</li>\n",
       "\t<li>'NIH Pathway Interaction Database'</li>\n",
       "\t<li>'Haemcode'</li>\n",
       "\t<li>'BroadInstitute'</li>\n",
       "\t<li>'PRIDE'</li>\n",
       "\t<li>'Gencode'</li>\n",
       "\t<li>'CRIBI'</li>\n",
       "\t<li>'Genoscope'</li>\n",
       "\t<li>'MISO, VAST-TOOLS, UCSC'</li>\n",
       "\t<li>'UWashington'</li>\n",
       "\t<li>'Stanford'</li>\n",
       "\t<li>'dbSNP'</li>\n",
       "\t<li>'BioMart'</li>\n",
       "\t<li>'GeneOntology'</li>\n",
       "\t<li>'KEGG'</li>\n",
       "\t<li>'URGI'</li>\n",
       "\t<li>'EMBL-EBI'</li>\n",
       "\t<li>'MicrosporidiaDB'</li>\n",
       "\t<li>'FungiDB'</li>\n",
       "\t<li>'TriTrypDB'</li>\n",
       "\t<li>'ToxoDB'</li>\n",
       "\t<li>'AmoebaDB'</li>\n",
       "\t<li>'PlasmoDB'</li>\n",
       "\t<li>'PiroplasmaDB'</li>\n",
       "\t<li>'CryptoDB'</li>\n",
       "\t<li>'TrichDB'</li>\n",
       "\t<li>'GiardiaDB'</li>\n",
       "\t<li>'The Gene Ontology Consortium'</li>\n",
       "\t<li>'DrugBank, Broad Institute, STITCH'</li>\n",
       "\t<li>'GO'</li>\n",
       "\t<li>'Broad Institute'</li>\n",
       "\t<li>'ENCODE Project'</li>\n",
       "\t<li>'ftp://ftp.ncbi.nlm.nih.gov/gene/DATA/'</li>\n",
       "\t<li>'SchistoDB'</li>\n",
       "</ol>\n"
      ],
      "text/latex": [
       "\\begin{enumerate*}\n",
       "\\item 'UCSC'\n",
       "\\item 'Ensembl'\n",
       "\\item 'RefNet'\n",
       "\\item 'Inparanoid8'\n",
       "\\item 'NHLBI'\n",
       "\\item 'ChEA'\n",
       "\\item 'Pazar'\n",
       "\\item 'NIH Pathway Interaction Database'\n",
       "\\item 'Haemcode'\n",
       "\\item 'BroadInstitute'\n",
       "\\item 'PRIDE'\n",
       "\\item 'Gencode'\n",
       "\\item 'CRIBI'\n",
       "\\item 'Genoscope'\n",
       "\\item 'MISO, VAST-TOOLS, UCSC'\n",
       "\\item 'UWashington'\n",
       "\\item 'Stanford'\n",
       "\\item 'dbSNP'\n",
       "\\item 'BioMart'\n",
       "\\item 'GeneOntology'\n",
       "\\item 'KEGG'\n",
       "\\item 'URGI'\n",
       "\\item 'EMBL-EBI'\n",
       "\\item 'MicrosporidiaDB'\n",
       "\\item 'FungiDB'\n",
       "\\item 'TriTrypDB'\n",
       "\\item 'ToxoDB'\n",
       "\\item 'AmoebaDB'\n",
       "\\item 'PlasmoDB'\n",
       "\\item 'PiroplasmaDB'\n",
       "\\item 'CryptoDB'\n",
       "\\item 'TrichDB'\n",
       "\\item 'GiardiaDB'\n",
       "\\item 'The Gene Ontology Consortium'\n",
       "\\item 'DrugBank, Broad Institute, STITCH'\n",
       "\\item 'GO'\n",
       "\\item 'Broad Institute'\n",
       "\\item 'ENCODE Project'\n",
       "\\item 'ftp://ftp.ncbi.nlm.nih.gov/gene/DATA/'\n",
       "\\item 'SchistoDB'\n",
       "\\end{enumerate*}\n"
      ],
      "text/markdown": [
       "1. 'UCSC'\n",
       "2. 'Ensembl'\n",
       "3. 'RefNet'\n",
       "4. 'Inparanoid8'\n",
       "5. 'NHLBI'\n",
       "6. 'ChEA'\n",
       "7. 'Pazar'\n",
       "8. 'NIH Pathway Interaction Database'\n",
       "9. 'Haemcode'\n",
       "10. 'BroadInstitute'\n",
       "11. 'PRIDE'\n",
       "12. 'Gencode'\n",
       "13. 'CRIBI'\n",
       "14. 'Genoscope'\n",
       "15. 'MISO, VAST-TOOLS, UCSC'\n",
       "16. 'UWashington'\n",
       "17. 'Stanford'\n",
       "18. 'dbSNP'\n",
       "19. 'BioMart'\n",
       "20. 'GeneOntology'\n",
       "21. 'KEGG'\n",
       "22. 'URGI'\n",
       "23. 'EMBL-EBI'\n",
       "24. 'MicrosporidiaDB'\n",
       "25. 'FungiDB'\n",
       "26. 'TriTrypDB'\n",
       "27. 'ToxoDB'\n",
       "28. 'AmoebaDB'\n",
       "29. 'PlasmoDB'\n",
       "30. 'PiroplasmaDB'\n",
       "31. 'CryptoDB'\n",
       "32. 'TrichDB'\n",
       "33. 'GiardiaDB'\n",
       "34. 'The Gene Ontology Consortium'\n",
       "35. 'DrugBank, Broad Institute, STITCH'\n",
       "36. 'GO'\n",
       "37. 'Broad Institute'\n",
       "38. 'ENCODE Project'\n",
       "39. 'ftp://ftp.ncbi.nlm.nih.gov/gene/DATA/'\n",
       "40. 'SchistoDB'\n",
       "\n",
       "\n"
      ],
      "text/plain": [
       " [1] \"UCSC\"                                 \n",
       " [2] \"Ensembl\"                              \n",
       " [3] \"RefNet\"                               \n",
       " [4] \"Inparanoid8\"                          \n",
       " [5] \"NHLBI\"                                \n",
       " [6] \"ChEA\"                                 \n",
       " [7] \"Pazar\"                                \n",
       " [8] \"NIH Pathway Interaction Database\"     \n",
       " [9] \"Haemcode\"                             \n",
       "[10] \"BroadInstitute\"                       \n",
       "[11] \"PRIDE\"                                \n",
       "[12] \"Gencode\"                              \n",
       "[13] \"CRIBI\"                                \n",
       "[14] \"Genoscope\"                            \n",
       "[15] \"MISO, VAST-TOOLS, UCSC\"               \n",
       "[16] \"UWashington\"                          \n",
       "[17] \"Stanford\"                             \n",
       "[18] \"dbSNP\"                                \n",
       "[19] \"BioMart\"                              \n",
       "[20] \"GeneOntology\"                         \n",
       "[21] \"KEGG\"                                 \n",
       "[22] \"URGI\"                                 \n",
       "[23] \"EMBL-EBI\"                             \n",
       "[24] \"MicrosporidiaDB\"                      \n",
       "[25] \"FungiDB\"                              \n",
       "[26] \"TriTrypDB\"                            \n",
       "[27] \"ToxoDB\"                               \n",
       "[28] \"AmoebaDB\"                             \n",
       "[29] \"PlasmoDB\"                             \n",
       "[30] \"PiroplasmaDB\"                         \n",
       "[31] \"CryptoDB\"                             \n",
       "[32] \"TrichDB\"                              \n",
       "[33] \"GiardiaDB\"                            \n",
       "[34] \"The Gene Ontology Consortium\"         \n",
       "[35] \"DrugBank, Broad Institute, STITCH\"    \n",
       "[36] \"GO\"                                   \n",
       "[37] \"Broad Institute\"                      \n",
       "[38] \"ENCODE Project\"                       \n",
       "[39] \"ftp://ftp.ncbi.nlm.nih.gov/gene/DATA/\"\n",
       "[40] \"SchistoDB\"                            "
      ]
     },
     "metadata": {},
     "output_type": "display_data"
    }
   ],
   "source": [
    "unique(ah$dataprovider)"
   ]
  },
  {
   "cell_type": "markdown",
   "metadata": {},
   "source": [
    "And also the available species:"
   ]
  },
  {
   "cell_type": "code",
   "execution_count": 28,
   "metadata": {},
   "outputs": [
    {
     "data": {
      "text/html": [
       "<ol class=list-inline>\n",
       "\t<li>'Homo sapiens'</li>\n",
       "\t<li>'Vicugna pacos'</li>\n",
       "\t<li>'Dasypus novemcinctus'</li>\n",
       "\t<li>'Otolemur garnettii'</li>\n",
       "\t<li>'Papio hamadryas'</li>\n",
       "\t<li>'Papio anubis'</li>\n",
       "</ol>\n"
      ],
      "text/latex": [
       "\\begin{enumerate*}\n",
       "\\item 'Homo sapiens'\n",
       "\\item 'Vicugna pacos'\n",
       "\\item 'Dasypus novemcinctus'\n",
       "\\item 'Otolemur garnettii'\n",
       "\\item 'Papio hamadryas'\n",
       "\\item 'Papio anubis'\n",
       "\\end{enumerate*}\n"
      ],
      "text/markdown": [
       "1. 'Homo sapiens'\n",
       "2. 'Vicugna pacos'\n",
       "3. 'Dasypus novemcinctus'\n",
       "4. 'Otolemur garnettii'\n",
       "5. 'Papio hamadryas'\n",
       "6. 'Papio anubis'\n",
       "\n",
       "\n"
      ],
      "text/plain": [
       "[1] \"Homo sapiens\"         \"Vicugna pacos\"        \"Dasypus novemcinctus\"\n",
       "[4] \"Otolemur garnettii\"   \"Papio hamadryas\"      \"Papio anubis\"        "
      ]
     },
     "metadata": {},
     "output_type": "display_data"
    }
   ],
   "source": [
    "head(unique(ah$species))"
   ]
  },
  {
   "cell_type": "markdown",
   "metadata": {},
   "source": [
    "As well as the R data class:"
   ]
  },
  {
   "cell_type": "code",
   "execution_count": 29,
   "metadata": {},
   "outputs": [
    {
     "data": {
      "text/html": [
       "<ol class=list-inline>\n",
       "\t<li>'GRanges'</li>\n",
       "\t<li>'data.frame'</li>\n",
       "\t<li>'Inparanoid8Db'</li>\n",
       "\t<li>'TwoBitFile'</li>\n",
       "\t<li>'ChainFile'</li>\n",
       "\t<li>'SQLiteConnection'</li>\n",
       "</ol>\n"
      ],
      "text/latex": [
       "\\begin{enumerate*}\n",
       "\\item 'GRanges'\n",
       "\\item 'data.frame'\n",
       "\\item 'Inparanoid8Db'\n",
       "\\item 'TwoBitFile'\n",
       "\\item 'ChainFile'\n",
       "\\item 'SQLiteConnection'\n",
       "\\end{enumerate*}\n"
      ],
      "text/markdown": [
       "1. 'GRanges'\n",
       "2. 'data.frame'\n",
       "3. 'Inparanoid8Db'\n",
       "4. 'TwoBitFile'\n",
       "5. 'ChainFile'\n",
       "6. 'SQLiteConnection'\n",
       "\n",
       "\n"
      ],
      "text/plain": [
       "[1] \"GRanges\"          \"data.frame\"       \"Inparanoid8Db\"    \"TwoBitFile\"      \n",
       "[5] \"ChainFile\"        \"SQLiteConnection\""
      ]
     },
     "metadata": {},
     "output_type": "display_data"
    }
   ],
   "source": [
    "head(unique(ah$rdataclass))"
   ]
  },
  {
   "cell_type": "markdown",
   "metadata": {},
   "source": [
    "_Looking for data:_"
   ]
  },
  {
   "cell_type": "markdown",
   "metadata": {},
   "source": [
    "We can make queries for data class. For example, all chain files from _D.melanogaster_ at UCSC; or all files for _Ailuropoda melanoleuca_ (which species is this?) at InParanoid:"
   ]
  },
  {
   "cell_type": "code",
   "execution_count": 30,
   "metadata": {},
   "outputs": [
    {
     "name": "stderr",
     "output_type": "stream",
     "text": [
      "Using temporary cache C:\\Users\\admin\\AppData\\Local\\Temp\\RtmpK4ucuT/BiocFileCache\n"
     ]
    },
    {
     "data": {
      "text/plain": [
       "AnnotationHub with 45 records\n",
       "# snapshotDate(): 2019-05-02 \n",
       "# $dataprovider: UCSC\n",
       "# $species: Drosophila melanogaster\n",
       "# $rdataclass: ChainFile\n",
       "# additional mcols(): taxonomyid, genome, description,\n",
       "#   coordinate_1_based, maintainer, rdatadateadded, preparerclass, tags,\n",
       "#   rdatapath, sourceurl, sourcetype \n",
       "# retrieve records with, e.g., 'object[[\"AH15102\"]]' \n",
       "\n",
       "            title                     \n",
       "  AH15102 | dm3ToAnoGam1.over.chain.gz\n",
       "  AH15103 | dm3ToApiMel3.over.chain.gz\n",
       "  AH15104 | dm3ToDm2.over.chain.gz    \n",
       "  AH15105 | dm3ToDm6.over.chain.gz    \n",
       "  AH15106 | dm3ToDp3.over.chain.gz    \n",
       "  ...       ...                       \n",
       "  AH15142 | dm2ToDroVir3.over.chain.gz\n",
       "  AH15143 | dm2ToDroWil1.over.chain.gz\n",
       "  AH15144 | dm2ToDroYak1.over.chain.gz\n",
       "  AH15145 | dm2ToDroYak2.over.chain.gz\n",
       "  AH15146 | dm1ToDm2.over.chain.gz    "
      ]
     },
     "metadata": {},
     "output_type": "display_data"
    },
    {
     "name": "stderr",
     "output_type": "stream",
     "text": [
      "Using temporary cache C:\\Users\\admin\\AppData\\Local\\Temp\\RtmpK4ucuT/BiocFileCache\n"
     ]
    },
    {
     "data": {
      "text/plain": [
       "AnnotationHub with 1 record\n",
       "# snapshotDate(): 2019-05-02 \n",
       "# names(): AH10451\n",
       "# $dataprovider: Inparanoid8\n",
       "# $species: Ailuropoda melanoleuca\n",
       "# $rdataclass: Inparanoid8Db\n",
       "# $rdatadateadded: 2014-03-31\n",
       "# $title: hom.Ailuropoda_melanoleuca.inp8.sqlite\n",
       "# $description: Inparanoid 8 annotations about Ailuropoda melanoleuca\n",
       "# $taxonomyid: 9646\n",
       "# $genome: inparanoid8 genomes\n",
       "# $sourcetype: Inparanoid\n",
       "# $sourceurl: http://inparanoid.sbc.su.se/download/current/Orthologs/A.melan...\n",
       "# $sourcesize: NA\n",
       "# $tags: c(\"Inparanoid\", \"Gene\", \"Homology\", \"Annotation\") \n",
       "# retrieve record with 'object[[\"AH10451\"]]' "
      ]
     },
     "metadata": {},
     "output_type": "display_data"
    }
   ],
   "source": [
    "dm <- query(ah, c(\"ChainFile\", \"UCSC\", \"Drosophila melanogaster\"))\n",
    "dm\n",
    "ahs <- query(ah, c('inparanoid8', 'ailuropoda'))\n",
    "ahs"
   ]
  },
  {
   "cell_type": "markdown",
   "metadata": {},
   "source": [
    "We can also display the contents in a browser."
   ]
  },
  {
   "cell_type": "code",
   "execution_count": 31,
   "metadata": {},
   "outputs": [
    {
     "name": "stderr",
     "output_type": "stream",
     "text": [
      "Loading required package: shiny\n",
      "\n",
      "Listening on http://127.0.0.1:4878\n"
     ]
    }
   ],
   "source": [
    "d <- display(ah)"
   ]
  },
  {
   "cell_type": "markdown",
   "metadata": {},
   "source": [
    "This is a shiny web page. As you can see, you can perform searches and other operations. Search for the \"AH15146\" record. What kind of file is it?"
   ]
  },
  {
   "cell_type": "markdown",
   "metadata": {},
   "source": [
    "We can also retrieve OrgDb objects:"
   ]
  },
  {
   "cell_type": "code",
   "execution_count": 42,
   "metadata": {},
   "outputs": [
    {
     "name": "stderr",
     "output_type": "stream",
     "text": [
      "Using temporary cache C:\\Users\\admin\\AppData\\Local\\Temp\\RtmpK4ucuT/BiocFileCache\n"
     ]
    },
    {
     "data": {
      "text/plain": [
       "AnnotationHub with 2472 records\n",
       "# snapshotDate(): 2019-05-02 \n",
       "# $dataprovider: ftp://ftp.ncbi.nlm.nih.gov/gene/DATA/, FungiDB, TriTrypDB, ...\n",
       "# $species: Plasmodium falciparum, Trypanosoma cruzi, Cryptosporidium homini...\n",
       "# $rdataclass: OrgDb\n",
       "# additional mcols(): taxonomyid, genome, description,\n",
       "#   coordinate_1_based, maintainer, rdatadateadded, preparerclass, tags,\n",
       "#   rdatapath, sourceurl, sourcetype \n",
       "# retrieve records with, e.g., 'object[[\"AH70563\"]]' \n",
       "\n",
       "            title                                                     \n",
       "  AH70563 | org.Ag.eg.db.sqlite                                       \n",
       "  AH70564 | org.At.tair.db.sqlite                                     \n",
       "  AH70565 | org.Bt.eg.db.sqlite                                       \n",
       "  AH70566 | org.Cf.eg.db.sqlite                                       \n",
       "  AH70567 | org.Gg.eg.db.sqlite                                       \n",
       "  ...       ...                                                       \n",
       "  AH73812 | org.Plasmodium_vivax.eg.sqlite                            \n",
       "  AH73813 | org.Burkholderia_mallei_ATCC_23344.eg.sqlite              \n",
       "  AH73814 | org.Bacillus_cereus_(strain_ATCC_14579_|_DSM_31).eg.sqlite\n",
       "  AH73815 | org.Bacillus_cereus_ATCC_14579.eg.sqlite                  \n",
       "  AH73816 | org.Schizosaccharomyces_cryophilus_OY26.eg.sqlite         "
      ]
     },
     "metadata": {},
     "output_type": "display_data"
    }
   ],
   "source": [
    "query(ah, \"OrgDb\")"
   ]
  },
  {
   "cell_type": "code",
   "execution_count": 43,
   "metadata": {},
   "outputs": [
    {
     "name": "stderr",
     "output_type": "stream",
     "text": [
      "Using temporary cache C:\\Users\\admin\\AppData\\Local\\Temp\\RtmpK4ucuT/BiocFileCache\n",
      "Using temporary cache C:\\Users\\admin\\AppData\\Local\\Temp\\RtmpK4ucuT/BiocFileCache\n",
      "Using temporary cache C:\\Users\\admin\\AppData\\Local\\Temp\\RtmpK4ucuT/BiocFileCache\n",
      "downloading 0 resources\n",
      "Using temporary cache C:\\Users\\admin\\AppData\\Local\\Temp\\RtmpK4ucuT/BiocFileCache\n",
      "loading from cache \n",
      "    'AH70563 : 77309'\n",
      "Using temporary cache C:\\Users\\admin\\AppData\\Local\\Temp\\RtmpK4ucuT/BiocFileCache\n",
      "Using temporary cache C:\\Users\\admin\\AppData\\Local\\Temp\\RtmpK4ucuT/BiocFileCache\n",
      "Using temporary cache C:\\Users\\admin\\AppData\\Local\\Temp\\RtmpK4ucuT/BiocFileCache\n",
      "\n",
      "Please see: help('select') for usage information\n"
     ]
    },
    {
     "data": {
      "text/plain": [
       "OrgDb object:\n",
       "| DBSCHEMAVERSION: 2.1\n",
       "| Db type: OrgDb\n",
       "| Supporting package: AnnotationDbi\n",
       "| DBSCHEMA: ANOPHELES_DB\n",
       "| ORGANISM: Anopheles gambiae\n",
       "| SPECIES: Anopheles\n",
       "| EGSOURCEDATE: 2019-Apr26\n",
       "| EGSOURCENAME: Entrez Gene\n",
       "| EGSOURCEURL: ftp://ftp.ncbi.nlm.nih.gov/gene/DATA\n",
       "| CENTRALID: EG\n",
       "| TAXID: 180454\n",
       "| GOSOURCENAME: Gene Ontology\n",
       "| GOSOURCEURL: ftp://ftp.geneontology.org/pub/go/godatabase/archive/latest-lite/\n",
       "| GOSOURCEDATE: 2019-Apr24\n",
       "| GOEGSOURCEDATE: 2019-Apr26\n",
       "| GOEGSOURCENAME: Entrez Gene\n",
       "| GOEGSOURCEURL: ftp://ftp.ncbi.nlm.nih.gov/gene/DATA\n",
       "| KEGGSOURCENAME: KEGG GENOME\n",
       "| KEGGSOURCEURL: ftp://ftp.genome.jp/pub/kegg/genomes\n",
       "| KEGGSOURCEDATE: 2011-Mar15\n",
       "| GPSOURCENAME: UCSC Genome Bioinformatics (Anopheles gambiae)\n",
       "| GPSOURCEURL: \n",
       "| GPSOURCEDATE: 2018-Oct2\n",
       "| ENSOURCEDATE: 2019-Apr08\n",
       "| ENSOURCENAME: Ensembl\n",
       "| ENSOURCEURL: ftp://ftp.ensembl.org/pub/current_fasta"
      ]
     },
     "metadata": {},
     "output_type": "display_data"
    }
   ],
   "source": [
    "orgdb <- query(ah, c(\"OrgDb\", \"maintainer@bioconductor.org\"))[[1]]\n",
    "orgdb"
   ]
  },
  {
   "cell_type": "markdown",
   "metadata": {},
   "source": [
    "The downloaded object can use \"select\" and all other OrgDb commands."
   ]
  },
  {
   "cell_type": "markdown",
   "metadata": {},
   "source": [
    "To download a RoadMap Epigenomics dataset, we use:"
   ]
  },
  {
   "cell_type": "code",
   "execution_count": 44,
   "metadata": {},
   "outputs": [
    {
     "name": "stderr",
     "output_type": "stream",
     "text": [
      "Using temporary cache C:\\Users\\admin\\AppData\\Local\\Temp\\RtmpK4ucuT/BiocFileCache\n"
     ]
    },
    {
     "data": {
      "text/plain": [
       "AnnotationHub with 18248 records\n",
       "# snapshotDate(): 2019-05-02 \n",
       "# $dataprovider: BroadInstitute\n",
       "# $species: Homo sapiens\n",
       "# $rdataclass: BigWigFile, GRanges, data.frame\n",
       "# additional mcols(): taxonomyid, genome, description,\n",
       "#   coordinate_1_based, maintainer, rdatadateadded, preparerclass, tags,\n",
       "#   rdatapath, sourceurl, sourcetype \n",
       "# retrieve records with, e.g., 'object[[\"AH28856\"]]' \n",
       "\n",
       "            title                                 \n",
       "  AH28856 | E001-H3K4me1.broadPeak.gz             \n",
       "  AH28857 | E001-H3K4me3.broadPeak.gz             \n",
       "  AH28858 | E001-H3K9ac.broadPeak.gz              \n",
       "  AH28859 | E001-H3K9me3.broadPeak.gz             \n",
       "  AH28860 | E001-H3K27me3.broadPeak.gz            \n",
       "  ...       ...                                   \n",
       "  AH49540 | E058_mCRF_FractionalMethylation.bigwig\n",
       "  AH49541 | E059_mCRF_FractionalMethylation.bigwig\n",
       "  AH49542 | E061_mCRF_FractionalMethylation.bigwig\n",
       "  AH49543 | E081_mCRF_FractionalMethylation.bigwig\n",
       "  AH49544 | E082_mCRF_FractionalMethylation.bigwig"
      ]
     },
     "metadata": {},
     "output_type": "display_data"
    }
   ],
   "source": [
    "epiFiles <- query(ah, \"EpigenomeRoadMap\")\n",
    "epiFiles"
   ]
  },
  {
   "cell_type": "markdown",
   "metadata": {},
   "source": [
    "Find all the species, genome versions, and file types in the dataset."
   ]
  },
  {
   "cell_type": "code",
   "execution_count": 45,
   "metadata": {},
   "outputs": [
    {
     "data": {
      "text/html": [
       "'Homo sapiens'"
      ],
      "text/latex": [
       "'Homo sapiens'"
      ],
      "text/markdown": [
       "'Homo sapiens'"
      ],
      "text/plain": [
       "[1] \"Homo sapiens\""
      ]
     },
     "metadata": {},
     "output_type": "display_data"
    },
    {
     "data": {
      "text/html": [
       "'hg19'"
      ],
      "text/latex": [
       "'hg19'"
      ],
      "text/markdown": [
       "'hg19'"
      ],
      "text/plain": [
       "[1] \"hg19\""
      ]
     },
     "metadata": {},
     "output_type": "display_data"
    },
    {
     "data": {
      "text/plain": [
       "\n",
       "   BED BigWig    GTF    tab    Zip \n",
       "  8298   9932      3      1     14 "
      ]
     },
     "metadata": {},
     "output_type": "display_data"
    }
   ],
   "source": [
    "unique(epiFiles$species)\n",
    "unique(epiFiles$genome)\n",
    "table(epiFiles$sourcetype)"
   ]
  },
  {
   "cell_type": "markdown",
   "metadata": {},
   "source": [
    "## Exercises:"
   ]
  },
  {
   "cell_type": "markdown",
   "metadata": {},
   "source": [
    "1) Search after all ChIP-seq files for consolidated epigenomes at Roadmap Epigenomics."
   ]
  },
  {
   "cell_type": "code",
   "execution_count": 46,
   "metadata": {},
   "outputs": [
    {
     "name": "stderr",
     "output_type": "stream",
     "text": [
      "Using temporary cache C:\\Users\\admin\\AppData\\Local\\Temp\\RtmpK4ucuT/BiocFileCache\n"
     ]
    },
    {
     "data": {
      "text/plain": [
       "AnnotationHub with 2534 records\n",
       "# snapshotDate(): 2019-05-02 \n",
       "# $dataprovider: BroadInstitute\n",
       "# $species: Homo sapiens\n",
       "# $rdataclass: GRanges\n",
       "# additional mcols(): taxonomyid, genome, description,\n",
       "#   coordinate_1_based, maintainer, rdatadateadded, preparerclass, tags,\n",
       "#   rdatapath, sourceurl, sourcetype \n",
       "# retrieve records with, e.g., 'object[[\"AH28856\"]]' \n",
       "\n",
       "            title                                                        \n",
       "  AH28856 | E001-H3K4me1.broadPeak.gz                                    \n",
       "  AH28857 | E001-H3K4me3.broadPeak.gz                                    \n",
       "  AH28858 | E001-H3K9ac.broadPeak.gz                                     \n",
       "  AH28859 | E001-H3K9me3.broadPeak.gz                                    \n",
       "  AH28860 | E001-H3K27me3.broadPeak.gz                                   \n",
       "  ...       ...                                                          \n",
       "  AH43381 | UW.Fetal_Thymus.H3K4me3.H-24644.Histone.DS21539.broadPeak.gz \n",
       "  AH43382 | UW.Fetal_Thymus.H3K9me3.H-24644.Histone.DS22904.broadPeak.gz \n",
       "  AH43383 | UW.Fetal_Thymus.H3K27ac.H-24644.Histone.DS21783.broadPeak.gz \n",
       "  AH43384 | UW.Fetal_Thymus.H3K27me3.H-24644.Histone.DS22602.broadPeak.gz\n",
       "  AH43385 | UW.Fetal_Thymus.H3K36me3.H-24644.Histone.DS22603.broadPeak.gz"
      ]
     },
     "metadata": {},
     "output_type": "display_data"
    }
   ],
   "source": [
    "bpChipEpi <- query(ah , c(\"EpigenomeRoadMap\", \"broadPeak\", \"chip\", \"consolidated\"))\n",
    "bpChipEpi"
   ]
  },
  {
   "cell_type": "markdown",
   "metadata": {},
   "source": [
    "2) Search for all bigwig files and all segmentation files at Roadmap Epigenomics."
   ]
  },
  {
   "cell_type": "code",
   "execution_count": 47,
   "metadata": {},
   "outputs": [
    {
     "name": "stderr",
     "output_type": "stream",
     "text": [
      "Using temporary cache C:\\Users\\admin\\AppData\\Local\\Temp\\RtmpK4ucuT/BiocFileCache\n"
     ]
    },
    {
     "data": {
      "text/plain": [
       "AnnotationHub with 9932 records\n",
       "# snapshotDate(): 2019-05-02 \n",
       "# $dataprovider: BroadInstitute\n",
       "# $species: Homo sapiens\n",
       "# $rdataclass: BigWigFile\n",
       "# additional mcols(): taxonomyid, genome, description,\n",
       "#   coordinate_1_based, maintainer, rdatadateadded, preparerclass, tags,\n",
       "#   rdatapath, sourceurl, sourcetype \n",
       "# retrieve records with, e.g., 'object[[\"AH32002\"]]' \n",
       "\n",
       "            title                                 \n",
       "  AH32002 | E001-H3K4me1.fc.signal.bigwig         \n",
       "  AH32003 | E001-H3K4me3.fc.signal.bigwig         \n",
       "  AH32004 | E001-H3K9ac.fc.signal.bigwig          \n",
       "  AH32005 | E001-H3K9me3.fc.signal.bigwig         \n",
       "  AH32006 | E001-H3K27me3.fc.signal.bigwig        \n",
       "  ...       ...                                   \n",
       "  AH49540 | E058_mCRF_FractionalMethylation.bigwig\n",
       "  AH49541 | E059_mCRF_FractionalMethylation.bigwig\n",
       "  AH49542 | E061_mCRF_FractionalMethylation.bigwig\n",
       "  AH49543 | E081_mCRF_FractionalMethylation.bigwig\n",
       "  AH49544 | E082_mCRF_FractionalMethylation.bigwig"
      ]
     },
     "metadata": {},
     "output_type": "display_data"
    },
    {
     "name": "stderr",
     "output_type": "stream",
     "text": [
      "Using temporary cache C:\\Users\\admin\\AppData\\Local\\Temp\\RtmpK4ucuT/BiocFileCache\n"
     ]
    },
    {
     "data": {
      "text/plain": [
       "AnnotationHub with 127 records\n",
       "# snapshotDate(): 2019-05-02 \n",
       "# $dataprovider: BroadInstitute\n",
       "# $species: Homo sapiens\n",
       "# $rdataclass: GRanges\n",
       "# additional mcols(): taxonomyid, genome, description,\n",
       "#   coordinate_1_based, maintainer, rdatadateadded, preparerclass, tags,\n",
       "#   rdatapath, sourceurl, sourcetype \n",
       "# retrieve records with, e.g., 'object[[\"AH46856\"]]' \n",
       "\n",
       "            title                             \n",
       "  AH46856 | E001_15_coreMarks_mnemonics.bed.gz\n",
       "  AH46857 | E002_15_coreMarks_mnemonics.bed.gz\n",
       "  AH46858 | E003_15_coreMarks_mnemonics.bed.gz\n",
       "  AH46859 | E004_15_coreMarks_mnemonics.bed.gz\n",
       "  AH46860 | E005_15_coreMarks_mnemonics.bed.gz\n",
       "  ...       ...                               \n",
       "  AH46978 | E125_15_coreMarks_mnemonics.bed.gz\n",
       "  AH46979 | E126_15_coreMarks_mnemonics.bed.gz\n",
       "  AH46980 | E127_15_coreMarks_mnemonics.bed.gz\n",
       "  AH46981 | E128_15_coreMarks_mnemonics.bed.gz\n",
       "  AH46982 | E129_15_coreMarks_mnemonics.bed.gz"
      ]
     },
     "metadata": {},
     "output_type": "display_data"
    }
   ],
   "source": [
    "allBigWigFiles <- query(ah, c(\"EpigenomeRoadMap\", \"BigWig\"))\n",
    "allBigWigFiles\n",
    "seg <- query(ah, c(\"EpigenomeRoadMap\", \"segmentations\"))\n",
    "seg"
   ]
  },
  {
   "cell_type": "markdown",
   "metadata": {},
   "source": [
    "As you can see, peak files are returned as _GRanges_, while BigWig files are returned as _BigWigFile_ objects which must be downloaded using *rtracklayer*."
   ]
  },
  {
   "cell_type": "markdown",
   "metadata": {},
   "source": [
    " 3) Explore one ChIP-seq file from exercise 1."
   ]
  },
  {
   "cell_type": "code",
   "execution_count": 48,
   "metadata": {},
   "outputs": [
    {
     "name": "stderr",
     "output_type": "stream",
     "text": [
      "Using temporary cache C:\\Users\\admin\\AppData\\Local\\Temp\\RtmpK4ucuT/BiocFileCache\n",
      "Using temporary cache C:\\Users\\admin\\AppData\\Local\\Temp\\RtmpK4ucuT/BiocFileCache\n",
      "downloading 1 resources\n",
      "retrieving 1 resource\n",
      "Using temporary cache C:\\Users\\admin\\AppData\\Local\\Temp\\RtmpK4ucuT/BiocFileCache\n",
      "loading from cache \n",
      "    'AH28856 : 34296'\n",
      "Using temporary cache C:\\Users\\admin\\AppData\\Local\\Temp\\RtmpK4ucuT/BiocFileCache\n",
      "Using temporary cache C:\\Users\\admin\\AppData\\Local\\Temp\\RtmpK4ucuT/BiocFileCache\n",
      "Using temporary cache C:\\Users\\admin\\AppData\\Local\\Temp\\RtmpK4ucuT/BiocFileCache\n"
     ]
    },
    {
     "data": {
      "text/plain": [
       "GRanges object with 355118 ranges and 5 metadata columns:\n",
       "           seqnames              ranges strand |        name     score\n",
       "              <Rle>           <IRanges>  <Rle> | <character> <numeric>\n",
       "       [1]     chr3 195423087-195426700      * |      Rank_1        78\n",
       "       [2]    chr17   41080552-41081406      * |      Rank_2        72\n",
       "       [3]    chr16   65269248-65270757      * |      Rank_3        71\n",
       "       [4]    chr10   46973856-46977224      * |      Rank_4        70\n",
       "       [5]    chr17   48425051-48426662      * |      Rank_5        69\n",
       "       ...      ...                 ...    ... .         ...       ...\n",
       "  [355114]     chr6 100602736-100603151      * | Rank_355114         0\n",
       "  [355115]     chr6   18251768-18251961      * | Rank_355115         0\n",
       "  [355116]     chrX   21444665-21445036      * | Rank_355116         0\n",
       "  [355117]    chr17   77913489-77913735      * | Rank_355117         0\n",
       "  [355118]     chr4     6712348-6712652      * | Rank_355118         0\n",
       "           signalValue    pValue    qValue\n",
       "             <numeric> <numeric> <numeric>\n",
       "       [1]     3.23874  10.67458   7.87721\n",
       "       [2]     3.70866   9.91354   7.23544\n",
       "       [3]     4.42401   9.75522   7.11566\n",
       "       [4]     3.00554   9.70745   7.07189\n",
       "       [5]     3.91848   9.56466   6.93256\n",
       "       ...         ...       ...       ...\n",
       "  [355114]      1.4624   1.00757   0.04592\n",
       "  [355115]      1.4624   1.00757   0.04592\n",
       "  [355116]      1.4624   1.00757   0.04592\n",
       "  [355117]     1.41873   1.00674   0.04497\n",
       "  [355118]     1.41583   1.00665   0.04495\n",
       "  -------\n",
       "  seqinfo: 93 sequences (1 circular) from hg19 genome"
      ]
     },
     "metadata": {},
     "output_type": "display_data"
    }
   ],
   "source": [
    "bpChipEpi[[1]]\n"
   ]
  },
  {
   "cell_type": "markdown",
   "metadata": {},
   "source": [
    "# Part 2. Working with communication:"
   ]
  },
  {
   "cell_type": "markdown",
   "metadata": {},
   "source": [
    "## rtracklayer:"
   ]
  },
  {
   "cell_type": "markdown",
   "metadata": {},
   "source": [
    "As mentioned before, rtracklayer is basically an interface between R and the UCSC genome browser. It is useful to import/export track data, and to control external genome browser sessions."
   ]
  },
  {
   "cell_type": "code",
   "execution_count": 49,
   "metadata": {
    "collapsed": true
   },
   "outputs": [],
   "source": [
    "library(rtracklayer)"
   ]
  },
  {
   "cell_type": "markdown",
   "metadata": {},
   "source": [
    "_Import and Export:_"
   ]
  },
  {
   "cell_type": "markdown",
   "metadata": {},
   "source": [
    "We will start by downloading a file from the UCSC genome browser. Go to: https://genome.ucsc.edu/cgi-bin/hgTables?hgsid=578954849_wF1QP81SIHdfr8b0kmZUOcsZcHYr&clade=mammal&org=Human&db=hg38&hgta_group=regulation&hgta_track=knownGene&hgta_table=0&hgta_regionType=genome&position=chr9%3A133252000-133280861&hgta_outputType=primaryTable&hgta_outFileName="
   ]
  },
  {
   "cell_type": "markdown",
   "metadata": {},
   "source": [
    "Set the output format to \"BED\" and give a name to the output file (\"CpGislands.Hsapiens.hg38.UCSC.bed\"). Save it to your R working directory."
   ]
  },
  {
   "cell_type": "code",
   "execution_count": 52,
   "metadata": {},
   "outputs": [
    {
     "data": {
      "text/plain": [
       "UCSC track 'tb_cpgIslandExt'\n",
       "UCSCData object with 31144 ranges and 1 metadata column:\n",
       "                         seqnames              ranges strand |        name\n",
       "                            <Rle>           <IRanges>  <Rle> | <character>\n",
       "      [1]                    chr1 155188537-155192004      * |    CpG:_361\n",
       "      [2]                    chr1     2226774-2229734      * |    CpG:_366\n",
       "      [3]                    chr1   36306230-36307408      * |    CpG:_110\n",
       "      [4]                    chr1   47708823-47710847      * |    CpG:_164\n",
       "      [5]                    chr1   53737730-53739637      * |    CpG:_221\n",
       "      ...                     ...                 ...    ... .         ...\n",
       "  [31140] chr22_KI270734v1_random       131010-132049      * |    CpG:_102\n",
       "  [31141] chr22_KI270734v1_random       161257-161626      * |     CpG:_55\n",
       "  [31142] chr22_KI270735v1_random         17221-18098      * |    CpG:_100\n",
       "  [31143] chr22_KI270738v1_random           4413-5280      * |     CpG:_80\n",
       "  [31144] chr22_KI270738v1_random           6226-6467      * |     CpG:_34\n",
       "  -------\n",
       "  seqinfo: 332 sequences from an unspecified genome; no seqlengths"
      ]
     },
     "metadata": {},
     "output_type": "display_data"
    }
   ],
   "source": [
    "cpg <- import(\"CpGislands.Hsapiens.hg38.UCSC.bed\")\n",
    "cpg"
   ]
  },
  {
   "cell_type": "markdown",
   "metadata": {},
   "source": [
    "Select a subset of CpG islands:"
   ]
  },
  {
   "cell_type": "code",
   "execution_count": 53,
   "metadata": {},
   "outputs": [
    {
     "data": {
      "text/plain": [
       "UCSC track 'tb_cpgIslandExt'\n",
       "UCSCData object with 4217 ranges and 1 metadata column:\n",
       "         seqnames              ranges strand |        name\n",
       "            <Rle>           <IRanges>  <Rle> | <character>\n",
       "     [1]     chr1 155188537-155192004      * |    CpG:_361\n",
       "     [2]     chr1     2226774-2229734      * |    CpG:_366\n",
       "     [3]     chr1   36306230-36307408      * |    CpG:_110\n",
       "     [4]     chr1   47708823-47710847      * |    CpG:_164\n",
       "     [5]     chr1   53737730-53739637      * |    CpG:_221\n",
       "     ...      ...                 ...    ... .         ...\n",
       "  [4213]     chr2 242003256-242004412      * |     CpG:_79\n",
       "  [4214]     chr2 242006590-242010686      * |    CpG:_263\n",
       "  [4215]     chr2 242045491-242045723      * |     CpG:_16\n",
       "  [4216]     chr2 242046615-242047706      * |    CpG:_170\n",
       "  [4217]     chr2 242088150-242089411      * |    CpG:_149\n",
       "  -------\n",
       "  seqinfo: 332 sequences from an unspecified genome; no seqlengths"
      ]
     },
     "metadata": {},
     "output_type": "display_data"
    }
   ],
   "source": [
    "sub_cpg = subset(cpg, seqnames %in% c(\"chr1\", \"chr2\"))\n",
    "sub_cpg"
   ]
  },
  {
   "cell_type": "markdown",
   "metadata": {},
   "source": [
    "Now we can export that subset to a bed file:"
   ]
  },
  {
   "cell_type": "code",
   "execution_count": 54,
   "metadata": {
    "collapsed": true
   },
   "outputs": [],
   "source": [
    "export(sub_cpg, \"targets.bed\")"
   ]
  },
  {
   "cell_type": "markdown",
   "metadata": {},
   "source": [
    "Go to your working directory and open the bed file."
   ]
  },
  {
   "cell_type": "markdown",
   "metadata": {},
   "source": [
    "_Viewing the targets in a genome browser:_"
   ]
  },
  {
   "cell_type": "markdown",
   "metadata": {},
   "source": [
    "First, we must start a browser session:"
   ]
  },
  {
   "cell_type": "code",
   "execution_count": 55,
   "metadata": {},
   "outputs": [
    {
     "data": {
      "text/html": [
       "'UCSC'"
      ],
      "text/latex": [
       "'UCSC'"
      ],
      "text/markdown": [
       "'UCSC'"
      ],
      "text/plain": [
       "[1] \"UCSC\""
      ]
     },
     "metadata": {},
     "output_type": "display_data"
    }
   ],
   "source": [
    "session <- browserSession(\"UCSC\")\n",
    "genomeBrowsers()"
   ]
  },
  {
   "cell_type": "markdown",
   "metadata": {},
   "source": [
    "Then we load the track into the session:"
   ]
  },
  {
   "cell_type": "code",
   "execution_count": 56,
   "metadata": {
    "collapsed": true
   },
   "outputs": [],
   "source": [
    "track(session, \"targets\") <- sub_cpg"
   ]
  },
  {
   "cell_type": "markdown",
   "metadata": {},
   "source": [
    "And we define a few features to be displayed:"
   ]
  },
  {
   "cell_type": "code",
   "execution_count": 60,
   "metadata": {},
   "outputs": [
    {
     "data": {
      "text/plain": [
       "UCSC track 'tb_cpgIslandExt'\n",
       "UCSCData object with 5 ranges and 1 metadata column:\n",
       "      seqnames              ranges strand |        name\n",
       "         <Rle>           <IRanges>  <Rle> | <character>\n",
       "  [1]     chr1 155188537-155192004      * |    CpG:_361\n",
       "  [2]     chr1     2226774-2229734      * |    CpG:_366\n",
       "  [3]     chr1   36306230-36307408      * |    CpG:_110\n",
       "  [4]     chr1   47708823-47710847      * |    CpG:_164\n",
       "  [5]     chr1   53737730-53739637      * |    CpG:_221\n",
       "  -------\n",
       "  seqinfo: 332 sequences from an unspecified genome; no seqlengths"
      ]
     },
     "metadata": {},
     "output_type": "display_data"
    }
   ],
   "source": [
    "subTargetTrack <- sub_cpg[1:5]\n",
    "subTargetTrack"
   ]
  },
  {
   "cell_type": "markdown",
   "metadata": {},
   "source": [
    "Then, we construct the view of the subtrack, zoomed out by a factor of 10:"
   ]
  },
  {
   "cell_type": "code",
   "execution_count": 61,
   "metadata": {
    "collapsed": true
   },
   "outputs": [],
   "source": [
    "view <- browserView(session, subTargetTrack * -10, pack = \"targets\")"
   ]
  },
  {
   "cell_type": "markdown",
   "metadata": {},
   "source": [
    "We have opened 5 UCSC browser windows, one for each track. Explore what other genomic elements co-exist with the CpG islands.\n",
    "\n",
    "We can also use a shortcut to visualize all 5 tracks:"
   ]
  },
  {
   "cell_type": "code",
   "execution_count": 63,
   "metadata": {},
   "outputs": [
    {
     "name": "stderr",
     "output_type": "stream",
     "text": [
      "Warning message in normGenomeRange(range, session):\n",
      "\"number of ranges (5) exceeds limit of 1\""
     ]
    },
    {
     "data": {
      "text/plain": [
       "A genome browser session of class 'UCSCSession' with 1 views and 123 tracks"
      ]
     },
     "metadata": {},
     "output_type": "display_data"
    }
   ],
   "source": [
    "browseGenome(subTargetTrack, range = subTargetTrack * -10)"
   ]
  },
  {
   "cell_type": "markdown",
   "metadata": {},
   "source": [
    "_Getting information from the genome browser:_"
   ]
  },
  {
   "cell_type": "markdown",
   "metadata": {},
   "source": [
    "First, we can use the \"trackNames\" function to find all tracks for a given genome version:"
   ]
  },
  {
   "cell_type": "code",
   "execution_count": 65,
   "metadata": {},
   "outputs": [
    {
     "data": {
      "text/html": [
       "<dl class=dl-horizontal>\n",
       "\t<dt>AUGUSTUS</dt>\n",
       "\t\t<dd>'augustusGene'</dd>\n",
       "\t<dt>Affy GNF1H</dt>\n",
       "\t\t<dd>'affyGnf1h'</dd>\n",
       "\t<dt>Affy U133</dt>\n",
       "\t\t<dd>'affyU133'</dd>\n",
       "\t<dt>Affy U95</dt>\n",
       "\t\t<dd>'affyU95'</dd>\n",
       "\t<dt>All GENCODE V22</dt>\n",
       "\t\t<dd>'wgEncodeGencodeV22'</dd>\n",
       "\t<dt>All GENCODE V23</dt>\n",
       "\t\t<dd>'wgEncodeGencodeV23'</dd>\n",
       "\t<dt>All GENCODE V24</dt>\n",
       "\t\t<dd>'wgEncodeGencodeV24'</dd>\n",
       "\t<dt>All GENCODE V25</dt>\n",
       "\t\t<dd>'wgEncodeGencodeV25'</dd>\n",
       "\t<dt>All GENCODE V26</dt>\n",
       "\t\t<dd>'wgEncodeGencodeV26'</dd>\n",
       "\t<dt>All GENCODE V27</dt>\n",
       "\t\t<dd>'wgEncodeGencodeV27'</dd>\n",
       "\t<dt>All GENCODE V28</dt>\n",
       "\t\t<dd>'wgEncodeGencodeV28'</dd>\n",
       "\t<dt>All SNPs(141)</dt>\n",
       "\t\t<dd>'snp141'</dd>\n",
       "\t<dt>All SNPs(142)</dt>\n",
       "\t\t<dd>'snp142'</dd>\n",
       "\t<dt>All SNPs(144)</dt>\n",
       "\t\t<dd>'snp144'</dd>\n",
       "\t<dt>All SNPs(146)</dt>\n",
       "\t\t<dd>'snp146'</dd>\n",
       "\t<dt>All SNPs(147)</dt>\n",
       "\t\t<dd>'snp147'</dd>\n",
       "\t<dt>All SNPs(150)</dt>\n",
       "\t\t<dd>'snp150'</dd>\n",
       "\t<dt>All SNPs(151)</dt>\n",
       "\t\t<dd>'snp151'</dd>\n",
       "\t<dt>Alt Haplotypes</dt>\n",
       "\t\t<dd>'altSeqLiftOverPsl'</dd>\n",
       "\t<dt>Assembly</dt>\n",
       "\t\t<dd>'gold'</dd>\n",
       "\t<dt>Bismap</dt>\n",
       "\t\t<dd>'bismap'</dd>\n",
       "\t<dt>CCDS</dt>\n",
       "\t\t<dd>'ccdsGene'</dd>\n",
       "\t<dt>CRISPR Regions 10K</dt>\n",
       "\t\t<dd>'crispr10KRanges'</dd>\n",
       "\t<dt>CRISPR Targets 10K</dt>\n",
       "\t\t<dd>'crispr10KTargets'</dd>\n",
       "\t<dt>Cancer Gene Expr</dt>\n",
       "\t\t<dd>'tcgaGeneExpr'</dd>\n",
       "\t<dt>Cancer Transc Expr</dt>\n",
       "\t\t<dd>'tcgaTranscExpr'</dd>\n",
       "\t<dt>Centromeres</dt>\n",
       "\t\t<dd>'centromeres'</dd>\n",
       "\t<dt>Chromosome Band</dt>\n",
       "\t\t<dd>'cytoBand'</dd>\n",
       "\t<dt>Chromosome Band (Ideogram)</dt>\n",
       "\t\t<dd>'cytoBandIdeo'</dd>\n",
       "\t<dt>ClinGen CNVs</dt>\n",
       "\t\t<dd>'iscaComposite'</dd>\n",
       "\t<dt>ClinVar Variants</dt>\n",
       "\t\t<dd>'clinvar'</dd>\n",
       "\t<dt>Clone Ends</dt>\n",
       "\t\t<dd>'cloneEndSuper'</dd>\n",
       "\t<dt>Common SNPs(141)</dt>\n",
       "\t\t<dd>'snp141Common'</dd>\n",
       "\t<dt>Common SNPs(142)</dt>\n",
       "\t\t<dd>'snp142Common'</dd>\n",
       "\t<dt>Common SNPs(144)</dt>\n",
       "\t\t<dd>'snp144Common'</dd>\n",
       "\t<dt>Common SNPs(146)</dt>\n",
       "\t\t<dd>'snp146Common'</dd>\n",
       "\t<dt>Common SNPs(147)</dt>\n",
       "\t\t<dd>'snp147Common'</dd>\n",
       "\t<dt>Common SNPs(150)</dt>\n",
       "\t\t<dd>'snp150Common'</dd>\n",
       "\t<dt>Common SNPs(151)</dt>\n",
       "\t\t<dd>'snp151Common'</dd>\n",
       "\t<dt>Cons 20 Mammals</dt>\n",
       "\t\t<dd>'cons20way'</dd>\n",
       "\t<dt>Cons 30 Primates</dt>\n",
       "\t\t<dd>'cons30way'</dd>\n",
       "\t<dt>Cons 7 Verts</dt>\n",
       "\t\t<dd>'cons7way'</dd>\n",
       "\t<dt>Conservation</dt>\n",
       "\t\t<dd>'cons100way'</dd>\n",
       "\t<dt>Coriell CNVs</dt>\n",
       "\t\t<dd>'coriellDelDup'</dd>\n",
       "\t<dt>CpG Islands</dt>\n",
       "\t\t<dd>'cpgIslandExt'</dd>\n",
       "\t<dt>DGV Struct Var</dt>\n",
       "\t\t<dd>'dgvPlus'</dd>\n",
       "\t<dt>DNase Clusters</dt>\n",
       "\t\t<dd>'wgEncodeRegDnaseClustered'</dd>\n",
       "\t<dt>DNase HS</dt>\n",
       "\t\t<dd>'wgEncodeRegDnase'</dd>\n",
       "\t<dt>DNase Signal</dt>\n",
       "\t\t<dd>'wgEncodeRegDnaseWig'</dd>\n",
       "\t<dt>Development Delay</dt>\n",
       "\t\t<dd>'cnvDevDelay'</dd>\n",
       "\t<dt>FISH Clones</dt>\n",
       "\t\t<dd>'fishClones'</dd>\n",
       "\t<dt>Fix Patches</dt>\n",
       "\t\t<dd>'fixSeqLiftOverPsl'</dd>\n",
       "\t<dt>Flagged SNPs(141)</dt>\n",
       "\t\t<dd>'snp141Flagged'</dd>\n",
       "\t<dt>Flagged SNPs(142)</dt>\n",
       "\t\t<dd>'snp142Flagged'</dd>\n",
       "\t<dt>Flagged SNPs(144)</dt>\n",
       "\t\t<dd>'snp144Flagged'</dd>\n",
       "\t<dt>Flagged SNPs(146)</dt>\n",
       "\t\t<dd>'snp146Flagged'</dd>\n",
       "\t<dt>Flagged SNPs(147)</dt>\n",
       "\t\t<dd>'snp147Flagged'</dd>\n",
       "\t<dt>Flagged SNPs(150)</dt>\n",
       "\t\t<dd>'snp150Flagged'</dd>\n",
       "\t<dt>Flagged SNPs(151)</dt>\n",
       "\t\t<dd>'snp151Flagged'</dd>\n",
       "\t<dt>GC Percent</dt>\n",
       "\t\t<dd>'gc5BaseBw'</dd>\n",
       "\t<dt>GENCODE V20 (Ensembl 76)</dt>\n",
       "\t\t<dd>'wgEncodeGencodeV20'</dd>\n",
       "\t<dt>GENCODE v29</dt>\n",
       "\t\t<dd>'knownGene'</dd>\n",
       "\t<dt>GNF Atlas 2</dt>\n",
       "\t\t<dd>'gnfAtlas2'</dd>\n",
       "\t<dt>GRC Contigs</dt>\n",
       "\t\t<dd>'ctgPos2'</dd>\n",
       "\t<dt>GRC Incident</dt>\n",
       "\t\t<dd>'grcIncidentDb'</dd>\n",
       "\t<dt>GTEx Gene</dt>\n",
       "\t\t<dd>'gtexGene'</dd>\n",
       "\t<dt>GTEx Transcript</dt>\n",
       "\t\t<dd>'gtexTranscExpr'</dd>\n",
       "\t<dt>GWAS Catalog</dt>\n",
       "\t\t<dd>'gwasCatalog'</dd>\n",
       "\t<dt>GWIPS-viz Riboseq</dt>\n",
       "\t\t<dd>'gwipsvizRiboseq'</dd>\n",
       "\t<dt>Gap</dt>\n",
       "\t\t<dd>'gap'</dd>\n",
       "\t<dt>Gene Interactions</dt>\n",
       "\t\t<dd>'interactions'</dd>\n",
       "\t<dt>GeneHancer</dt>\n",
       "\t\t<dd>'geneHancer'</dd>\n",
       "\t<dt>GeneReviews</dt>\n",
       "\t\t<dd>'geneReviews'</dd>\n",
       "\t<dt>Geneid Genes</dt>\n",
       "\t\t<dd>'geneid'</dd>\n",
       "\t<dt>Genscan Genes</dt>\n",
       "\t\t<dd>'genscan'</dd>\n",
       "\t<dt>Hg19 Diff</dt>\n",
       "\t\t<dd>'hg38ContigDiff'</dd>\n",
       "\t<dt>Human ESTs</dt>\n",
       "\t\t<dd>'est'</dd>\n",
       "\t<dt>Human mRNAs</dt>\n",
       "\t\t<dd>'mrna'</dd>\n",
       "\t<dt>IKMC Genes Mapped</dt>\n",
       "\t\t<dd>'hgIkmc'</dd>\n",
       "\t<dt>INSDC</dt>\n",
       "\t\t<dd>'ucscToINSDC'</dd>\n",
       "\t<dt>Interrupted Rpts</dt>\n",
       "\t\t<dd>'nestedRepeats'</dd>\n",
       "\t<dt>LRG Regions</dt>\n",
       "\t\t<dd>'lrg'</dd>\n",
       "\t<dt>LRG Transcripts</dt>\n",
       "\t\t<dd>'lrgTranscriptAli'</dd>\n",
       "\t<dt>Layered H3K27Ac</dt>\n",
       "\t\t<dd>'wgEncodeRegMarkH3k27ac'</dd>\n",
       "\t<dt>Layered H3K4Me1</dt>\n",
       "\t\t<dd>'wgEncodeRegMarkH3k4me1'</dd>\n",
       "\t<dt>Layered H3K4Me3</dt>\n",
       "\t\t<dd>'wgEncodeRegMarkH3k4me3'</dd>\n",
       "\t<dt>MANE select v0.5</dt>\n",
       "\t\t<dd>'mane'</dd>\n",
       "\t<dt>MGC Genes</dt>\n",
       "\t\t<dd>'mgcFullMrna'</dd>\n",
       "\t<dt>Microsatellite</dt>\n",
       "\t\t<dd>'microsat'</dd>\n",
       "\t<dt>Mult. SNPs(141)</dt>\n",
       "\t\t<dd>'snp141Mult'</dd>\n",
       "\t<dt>Mult. SNPs(142)</dt>\n",
       "\t\t<dd>'snp142Mult'</dd>\n",
       "\t<dt>Mult. SNPs(144)</dt>\n",
       "\t\t<dd>'snp144Mult'</dd>\n",
       "\t<dt>Mult. SNPs(146)</dt>\n",
       "\t\t<dd>'snp146Mult'</dd>\n",
       "\t<dt>Mult. SNPs(147)</dt>\n",
       "\t\t<dd>'snp147Mult'</dd>\n",
       "\t<dt>Mult. SNPs(150)</dt>\n",
       "\t\t<dd>'snp150Mult'</dd>\n",
       "\t<dt>Mult. SNPs(151)</dt>\n",
       "\t\t<dd>'snp151Mult'</dd>\n",
       "\t<dt>NCBI RefSeq</dt>\n",
       "\t\t<dd>'refSeqComposite'</dd>\n",
       "\t<dt>OMIM Alleles</dt>\n",
       "\t\t<dd>'omimAvSnp'</dd>\n",
       "\t<dt>OMIM Genes</dt>\n",
       "\t\t<dd>'omimGene2'</dd>\n",
       "\t<dt>OMIM Pheno Loci</dt>\n",
       "\t\t<dd>'omimLocation'</dd>\n",
       "\t<dt>ORFeome Clones</dt>\n",
       "\t\t<dd>'orfeomeMrna'</dd>\n",
       "\t<dt>ORegAnno</dt>\n",
       "\t\t<dd>'oreganno'</dd>\n",
       "\t<dt>Old UCSC Genes</dt>\n",
       "\t\t<dd>'knownGeneOld10'</dd>\n",
       "\t<dt>Other ESTs</dt>\n",
       "\t\t<dd>'xenoEst'</dd>\n",
       "\t<dt>Other RefSeq</dt>\n",
       "\t\t<dd>'xenoRefGene'</dd>\n",
       "\t<dt>Other mRNAs</dt>\n",
       "\t\t<dd>'xenoMrna'</dd>\n",
       "\t<dt>Pfam in UCSC Gene</dt>\n",
       "\t\t<dd>'ucscGenePfam'</dd>\n",
       "\t<dt>Placental Chain/Net</dt>\n",
       "\t\t<dd>'placentalChainNet'</dd>\n",
       "\t<dt>Primate Chain/Net</dt>\n",
       "\t\t<dd>'primateChainNet'</dd>\n",
       "\t<dt>RefSeq Acc</dt>\n",
       "\t\t<dd>'ucscToRefSeq'</dd>\n",
       "\t<dt>RefSeq Func Elems</dt>\n",
       "\t\t<dd>'refSeqFuncElems'</dd>\n",
       "\t<dt>RepeatMasker</dt>\n",
       "\t\t<dd>'rmsk'</dd>\n",
       "\t<dt>RepeatMasker Viz.</dt>\n",
       "\t\t<dd>'joinedRmsk'</dd>\n",
       "\t<dt>RetroGenes V9</dt>\n",
       "\t\t<dd>'ucscRetroAli9'</dd>\n",
       "\t<dt>SGP Genes</dt>\n",
       "\t\t<dd>'sgpGene'</dd>\n",
       "\t<dt>SIB Alt-Splicing</dt>\n",
       "\t\t<dd>'sibTxGraph'</dd>\n",
       "\t<dt>SIB Genes</dt>\n",
       "\t\t<dd>'sibGene'</dd>\n",
       "\t<dt>SNPedia</dt>\n",
       "\t\t<dd>'snpedia'</dd>\n",
       "\t<dt>STS Markers</dt>\n",
       "\t\t<dd>'stsMap'</dd>\n",
       "\t<dt>Scaffolds</dt>\n",
       "\t\t<dd>'scaffolds'</dd>\n",
       "\t<dt>Segmental Dups</dt>\n",
       "\t\t<dd>'genomicSuperDups'</dd>\n",
       "\t<dt>Self Chain</dt>\n",
       "\t\t<dd>'chainSelf'</dd>\n",
       "\t<dt>Simple Repeats</dt>\n",
       "\t\t<dd>'simpleRepeat'</dd>\n",
       "\t<dt>Spliced ESTs</dt>\n",
       "\t\t<dd>'intronEst'</dd>\n",
       "\t<dt>TF ChIP</dt>\n",
       "\t\t<dd>'encTfChipPk'</dd>\n",
       "\t<dt>TF Clusters</dt>\n",
       "\t\t<dd>'encRegTfbsClustered'</dd>\n",
       "\t<dt>TransMap ESTs</dt>\n",
       "\t\t<dd>'transMapEstV4'</dd>\n",
       "\t<dt>TransMap Ensembl</dt>\n",
       "\t\t<dd>'transMapEnsemblV4'</dd>\n",
       "\t<dt>TransMap RNA</dt>\n",
       "\t\t<dd>'transMapRnaV4'</dd>\n",
       "\t<dt>TransMap RefGene</dt>\n",
       "\t\t<dd>'transMapRefSeqV4'</dd>\n",
       "\t<dt>Transcription</dt>\n",
       "\t\t<dd>'wgEncodeRegTxn'</dd>\n",
       "\t<dt>UCSC Alt Events</dt>\n",
       "\t\t<dd>'knownAlt'</dd>\n",
       "\t<dt>Umap</dt>\n",
       "\t\t<dd>'umap'</dd>\n",
       "\t<dt>UniProt</dt>\n",
       "\t\t<dd>'uniprot'</dd>\n",
       "\t<dt>UniProt Variants</dt>\n",
       "\t\t<dd>'spMut'</dd>\n",
       "\t<dt>Unmasked CpG</dt>\n",
       "\t\t<dd>'cpgIslandExtUnmasked'</dd>\n",
       "\t<dt>Vertebrate Chain/Net</dt>\n",
       "\t\t<dd>'vertebrateChainNet'</dd>\n",
       "\t<dt>WM + SDust</dt>\n",
       "\t\t<dd>'windowmaskerSdust'</dd>\n",
       "\t<dt>lincRNA RNA-Seq</dt>\n",
       "\t\t<dd>'lincRNAsAllCellTypeTopView'</dd>\n",
       "\t<dt>lincRNA TUCP</dt>\n",
       "\t\t<dd>'lincRNAsTranscripts'</dd>\n",
       "\t<dt>miRNA Tissue Atlas</dt>\n",
       "\t\t<dd>'miRnaAtlas'</dd>\n",
       "\t<dt>sno/miRNA</dt>\n",
       "\t\t<dd>'wgRna'</dd>\n",
       "\t<dt>tRNA Genes</dt>\n",
       "\t\t<dd>'tRNAs'</dd>\n",
       "</dl>\n"
      ],
      "text/latex": [
       "\\begin{description*}\n",
       "\\item[AUGUSTUS] 'augustusGene'\n",
       "\\item[Affy GNF1H] 'affyGnf1h'\n",
       "\\item[Affy U133] 'affyU133'\n",
       "\\item[Affy U95] 'affyU95'\n",
       "\\item[All GENCODE V22] 'wgEncodeGencodeV22'\n",
       "\\item[All GENCODE V23] 'wgEncodeGencodeV23'\n",
       "\\item[All GENCODE V24] 'wgEncodeGencodeV24'\n",
       "\\item[All GENCODE V25] 'wgEncodeGencodeV25'\n",
       "\\item[All GENCODE V26] 'wgEncodeGencodeV26'\n",
       "\\item[All GENCODE V27] 'wgEncodeGencodeV27'\n",
       "\\item[All GENCODE V28] 'wgEncodeGencodeV28'\n",
       "\\item[All SNPs(141)] 'snp141'\n",
       "\\item[All SNPs(142)] 'snp142'\n",
       "\\item[All SNPs(144)] 'snp144'\n",
       "\\item[All SNPs(146)] 'snp146'\n",
       "\\item[All SNPs(147)] 'snp147'\n",
       "\\item[All SNPs(150)] 'snp150'\n",
       "\\item[All SNPs(151)] 'snp151'\n",
       "\\item[Alt Haplotypes] 'altSeqLiftOverPsl'\n",
       "\\item[Assembly] 'gold'\n",
       "\\item[Bismap] 'bismap'\n",
       "\\item[CCDS] 'ccdsGene'\n",
       "\\item[CRISPR Regions 10K] 'crispr10KRanges'\n",
       "\\item[CRISPR Targets 10K] 'crispr10KTargets'\n",
       "\\item[Cancer Gene Expr] 'tcgaGeneExpr'\n",
       "\\item[Cancer Transc Expr] 'tcgaTranscExpr'\n",
       "\\item[Centromeres] 'centromeres'\n",
       "\\item[Chromosome Band] 'cytoBand'\n",
       "\\item[Chromosome Band (Ideogram)] 'cytoBandIdeo'\n",
       "\\item[ClinGen CNVs] 'iscaComposite'\n",
       "\\item[ClinVar Variants] 'clinvar'\n",
       "\\item[Clone Ends] 'cloneEndSuper'\n",
       "\\item[Common SNPs(141)] 'snp141Common'\n",
       "\\item[Common SNPs(142)] 'snp142Common'\n",
       "\\item[Common SNPs(144)] 'snp144Common'\n",
       "\\item[Common SNPs(146)] 'snp146Common'\n",
       "\\item[Common SNPs(147)] 'snp147Common'\n",
       "\\item[Common SNPs(150)] 'snp150Common'\n",
       "\\item[Common SNPs(151)] 'snp151Common'\n",
       "\\item[Cons 20 Mammals] 'cons20way'\n",
       "\\item[Cons 30 Primates] 'cons30way'\n",
       "\\item[Cons 7 Verts] 'cons7way'\n",
       "\\item[Conservation] 'cons100way'\n",
       "\\item[Coriell CNVs] 'coriellDelDup'\n",
       "\\item[CpG Islands] 'cpgIslandExt'\n",
       "\\item[DGV Struct Var] 'dgvPlus'\n",
       "\\item[DNase Clusters] 'wgEncodeRegDnaseClustered'\n",
       "\\item[DNase HS] 'wgEncodeRegDnase'\n",
       "\\item[DNase Signal] 'wgEncodeRegDnaseWig'\n",
       "\\item[Development Delay] 'cnvDevDelay'\n",
       "\\item[FISH Clones] 'fishClones'\n",
       "\\item[Fix Patches] 'fixSeqLiftOverPsl'\n",
       "\\item[Flagged SNPs(141)] 'snp141Flagged'\n",
       "\\item[Flagged SNPs(142)] 'snp142Flagged'\n",
       "\\item[Flagged SNPs(144)] 'snp144Flagged'\n",
       "\\item[Flagged SNPs(146)] 'snp146Flagged'\n",
       "\\item[Flagged SNPs(147)] 'snp147Flagged'\n",
       "\\item[Flagged SNPs(150)] 'snp150Flagged'\n",
       "\\item[Flagged SNPs(151)] 'snp151Flagged'\n",
       "\\item[GC Percent] 'gc5BaseBw'\n",
       "\\item[GENCODE V20 (Ensembl 76)] 'wgEncodeGencodeV20'\n",
       "\\item[GENCODE v29] 'knownGene'\n",
       "\\item[GNF Atlas 2] 'gnfAtlas2'\n",
       "\\item[GRC Contigs] 'ctgPos2'\n",
       "\\item[GRC Incident] 'grcIncidentDb'\n",
       "\\item[GTEx Gene] 'gtexGene'\n",
       "\\item[GTEx Transcript] 'gtexTranscExpr'\n",
       "\\item[GWAS Catalog] 'gwasCatalog'\n",
       "\\item[GWIPS-viz Riboseq] 'gwipsvizRiboseq'\n",
       "\\item[Gap] 'gap'\n",
       "\\item[Gene Interactions] 'interactions'\n",
       "\\item[GeneHancer] 'geneHancer'\n",
       "\\item[GeneReviews] 'geneReviews'\n",
       "\\item[Geneid Genes] 'geneid'\n",
       "\\item[Genscan Genes] 'genscan'\n",
       "\\item[Hg19 Diff] 'hg38ContigDiff'\n",
       "\\item[Human ESTs] 'est'\n",
       "\\item[Human mRNAs] 'mrna'\n",
       "\\item[IKMC Genes Mapped] 'hgIkmc'\n",
       "\\item[INSDC] 'ucscToINSDC'\n",
       "\\item[Interrupted Rpts] 'nestedRepeats'\n",
       "\\item[LRG Regions] 'lrg'\n",
       "\\item[LRG Transcripts] 'lrgTranscriptAli'\n",
       "\\item[Layered H3K27Ac] 'wgEncodeRegMarkH3k27ac'\n",
       "\\item[Layered H3K4Me1] 'wgEncodeRegMarkH3k4me1'\n",
       "\\item[Layered H3K4Me3] 'wgEncodeRegMarkH3k4me3'\n",
       "\\item[MANE select v0.5] 'mane'\n",
       "\\item[MGC Genes] 'mgcFullMrna'\n",
       "\\item[Microsatellite] 'microsat'\n",
       "\\item[Mult. SNPs(141)] 'snp141Mult'\n",
       "\\item[Mult. SNPs(142)] 'snp142Mult'\n",
       "\\item[Mult. SNPs(144)] 'snp144Mult'\n",
       "\\item[Mult. SNPs(146)] 'snp146Mult'\n",
       "\\item[Mult. SNPs(147)] 'snp147Mult'\n",
       "\\item[Mult. SNPs(150)] 'snp150Mult'\n",
       "\\item[Mult. SNPs(151)] 'snp151Mult'\n",
       "\\item[NCBI RefSeq] 'refSeqComposite'\n",
       "\\item[OMIM Alleles] 'omimAvSnp'\n",
       "\\item[OMIM Genes] 'omimGene2'\n",
       "\\item[OMIM Pheno Loci] 'omimLocation'\n",
       "\\item[ORFeome Clones] 'orfeomeMrna'\n",
       "\\item[ORegAnno] 'oreganno'\n",
       "\\item[Old UCSC Genes] 'knownGeneOld10'\n",
       "\\item[Other ESTs] 'xenoEst'\n",
       "\\item[Other RefSeq] 'xenoRefGene'\n",
       "\\item[Other mRNAs] 'xenoMrna'\n",
       "\\item[Pfam in UCSC Gene] 'ucscGenePfam'\n",
       "\\item[Placental Chain/Net] 'placentalChainNet'\n",
       "\\item[Primate Chain/Net] 'primateChainNet'\n",
       "\\item[RefSeq Acc] 'ucscToRefSeq'\n",
       "\\item[RefSeq Func Elems] 'refSeqFuncElems'\n",
       "\\item[RepeatMasker] 'rmsk'\n",
       "\\item[RepeatMasker Viz.] 'joinedRmsk'\n",
       "\\item[RetroGenes V9] 'ucscRetroAli9'\n",
       "\\item[SGP Genes] 'sgpGene'\n",
       "\\item[SIB Alt-Splicing] 'sibTxGraph'\n",
       "\\item[SIB Genes] 'sibGene'\n",
       "\\item[SNPedia] 'snpedia'\n",
       "\\item[STS Markers] 'stsMap'\n",
       "\\item[Scaffolds] 'scaffolds'\n",
       "\\item[Segmental Dups] 'genomicSuperDups'\n",
       "\\item[Self Chain] 'chainSelf'\n",
       "\\item[Simple Repeats] 'simpleRepeat'\n",
       "\\item[Spliced ESTs] 'intronEst'\n",
       "\\item[TF ChIP] 'encTfChipPk'\n",
       "\\item[TF Clusters] 'encRegTfbsClustered'\n",
       "\\item[TransMap ESTs] 'transMapEstV4'\n",
       "\\item[TransMap Ensembl] 'transMapEnsemblV4'\n",
       "\\item[TransMap RNA] 'transMapRnaV4'\n",
       "\\item[TransMap RefGene] 'transMapRefSeqV4'\n",
       "\\item[Transcription] 'wgEncodeRegTxn'\n",
       "\\item[UCSC Alt Events] 'knownAlt'\n",
       "\\item[Umap] 'umap'\n",
       "\\item[UniProt] 'uniprot'\n",
       "\\item[UniProt Variants] 'spMut'\n",
       "\\item[Unmasked CpG] 'cpgIslandExtUnmasked'\n",
       "\\item[Vertebrate Chain/Net] 'vertebrateChainNet'\n",
       "\\item[WM + SDust] 'windowmaskerSdust'\n",
       "\\item[lincRNA RNA-Seq] 'lincRNAsAllCellTypeTopView'\n",
       "\\item[lincRNA TUCP] 'lincRNAsTranscripts'\n",
       "\\item[miRNA Tissue Atlas] 'miRnaAtlas'\n",
       "\\item[sno/miRNA] 'wgRna'\n",
       "\\item[tRNA Genes] 'tRNAs'\n",
       "\\end{description*}\n"
      ],
      "text/markdown": [
       "AUGUSTUS\n",
       ":   'augustusGene'Affy GNF1H\n",
       ":   'affyGnf1h'Affy U133\n",
       ":   'affyU133'Affy U95\n",
       ":   'affyU95'All GENCODE V22\n",
       ":   'wgEncodeGencodeV22'All GENCODE V23\n",
       ":   'wgEncodeGencodeV23'All GENCODE V24\n",
       ":   'wgEncodeGencodeV24'All GENCODE V25\n",
       ":   'wgEncodeGencodeV25'All GENCODE V26\n",
       ":   'wgEncodeGencodeV26'All GENCODE V27\n",
       ":   'wgEncodeGencodeV27'All GENCODE V28\n",
       ":   'wgEncodeGencodeV28'All SNPs(141)\n",
       ":   'snp141'All SNPs(142)\n",
       ":   'snp142'All SNPs(144)\n",
       ":   'snp144'All SNPs(146)\n",
       ":   'snp146'All SNPs(147)\n",
       ":   'snp147'All SNPs(150)\n",
       ":   'snp150'All SNPs(151)\n",
       ":   'snp151'Alt Haplotypes\n",
       ":   'altSeqLiftOverPsl'Assembly\n",
       ":   'gold'Bismap\n",
       ":   'bismap'CCDS\n",
       ":   'ccdsGene'CRISPR Regions 10K\n",
       ":   'crispr10KRanges'CRISPR Targets 10K\n",
       ":   'crispr10KTargets'Cancer Gene Expr\n",
       ":   'tcgaGeneExpr'Cancer Transc Expr\n",
       ":   'tcgaTranscExpr'Centromeres\n",
       ":   'centromeres'Chromosome Band\n",
       ":   'cytoBand'Chromosome Band (Ideogram)\n",
       ":   'cytoBandIdeo'ClinGen CNVs\n",
       ":   'iscaComposite'ClinVar Variants\n",
       ":   'clinvar'Clone Ends\n",
       ":   'cloneEndSuper'Common SNPs(141)\n",
       ":   'snp141Common'Common SNPs(142)\n",
       ":   'snp142Common'Common SNPs(144)\n",
       ":   'snp144Common'Common SNPs(146)\n",
       ":   'snp146Common'Common SNPs(147)\n",
       ":   'snp147Common'Common SNPs(150)\n",
       ":   'snp150Common'Common SNPs(151)\n",
       ":   'snp151Common'Cons 20 Mammals\n",
       ":   'cons20way'Cons 30 Primates\n",
       ":   'cons30way'Cons 7 Verts\n",
       ":   'cons7way'Conservation\n",
       ":   'cons100way'Coriell CNVs\n",
       ":   'coriellDelDup'CpG Islands\n",
       ":   'cpgIslandExt'DGV Struct Var\n",
       ":   'dgvPlus'DNase Clusters\n",
       ":   'wgEncodeRegDnaseClustered'DNase HS\n",
       ":   'wgEncodeRegDnase'DNase Signal\n",
       ":   'wgEncodeRegDnaseWig'Development Delay\n",
       ":   'cnvDevDelay'FISH Clones\n",
       ":   'fishClones'Fix Patches\n",
       ":   'fixSeqLiftOverPsl'Flagged SNPs(141)\n",
       ":   'snp141Flagged'Flagged SNPs(142)\n",
       ":   'snp142Flagged'Flagged SNPs(144)\n",
       ":   'snp144Flagged'Flagged SNPs(146)\n",
       ":   'snp146Flagged'Flagged SNPs(147)\n",
       ":   'snp147Flagged'Flagged SNPs(150)\n",
       ":   'snp150Flagged'Flagged SNPs(151)\n",
       ":   'snp151Flagged'GC Percent\n",
       ":   'gc5BaseBw'GENCODE V20 (Ensembl 76)\n",
       ":   'wgEncodeGencodeV20'GENCODE v29\n",
       ":   'knownGene'GNF Atlas 2\n",
       ":   'gnfAtlas2'GRC Contigs\n",
       ":   'ctgPos2'GRC Incident\n",
       ":   'grcIncidentDb'GTEx Gene\n",
       ":   'gtexGene'GTEx Transcript\n",
       ":   'gtexTranscExpr'GWAS Catalog\n",
       ":   'gwasCatalog'GWIPS-viz Riboseq\n",
       ":   'gwipsvizRiboseq'Gap\n",
       ":   'gap'Gene Interactions\n",
       ":   'interactions'GeneHancer\n",
       ":   'geneHancer'GeneReviews\n",
       ":   'geneReviews'Geneid Genes\n",
       ":   'geneid'Genscan Genes\n",
       ":   'genscan'Hg19 Diff\n",
       ":   'hg38ContigDiff'Human ESTs\n",
       ":   'est'Human mRNAs\n",
       ":   'mrna'IKMC Genes Mapped\n",
       ":   'hgIkmc'INSDC\n",
       ":   'ucscToINSDC'Interrupted Rpts\n",
       ":   'nestedRepeats'LRG Regions\n",
       ":   'lrg'LRG Transcripts\n",
       ":   'lrgTranscriptAli'Layered H3K27Ac\n",
       ":   'wgEncodeRegMarkH3k27ac'Layered H3K4Me1\n",
       ":   'wgEncodeRegMarkH3k4me1'Layered H3K4Me3\n",
       ":   'wgEncodeRegMarkH3k4me3'MANE select v0.5\n",
       ":   'mane'MGC Genes\n",
       ":   'mgcFullMrna'Microsatellite\n",
       ":   'microsat'Mult. SNPs(141)\n",
       ":   'snp141Mult'Mult. SNPs(142)\n",
       ":   'snp142Mult'Mult. SNPs(144)\n",
       ":   'snp144Mult'Mult. SNPs(146)\n",
       ":   'snp146Mult'Mult. SNPs(147)\n",
       ":   'snp147Mult'Mult. SNPs(150)\n",
       ":   'snp150Mult'Mult. SNPs(151)\n",
       ":   'snp151Mult'NCBI RefSeq\n",
       ":   'refSeqComposite'OMIM Alleles\n",
       ":   'omimAvSnp'OMIM Genes\n",
       ":   'omimGene2'OMIM Pheno Loci\n",
       ":   'omimLocation'ORFeome Clones\n",
       ":   'orfeomeMrna'ORegAnno\n",
       ":   'oreganno'Old UCSC Genes\n",
       ":   'knownGeneOld10'Other ESTs\n",
       ":   'xenoEst'Other RefSeq\n",
       ":   'xenoRefGene'Other mRNAs\n",
       ":   'xenoMrna'Pfam in UCSC Gene\n",
       ":   'ucscGenePfam'Placental Chain/Net\n",
       ":   'placentalChainNet'Primate Chain/Net\n",
       ":   'primateChainNet'RefSeq Acc\n",
       ":   'ucscToRefSeq'RefSeq Func Elems\n",
       ":   'refSeqFuncElems'RepeatMasker\n",
       ":   'rmsk'RepeatMasker Viz.\n",
       ":   'joinedRmsk'RetroGenes V9\n",
       ":   'ucscRetroAli9'SGP Genes\n",
       ":   'sgpGene'SIB Alt-Splicing\n",
       ":   'sibTxGraph'SIB Genes\n",
       ":   'sibGene'SNPedia\n",
       ":   'snpedia'STS Markers\n",
       ":   'stsMap'Scaffolds\n",
       ":   'scaffolds'Segmental Dups\n",
       ":   'genomicSuperDups'Self Chain\n",
       ":   'chainSelf'Simple Repeats\n",
       ":   'simpleRepeat'Spliced ESTs\n",
       ":   'intronEst'TF ChIP\n",
       ":   'encTfChipPk'TF Clusters\n",
       ":   'encRegTfbsClustered'TransMap ESTs\n",
       ":   'transMapEstV4'TransMap Ensembl\n",
       ":   'transMapEnsemblV4'TransMap RNA\n",
       ":   'transMapRnaV4'TransMap RefGene\n",
       ":   'transMapRefSeqV4'Transcription\n",
       ":   'wgEncodeRegTxn'UCSC Alt Events\n",
       ":   'knownAlt'Umap\n",
       ":   'umap'UniProt\n",
       ":   'uniprot'UniProt Variants\n",
       ":   'spMut'Unmasked CpG\n",
       ":   'cpgIslandExtUnmasked'Vertebrate Chain/Net\n",
       ":   'vertebrateChainNet'WM + SDust\n",
       ":   'windowmaskerSdust'lincRNA RNA-Seq\n",
       ":   'lincRNAsAllCellTypeTopView'lincRNA TUCP\n",
       ":   'lincRNAsTranscripts'miRNA Tissue Atlas\n",
       ":   'miRnaAtlas'sno/miRNA\n",
       ":   'wgRna'tRNA Genes\n",
       ":   'tRNAs'\n",
       "\n"
      ],
      "text/plain": [
       "                    AUGUSTUS                   Affy GNF1H \n",
       "              \"augustusGene\"                  \"affyGnf1h\" \n",
       "                   Affy U133                     Affy U95 \n",
       "                  \"affyU133\"                    \"affyU95\" \n",
       "             All GENCODE V22              All GENCODE V23 \n",
       "        \"wgEncodeGencodeV22\"         \"wgEncodeGencodeV23\" \n",
       "             All GENCODE V24              All GENCODE V25 \n",
       "        \"wgEncodeGencodeV24\"         \"wgEncodeGencodeV25\" \n",
       "             All GENCODE V26              All GENCODE V27 \n",
       "        \"wgEncodeGencodeV26\"         \"wgEncodeGencodeV27\" \n",
       "             All GENCODE V28                All SNPs(141) \n",
       "        \"wgEncodeGencodeV28\"                     \"snp141\" \n",
       "               All SNPs(142)                All SNPs(144) \n",
       "                    \"snp142\"                     \"snp144\" \n",
       "               All SNPs(146)                All SNPs(147) \n",
       "                    \"snp146\"                     \"snp147\" \n",
       "               All SNPs(150)                All SNPs(151) \n",
       "                    \"snp150\"                     \"snp151\" \n",
       "              Alt Haplotypes                     Assembly \n",
       "         \"altSeqLiftOverPsl\"                       \"gold\" \n",
       "                      Bismap                         CCDS \n",
       "                    \"bismap\"                   \"ccdsGene\" \n",
       "          CRISPR Regions 10K           CRISPR Targets 10K \n",
       "           \"crispr10KRanges\"           \"crispr10KTargets\" \n",
       "            Cancer Gene Expr           Cancer Transc Expr \n",
       "              \"tcgaGeneExpr\"             \"tcgaTranscExpr\" \n",
       "                 Centromeres              Chromosome Band \n",
       "               \"centromeres\"                   \"cytoBand\" \n",
       "  Chromosome Band (Ideogram)                 ClinGen CNVs \n",
       "              \"cytoBandIdeo\"              \"iscaComposite\" \n",
       "            ClinVar Variants                   Clone Ends \n",
       "                   \"clinvar\"              \"cloneEndSuper\" \n",
       "            Common SNPs(141)             Common SNPs(142) \n",
       "              \"snp141Common\"               \"snp142Common\" \n",
       "            Common SNPs(144)             Common SNPs(146) \n",
       "              \"snp144Common\"               \"snp146Common\" \n",
       "            Common SNPs(147)             Common SNPs(150) \n",
       "              \"snp147Common\"               \"snp150Common\" \n",
       "            Common SNPs(151)              Cons 20 Mammals \n",
       "              \"snp151Common\"                  \"cons20way\" \n",
       "            Cons 30 Primates                 Cons 7 Verts \n",
       "                 \"cons30way\"                   \"cons7way\" \n",
       "                Conservation                 Coriell CNVs \n",
       "                \"cons100way\"              \"coriellDelDup\" \n",
       "                 CpG Islands               DGV Struct Var \n",
       "              \"cpgIslandExt\"                    \"dgvPlus\" \n",
       "              DNase Clusters                     DNase HS \n",
       " \"wgEncodeRegDnaseClustered\"           \"wgEncodeRegDnase\" \n",
       "                DNase Signal            Development Delay \n",
       "       \"wgEncodeRegDnaseWig\"                \"cnvDevDelay\" \n",
       "                 FISH Clones                  Fix Patches \n",
       "                \"fishClones\"          \"fixSeqLiftOverPsl\" \n",
       "           Flagged SNPs(141)            Flagged SNPs(142) \n",
       "             \"snp141Flagged\"              \"snp142Flagged\" \n",
       "           Flagged SNPs(144)            Flagged SNPs(146) \n",
       "             \"snp144Flagged\"              \"snp146Flagged\" \n",
       "           Flagged SNPs(147)            Flagged SNPs(150) \n",
       "             \"snp147Flagged\"              \"snp150Flagged\" \n",
       "           Flagged SNPs(151)                   GC Percent \n",
       "             \"snp151Flagged\"                  \"gc5BaseBw\" \n",
       "    GENCODE V20 (Ensembl 76)                  GENCODE v29 \n",
       "        \"wgEncodeGencodeV20\"                  \"knownGene\" \n",
       "                 GNF Atlas 2                  GRC Contigs \n",
       "                 \"gnfAtlas2\"                    \"ctgPos2\" \n",
       "                GRC Incident                    GTEx Gene \n",
       "             \"grcIncidentDb\"                   \"gtexGene\" \n",
       "             GTEx Transcript                 GWAS Catalog \n",
       "            \"gtexTranscExpr\"                \"gwasCatalog\" \n",
       "           GWIPS-viz Riboseq                          Gap \n",
       "           \"gwipsvizRiboseq\"                        \"gap\" \n",
       "           Gene Interactions                   GeneHancer \n",
       "              \"interactions\"                 \"geneHancer\" \n",
       "                 GeneReviews                 Geneid Genes \n",
       "               \"geneReviews\"                     \"geneid\" \n",
       "               Genscan Genes                    Hg19 Diff \n",
       "                   \"genscan\"             \"hg38ContigDiff\" \n",
       "                  Human ESTs                  Human mRNAs \n",
       "                       \"est\"                       \"mrna\" \n",
       "           IKMC Genes Mapped                        INSDC \n",
       "                    \"hgIkmc\"                \"ucscToINSDC\" \n",
       "            Interrupted Rpts                  LRG Regions \n",
       "             \"nestedRepeats\"                        \"lrg\" \n",
       "             LRG Transcripts              Layered H3K27Ac \n",
       "          \"lrgTranscriptAli\"     \"wgEncodeRegMarkH3k27ac\" \n",
       "             Layered H3K4Me1              Layered H3K4Me3 \n",
       "    \"wgEncodeRegMarkH3k4me1\"     \"wgEncodeRegMarkH3k4me3\" \n",
       "            MANE select v0.5                    MGC Genes \n",
       "                      \"mane\"                \"mgcFullMrna\" \n",
       "              Microsatellite              Mult. SNPs(141) \n",
       "                  \"microsat\"                 \"snp141Mult\" \n",
       "             Mult. SNPs(142)              Mult. SNPs(144) \n",
       "                \"snp142Mult\"                 \"snp144Mult\" \n",
       "             Mult. SNPs(146)              Mult. SNPs(147) \n",
       "                \"snp146Mult\"                 \"snp147Mult\" \n",
       "             Mult. SNPs(150)              Mult. SNPs(151) \n",
       "                \"snp150Mult\"                 \"snp151Mult\" \n",
       "                 NCBI RefSeq                 OMIM Alleles \n",
       "           \"refSeqComposite\"                  \"omimAvSnp\" \n",
       "                  OMIM Genes              OMIM Pheno Loci \n",
       "                 \"omimGene2\"               \"omimLocation\" \n",
       "              ORFeome Clones                     ORegAnno \n",
       "               \"orfeomeMrna\"                   \"oreganno\" \n",
       "              Old UCSC Genes                   Other ESTs \n",
       "            \"knownGeneOld10\"                    \"xenoEst\" \n",
       "                Other RefSeq                  Other mRNAs \n",
       "               \"xenoRefGene\"                   \"xenoMrna\" \n",
       "           Pfam in UCSC Gene          Placental Chain/Net \n",
       "              \"ucscGenePfam\"          \"placentalChainNet\" \n",
       "           Primate Chain/Net                   RefSeq Acc \n",
       "           \"primateChainNet\"               \"ucscToRefSeq\" \n",
       "           RefSeq Func Elems                 RepeatMasker \n",
       "           \"refSeqFuncElems\"                       \"rmsk\" \n",
       "           RepeatMasker Viz.                RetroGenes V9 \n",
       "                \"joinedRmsk\"              \"ucscRetroAli9\" \n",
       "                   SGP Genes             SIB Alt-Splicing \n",
       "                   \"sgpGene\"                 \"sibTxGraph\" \n",
       "                   SIB Genes                      SNPedia \n",
       "                   \"sibGene\"                    \"snpedia\" \n",
       "                 STS Markers                    Scaffolds \n",
       "                    \"stsMap\"                  \"scaffolds\" \n",
       "              Segmental Dups                   Self Chain \n",
       "          \"genomicSuperDups\"                  \"chainSelf\" \n",
       "              Simple Repeats                 Spliced ESTs \n",
       "              \"simpleRepeat\"                  \"intronEst\" \n",
       "                     TF ChIP                  TF Clusters \n",
       "               \"encTfChipPk\"        \"encRegTfbsClustered\" \n",
       "               TransMap ESTs             TransMap Ensembl \n",
       "             \"transMapEstV4\"          \"transMapEnsemblV4\" \n",
       "                TransMap RNA             TransMap RefGene \n",
       "             \"transMapRnaV4\"           \"transMapRefSeqV4\" \n",
       "               Transcription              UCSC Alt Events \n",
       "            \"wgEncodeRegTxn\"                   \"knownAlt\" \n",
       "                        Umap                      UniProt \n",
       "                      \"umap\"                    \"uniprot\" \n",
       "            UniProt Variants                 Unmasked CpG \n",
       "                     \"spMut\"       \"cpgIslandExtUnmasked\" \n",
       "        Vertebrate Chain/Net                   WM + SDust \n",
       "        \"vertebrateChainNet\"          \"windowmaskerSdust\" \n",
       "             lincRNA RNA-Seq                 lincRNA TUCP \n",
       "\"lincRNAsAllCellTypeTopView\"        \"lincRNAsTranscripts\" \n",
       "          miRNA Tissue Atlas                    sno/miRNA \n",
       "                \"miRnaAtlas\"                      \"wgRna\" \n",
       "                  tRNA Genes \n",
       "                     \"tRNAs\" "
      ]
     },
     "metadata": {},
     "output_type": "display_data"
    }
   ],
   "source": [
    "mySession = browserSession()\n",
    "genome(mySession) = \"hg38\"\n",
    "all.hg38.tracks = trackNames(ucscTableQuery(mySession))\n",
    "all.hg38.tracks"
   ]
  },
  {
   "cell_type": "markdown",
   "metadata": {},
   "source": [
    "Then, we can explore all existing tables inside a specific track. Let's use the GeneHancer track (to know what GH does, see: https://genome.ucsc.edu/cgi-bin/hgTrackUi?db=hg19&g=geneHancer):"
   ]
  },
  {
   "cell_type": "code",
   "execution_count": 69,
   "metadata": {},
   "outputs": [
    {
     "data": {
      "text/html": [
       "<ol class=list-inline>\n",
       "\t<li>'geneHancerRegElementsDoubleElite'</li>\n",
       "\t<li>'geneHancerGenesDoubleElite'</li>\n",
       "\t<li>'geneHancerInteractionsDoubleElite'</li>\n",
       "\t<li>'geneHancerClusteredInteractionsDoubleElite'</li>\n",
       "\t<li>'geneHancerRegElements'</li>\n",
       "\t<li>'geneHancerGenes'</li>\n",
       "\t<li>'geneHancerInteractions'</li>\n",
       "\t<li>'geneHancerClusteredInteractions'</li>\n",
       "</ol>\n"
      ],
      "text/latex": [
       "\\begin{enumerate*}\n",
       "\\item 'geneHancerRegElementsDoubleElite'\n",
       "\\item 'geneHancerGenesDoubleElite'\n",
       "\\item 'geneHancerInteractionsDoubleElite'\n",
       "\\item 'geneHancerClusteredInteractionsDoubleElite'\n",
       "\\item 'geneHancerRegElements'\n",
       "\\item 'geneHancerGenes'\n",
       "\\item 'geneHancerInteractions'\n",
       "\\item 'geneHancerClusteredInteractions'\n",
       "\\end{enumerate*}\n"
      ],
      "text/markdown": [
       "1. 'geneHancerRegElementsDoubleElite'\n",
       "2. 'geneHancerGenesDoubleElite'\n",
       "3. 'geneHancerInteractionsDoubleElite'\n",
       "4. 'geneHancerClusteredInteractionsDoubleElite'\n",
       "5. 'geneHancerRegElements'\n",
       "6. 'geneHancerGenes'\n",
       "7. 'geneHancerInteractions'\n",
       "8. 'geneHancerClusteredInteractions'\n",
       "\n",
       "\n"
      ],
      "text/plain": [
       "[1] \"geneHancerRegElementsDoubleElite\"          \n",
       "[2] \"geneHancerGenesDoubleElite\"                \n",
       "[3] \"geneHancerInteractionsDoubleElite\"         \n",
       "[4] \"geneHancerClusteredInteractionsDoubleElite\"\n",
       "[5] \"geneHancerRegElements\"                     \n",
       "[6] \"geneHancerGenes\"                           \n",
       "[7] \"geneHancerInteractions\"                    \n",
       "[8] \"geneHancerClusteredInteractions\"           "
      ]
     },
     "metadata": {},
     "output_type": "display_data"
    }
   ],
   "source": [
    "hg38.gh.tables = tableNames(ucscTableQuery(mySession, track=\"geneHancer\"))\n",
    "hg38.gh.tables"
   ]
  },
  {
   "cell_type": "markdown",
   "metadata": {},
   "source": [
    "## Exercises:"
   ]
  },
  {
   "cell_type": "markdown",
   "metadata": {},
   "source": [
    "In the following exercise, we will explore a specific track and table for K562 cells (hg19):"
   ]
  },
  {
   "cell_type": "code",
   "execution_count": 72,
   "metadata": {
    "collapsed": true
   },
   "outputs": [],
   "source": [
    "genome(mySession) = \"hg19\"\n",
    "track.name = \"wgEncodeUwDgf\"\n",
    "table.name = \"wgEncodeUwDgfK562Hotspots\""
   ]
  },
  {
   "cell_type": "markdown",
   "metadata": {},
   "source": [
    "We can get the data for the whole table:"
   ]
  },
  {
   "cell_type": "code",
   "execution_count": 73,
   "metadata": {},
   "outputs": [
    {
     "data": {
      "text/html": [
       "<table>\n",
       "<caption>A data.frame: 6 × 10</caption>\n",
       "<thead>\n",
       "\t<tr><th scope=col>bin</th><th scope=col>chrom</th><th scope=col>chromStart</th><th scope=col>chromEnd</th><th scope=col>name</th><th scope=col>score</th><th scope=col>strand</th><th scope=col>signalValue</th><th scope=col>pValue</th><th scope=col>qValue</th></tr>\n",
       "\t<tr><th scope=col>&lt;int&gt;</th><th scope=col>&lt;fct&gt;</th><th scope=col>&lt;int&gt;</th><th scope=col>&lt;int&gt;</th><th scope=col>&lt;fct&gt;</th><th scope=col>&lt;int&gt;</th><th scope=col>&lt;fct&gt;</th><th scope=col>&lt;dbl&gt;</th><th scope=col>&lt;dbl&gt;</th><th scope=col>&lt;int&gt;</th></tr>\n",
       "</thead>\n",
       "<tbody>\n",
       "\t<tr><td>10</td><td>chr1</td><td>15728369</td><td>15728750</td><td>.</td><td>102</td><td>.</td><td> 12.9796</td><td> 20.7213</td><td>-1</td></tr>\n",
       "\t<tr><td>11</td><td>chr1</td><td>19922204</td><td>19925349</td><td>.</td><td>224</td><td>.</td><td>567.5970</td><td>324.0000</td><td>-1</td></tr>\n",
       "\t<tr><td>11</td><td>chr1</td><td>24115382</td><td>24118539</td><td>.</td><td>131</td><td>.</td><td>142.5470</td><td>324.0000</td><td>-1</td></tr>\n",
       "\t<tr><td>12</td><td>chr1</td><td>29358651</td><td>29361272</td><td>.</td><td>149</td><td>.</td><td>225.8450</td><td>324.0000</td><td>-1</td></tr>\n",
       "\t<tr><td>15</td><td>chr1</td><td>52428635</td><td>52430511</td><td>.</td><td>127</td><td>.</td><td>123.0520</td><td>324.0000</td><td>-1</td></tr>\n",
       "\t<tr><td>15</td><td>chr1</td><td>53476715</td><td>53477769</td><td>.</td><td>123</td><td>.</td><td>105.6020</td><td>324.0000</td><td>-1</td></tr>\n",
       "</tbody>\n",
       "</table>\n"
      ],
      "text/latex": [
       "A data.frame: 6 × 10\n",
       "\\begin{tabular}{r|llllllllll}\n",
       " bin & chrom & chromStart & chromEnd & name & score & strand & signalValue & pValue & qValue\\\\\n",
       " <int> & <fct> & <int> & <int> & <fct> & <int> & <fct> & <dbl> & <dbl> & <int>\\\\\n",
       "\\hline\n",
       "\t 10 & chr1 & 15728369 & 15728750 & . & 102 & . &  12.9796 &  20.7213 & -1\\\\\n",
       "\t 11 & chr1 & 19922204 & 19925349 & . & 224 & . & 567.5970 & 324.0000 & -1\\\\\n",
       "\t 11 & chr1 & 24115382 & 24118539 & . & 131 & . & 142.5470 & 324.0000 & -1\\\\\n",
       "\t 12 & chr1 & 29358651 & 29361272 & . & 149 & . & 225.8450 & 324.0000 & -1\\\\\n",
       "\t 15 & chr1 & 52428635 & 52430511 & . & 127 & . & 123.0520 & 324.0000 & -1\\\\\n",
       "\t 15 & chr1 & 53476715 & 53477769 & . & 123 & . & 105.6020 & 324.0000 & -1\\\\\n",
       "\\end{tabular}\n"
      ],
      "text/markdown": [
       "\n",
       "A data.frame: 6 × 10\n",
       "\n",
       "| bin &lt;int&gt; | chrom &lt;fct&gt; | chromStart &lt;int&gt; | chromEnd &lt;int&gt; | name &lt;fct&gt; | score &lt;int&gt; | strand &lt;fct&gt; | signalValue &lt;dbl&gt; | pValue &lt;dbl&gt; | qValue &lt;int&gt; |\n",
       "|---|---|---|---|---|---|---|---|---|---|\n",
       "| 10 | chr1 | 15728369 | 15728750 | . | 102 | . |  12.9796 |  20.7213 | -1 |\n",
       "| 11 | chr1 | 19922204 | 19925349 | . | 224 | . | 567.5970 | 324.0000 | -1 |\n",
       "| 11 | chr1 | 24115382 | 24118539 | . | 131 | . | 142.5470 | 324.0000 | -1 |\n",
       "| 12 | chr1 | 29358651 | 29361272 | . | 149 | . | 225.8450 | 324.0000 | -1 |\n",
       "| 15 | chr1 | 52428635 | 52430511 | . | 127 | . | 123.0520 | 324.0000 | -1 |\n",
       "| 15 | chr1 | 53476715 | 53477769 | . | 123 | . | 105.6020 | 324.0000 | -1 |\n",
       "\n"
      ],
      "text/plain": [
       "  bin chrom chromStart chromEnd name score strand signalValue pValue   qValue\n",
       "1 10  chr1  15728369   15728750 .    102   .       12.9796     20.7213 -1    \n",
       "2 11  chr1  19922204   19925349 .    224   .      567.5970    324.0000 -1    \n",
       "3 11  chr1  24115382   24118539 .    131   .      142.5470    324.0000 -1    \n",
       "4 12  chr1  29358651   29361272 .    149   .      225.8450    324.0000 -1    \n",
       "5 15  chr1  52428635   52430511 .    127   .      123.0520    324.0000 -1    \n",
       "6 15  chr1  53476715   53477769 .    123   .      105.6020    324.0000 -1    "
      ]
     },
     "metadata": {},
     "output_type": "display_data"
    }
   ],
   "source": [
    "tbl.k562.dgf.hg19 = getTable(ucscTableQuery(mySession, track=track.name, table=table.name))\n",
    "head(tbl.k562.dgf.hg19)"
   ]
  },
  {
   "cell_type": "markdown",
   "metadata": {},
   "source": [
    "Or we can get the data for one single gene (in this case, we use the genomic coordinates of the gene E2F3):"
   ]
  },
  {
   "cell_type": "code",
   "execution_count": 74,
   "metadata": {},
   "outputs": [
    {
     "data": {
      "text/html": [
       "<table>\n",
       "<caption>A data.frame: 2 × 10</caption>\n",
       "<thead>\n",
       "\t<tr><th scope=col>bin</th><th scope=col>chrom</th><th scope=col>chromStart</th><th scope=col>chromEnd</th><th scope=col>name</th><th scope=col>score</th><th scope=col>strand</th><th scope=col>signalValue</th><th scope=col>pValue</th><th scope=col>qValue</th></tr>\n",
       "\t<tr><th scope=col>&lt;int&gt;</th><th scope=col>&lt;fct&gt;</th><th scope=col>&lt;int&gt;</th><th scope=col>&lt;int&gt;</th><th scope=col>&lt;fct&gt;</th><th scope=col>&lt;int&gt;</th><th scope=col>&lt;fct&gt;</th><th scope=col>&lt;dbl&gt;</th><th scope=col>&lt;int&gt;</th><th scope=col>&lt;int&gt;</th></tr>\n",
       "</thead>\n",
       "<tbody>\n",
       "\t<tr><td>740</td><td>chr6</td><td>20400605</td><td>20402643</td><td>.</td><td>222</td><td>.</td><td>555.752</td><td>324</td><td>-1</td></tr>\n",
       "\t<tr><td>740</td><td>chr6</td><td>20402932</td><td>20405592</td><td>.</td><td>143</td><td>.</td><td>197.256</td><td>324</td><td>-1</td></tr>\n",
       "</tbody>\n",
       "</table>\n"
      ],
      "text/latex": [
       "A data.frame: 2 × 10\n",
       "\\begin{tabular}{r|llllllllll}\n",
       " bin & chrom & chromStart & chromEnd & name & score & strand & signalValue & pValue & qValue\\\\\n",
       " <int> & <fct> & <int> & <int> & <fct> & <int> & <fct> & <dbl> & <int> & <int>\\\\\n",
       "\\hline\n",
       "\t 740 & chr6 & 20400605 & 20402643 & . & 222 & . & 555.752 & 324 & -1\\\\\n",
       "\t 740 & chr6 & 20402932 & 20405592 & . & 143 & . & 197.256 & 324 & -1\\\\\n",
       "\\end{tabular}\n"
      ],
      "text/markdown": [
       "\n",
       "A data.frame: 2 × 10\n",
       "\n",
       "| bin &lt;int&gt; | chrom &lt;fct&gt; | chromStart &lt;int&gt; | chromEnd &lt;int&gt; | name &lt;fct&gt; | score &lt;int&gt; | strand &lt;fct&gt; | signalValue &lt;dbl&gt; | pValue &lt;int&gt; | qValue &lt;int&gt; |\n",
       "|---|---|---|---|---|---|---|---|---|---|\n",
       "| 740 | chr6 | 20400605 | 20402643 | . | 222 | . | 555.752 | 324 | -1 |\n",
       "| 740 | chr6 | 20402932 | 20405592 | . | 143 | . | 197.256 | 324 | -1 |\n",
       "\n"
      ],
      "text/plain": [
       "  bin chrom chromStart chromEnd name score strand signalValue pValue qValue\n",
       "1 740 chr6  20400605   20402643 .    222   .      555.752     324    -1    \n",
       "2 740 chr6  20402932   20405592 .    143   .      197.256     324    -1    "
      ]
     },
     "metadata": {},
     "output_type": "display_data"
    }
   ],
   "source": [
    "e2f3.grange = GRanges(\"chr6\", IRanges(20400587,20403336))\n",
    "tbl.k562.dgf.e2f3 = getTable(ucscTableQuery(mySession, track=track.name, range=e2f3.grange, table=table.name))\n",
    "head(tbl.k562.dgf.e2f3)"
   ]
  },
  {
   "cell_type": "markdown",
   "metadata": {},
   "source": [
    "# Part 3. Working with Visualization:"
   ]
  },
  {
   "cell_type": "markdown",
   "metadata": {},
   "source": [
    "## Gviz:"
   ]
  },
  {
   "cell_type": "markdown",
   "metadata": {},
   "source": [
    "As explained before, Gviz is a visualization package that handles data tracks in the same way than most genome browsers do."
   ]
  },
  {
   "cell_type": "code",
   "execution_count": 76,
   "metadata": {},
   "outputs": [],
   "source": [
    "library(Gviz, verbose=FALSE)"
   ]
  },
  {
   "cell_type": "markdown",
   "metadata": {},
   "source": [
    "In order to use Gviz, we will load a CpG island dataset from the \"GenomicRanges\" package:"
   ]
  },
  {
   "cell_type": "code",
   "execution_count": 77,
   "metadata": {},
   "outputs": [
    {
     "data": {
      "text/html": [
       "'GRanges'"
      ],
      "text/latex": [
       "'GRanges'"
      ],
      "text/markdown": [
       "'GRanges'"
      ],
      "text/plain": [
       "[1] \"GRanges\"\n",
       "attr(,\"package\")\n",
       "[1] \"GenomicRanges\""
      ]
     },
     "metadata": {},
     "output_type": "display_data"
    }
   ],
   "source": [
    "library(GenomicRanges, verbose=FALSE)\n",
    "data(cpgIslands)\n",
    "class(cpgIslands)"
   ]
  },
  {
   "cell_type": "markdown",
   "metadata": {},
   "source": [
    "The first basic track type of Gviz is the genome axis track:"
   ]
  },
  {
   "cell_type": "code",
   "execution_count": 83,
   "metadata": {},
   "outputs": [],
   "source": [
    "gtrack <- GenomeAxisTrack()"
   ]
  },
  {
   "cell_type": "markdown",
   "metadata": {},
   "source": [
    "The second one is the annotation track:"
   ]
  },
  {
   "cell_type": "code",
   "execution_count": 82,
   "metadata": {},
   "outputs": [
    {
     "data": {
      "image/png": "[encoded data removed]",
      "text/plain": [
       "plot without title"
      ]
     },
     "metadata": {},
     "output_type": "display_data"
    }
   ],
   "source": [
    "atrack <- AnnotationTrack(cpgIslands, name=\"CpG\")\n",
    "plotTracks(list(gtrack, atrack))"
   ]
  },
  {
   "cell_type": "markdown",
   "metadata": {},
   "source": [
    "Followed by the ideogram track:"
   ]
  },
  {
   "cell_type": "code",
   "execution_count": 84,
   "metadata": {},
   "outputs": [
    {
     "data": {
      "image/png": "[encoded data removed]",
      "text/plain": [
       "plot without title"
      ]
     },
     "metadata": {},
     "output_type": "display_data"
    }
   ],
   "source": [
    "chr <- as.character(unique(seqnames(cpgIslands)))\n",
    "gen <- genome(cpgIslands)\n",
    "itrack <- IdeogramTrack(genome=gen, chromosome=chr)\n",
    "plotTracks(list(itrack, gtrack, atrack))"
   ]
  },
  {
   "cell_type": "markdown",
   "metadata": {},
   "source": [
    "Also, we can add a track with the different gene models in the same coordinates:"
   ]
  },
  {
   "cell_type": "code",
   "execution_count": 106,
   "metadata": {},
   "outputs": [
    {
     "data": {
      "image/png": "[encoded data removed]",
      "text/plain": [
       "plot without title"
      ]
     },
     "metadata": {},
     "output_type": "display_data"
    }
   ],
   "source": [
    "data(geneModels)\n",
    "grtrack <- GeneRegionTrack(geneModels, genome=gen, chromosome=chr, name=\"Gene Model\", transcriptAnnotation=\"symbol\")\n",
    "plotTracks(list(itrack, gtrack, atrack, grtrack))"
   ]
  },
  {
   "cell_type": "markdown",
   "metadata": {},
   "source": [
    "We can also collapse all transcripts choosing, for example, the longest one:"
   ]
  },
  {
   "cell_type": "code",
   "execution_count": 119,
   "metadata": {},
   "outputs": [
    {
     "data": {
      "image/png": "[encoded data removed]",
      "text/plain": [
       "plot without title"
      ]
     },
     "metadata": {},
     "output_type": "display_data"
    }
   ],
   "source": [
    "grtrack <- GeneRegionTrack(geneModels, genome=gen, chromosome=chr, name=\"Gene Model\", transcriptAnnotation=\"symbol\", collapseTranscripts=\"longest\")\n",
    "plotTracks(list(itrack, gtrack, atrack, grtrack))"
   ]
  },
  {
   "cell_type": "markdown",
   "metadata": {},
   "source": [
    "Also, we can get this plot for a specific region:"
   ]
  },
  {
   "cell_type": "code",
   "execution_count": 120,
   "metadata": {},
   "outputs": [
    {
     "data": {
      "image/png": "[encoded data removed]",
      "text/plain": [
       "plot without title"
      ]
     },
     "metadata": {},
     "output_type": "display_data"
    }
   ],
   "source": [
    "plotTracks(list(itrack, gtrack, atrack, grtrack), from=26700000, to=26750000, transcriptAnnotation=\"symbol\", collapseTranscripts=FALSE)"
   ]
  },
  {
   "cell_type": "markdown",
   "metadata": {},
   "source": [
    "And we can even add a sequence track, using BSgenome:"
   ]
  },
  {
   "cell_type": "code",
   "execution_count": 122,
   "metadata": {},
   "outputs": [
    {
     "data": {
      "image/png": "[encoded data removed]",
      "text/plain": [
       "plot without title"
      ]
     },
     "metadata": {},
     "output_type": "display_data"
    }
   ],
   "source": [
    "library(BSgenome.Hsapiens.UCSC.hg38, verbose=FALSE)\n",
    "strack <- SequenceTrack(Hsapiens, chromosome=chr)\n",
    "plotTracks(list(itrack, gtrack, atrack, grtrack, strack), from=26591822, to=26591852, cex=0.8, collapseTranscripts=FALSE)"
   ]
  },
  {
   "cell_type": "markdown",
   "metadata": {},
   "source": [
    "Finally, Gviz can include quantitative data tracks. In the following example, a data track of random uniform data is added:"
   ]
  },
  {
   "cell_type": "code",
   "execution_count": 123,
   "metadata": {},
   "outputs": [
    {
     "data": {
      "image/png": "[encoded data removed]",
      "text/plain": [
       "plot without title"
      ]
     },
     "metadata": {},
     "output_type": "display_data"
    }
   ],
   "source": [
    "lim <- c(26700000, 26750000)\n",
    "coords <- sort(c(lim[1], sample(seq(from=lim[1], to=lim[2]), 99), lim[2]))\n",
    "set.seed(255)\n",
    "dat <- runif(100, min=-10, max=10)\n",
    "dtrack <- DataTrack(data=dat, start=coords[-length(coords)], end=coords[-1], chromosome=chr,\n",
    "                    genome=gen, name=\"Uniform\")\n",
    "plotTracks(list(itrack, gtrack, atrack, grtrack, dtrack), from=lim[1], to=lim[2], transcriptAnnotation=\"transcript\", collapseTranscripts=FALSE) # see that we changed the annotation from gene symbol to transcripts"
   ]
  },
  {
   "cell_type": "markdown",
   "metadata": {},
   "source": [
    "We can also plot histograms. For the previous example:"
   ]
  },
  {
   "cell_type": "code",
   "execution_count": 124,
   "metadata": {},
   "outputs": [
    {
     "data": {
      "image/png": "[encoded data removed]",
      "text/plain": [
       "plot without title"
      ]
     },
     "metadata": {},
     "output_type": "display_data"
    }
   ],
   "source": [
    "plotTracks(list(itrack, gtrack, atrack, grtrack, dtrack), from=lim[1], to=lim[2], type=\"histogram\", transcriptAnnotation=\"symbol\", collapseTranscripts=FALSE)"
   ]
  },
  {
   "cell_type": "markdown",
   "metadata": {},
   "source": [
    "The following example shows us numeric information from control and treated samples of a set of genomic ranges:"
   ]
  },
  {
   "cell_type": "code",
   "execution_count": 93,
   "metadata": {},
   "outputs": [
    {
     "data": {
      "text/plain": [
       "GRanges object with 25 ranges and 6 metadata columns:\n",
       "       seqnames    ranges strand |           control          control.1\n",
       "          <Rle> <IRanges>  <Rle> |         <numeric>          <numeric>\n",
       "   [1]     chrX      1-30      * | -8.96125989500433  -7.65790161676705\n",
       "   [2]     chrX     42-71      * |  -4.2114706709981    4.6882571419701\n",
       "   [3]     chrX    84-113      * |  2.28711236733943   8.01326935179532\n",
       "   [4]     chrX   125-154      * |  9.20983788557351  -6.23242623638362\n",
       "   [5]     chrX   167-196      * | 0.406841854564846  -7.05442394595593\n",
       "   ...      ...       ...    ... .               ...                ...\n",
       "  [21]     chrX   833-862      * |  2.71242363378406   7.53853759262711\n",
       "  [22]     chrX   875-904      * | 0.727043347433209 -0.950022372417152\n",
       "  [23]     chrX   916-945      * |   7.3868807638064    4.8170017497614\n",
       "  [24]     chrX   958-987      * | -5.54162500426173  -2.23117967601866\n",
       "  [25]     chrX 1000-1029      * | -1.13912807777524   2.86112546455115\n",
       "                control.2           treated         treated.1         treated.2\n",
       "                <numeric>         <numeric>         <numeric>         <numeric>\n",
       "   [1]   9.87956526689231 -5.84375557024032  9.71352839842439  9.99328563921154\n",
       "   [2]   -1.0533055011183  1.03083667811006 -6.77430204115808 0.593712376430631\n",
       "   [3]   -7.1219984581694 -4.46718293242157 -4.05887754634023  8.05319488979876\n",
       "   [4]   8.59682233538479 -6.32041404955089 -1.56806231010705   3.5114610241726\n",
       "   [5] -0.551973707042634  9.36362744309008 -4.88056596834213  1.55288028530777\n",
       "   ...                ...               ...               ...               ...\n",
       "  [21]   6.56280730385333 -3.42396105173975 -25.0159116648138 -14.8638874059543\n",
       "  [22]  -7.63786241877824 -28.9633466186933 -15.0660670618527 -26.3618095312268\n",
       "  [23]   3.64003846421838 -7.59088161867112  5.14691891148686 -5.80431585200131\n",
       "  [24]  -4.65625441167504  7.04729768447578 -7.55597376730293 -8.46893921960145\n",
       "  [25]    8.1775445304811 -5.34924863371998 0.874496018514037 -6.32030902896076\n",
       "  -------\n",
       "  seqinfo: 1 sequence from hg19 genome; no seqlengths"
      ]
     },
     "metadata": {},
     "output_type": "display_data"
    }
   ],
   "source": [
    "data(twoGroups)\n",
    "twoGroups"
   ]
  },
  {
   "cell_type": "code",
   "execution_count": 94,
   "metadata": {},
   "outputs": [
    {
     "data": {
      "image/png": "[encoded data removed]",
      "text/plain": [
       "plot without title"
      ]
     },
     "metadata": {},
     "output_type": "display_data"
    }
   ],
   "source": [
    "dTrack <- DataTrack(twoGroups, name=\"uniform\")\n",
    "plotTracks(dTrack)"
   ]
  },
  {
   "cell_type": "markdown",
   "metadata": {},
   "source": [
    "The information in this example can be visualized using multiple types of plots, such as boxplots, heatmaps, line plots, and confidence intervals:"
   ]
  },
  {
   "cell_type": "code",
   "execution_count": 95,
   "metadata": {},
   "outputs": [
    {
     "data": {
      "image/png": "[encoded data removed]",
      "text/plain": [
       "plot without title"
      ]
     },
     "metadata": {},
     "output_type": "display_data"
    }
   ],
   "source": [
    "plotTracks(dTrack, type=c(\"boxplot\", \"a\", \"g\"))"
   ]
  },
  {
   "cell_type": "code",
   "execution_count": 110,
   "metadata": {},
   "outputs": [
    {
     "data": {
      "text/html": [
       "<ol class=list-inline>\n",
       "\t<li>'control'</li>\n",
       "\t<li>'control.1'</li>\n",
       "\t<li>'control.2'</li>\n",
       "\t<li>'treated'</li>\n",
       "\t<li>'treated.1'</li>\n",
       "\t<li>'treated.2'</li>\n",
       "</ol>\n"
      ],
      "text/latex": [
       "\\begin{enumerate*}\n",
       "\\item 'control'\n",
       "\\item 'control.1'\n",
       "\\item 'control.2'\n",
       "\\item 'treated'\n",
       "\\item 'treated.1'\n",
       "\\item 'treated.2'\n",
       "\\end{enumerate*}\n"
      ],
      "text/markdown": [
       "1. 'control'\n",
       "2. 'control.1'\n",
       "3. 'control.2'\n",
       "4. 'treated'\n",
       "5. 'treated.1'\n",
       "6. 'treated.2'\n",
       "\n",
       "\n"
      ],
      "text/plain": [
       "[1] \"control\"   \"control.1\" \"control.2\" \"treated\"   \"treated.1\" \"treated.2\""
      ]
     },
     "metadata": {},
     "output_type": "display_data"
    },
    {
     "data": {
      "image/png": "[encoded data removed]",
      "text/plain": [
       "plot without title"
      ]
     },
     "metadata": {},
     "output_type": "display_data"
    }
   ],
   "source": [
    "colnames(mcols(twoGroups))\n",
    "plotTracks(dTrack, type=c(\"heatmap\"), showSampleNames=TRUE, cex.sampleNames=0.6)"
   ]
  },
  {
   "cell_type": "code",
   "execution_count": 98,
   "metadata": {},
   "outputs": [
    {
     "data": {
      "image/png": "[encoded data removed]",
      "text/plain": [
       "plot without title"
      ]
     },
     "metadata": {},
     "output_type": "display_data"
    }
   ],
   "source": [
    "plotTracks(dTrack, groups=rep(c(\"control\", \"treated\"), each=3), type=c(\"a\", \"p\"), legend=TRUE)"
   ]
  },
  {
   "cell_type": "code",
   "execution_count": 97,
   "metadata": {},
   "outputs": [
    {
     "data": {
      "image/png": "[encoded data removed]",
      "text/plain": [
       "plot without title"
      ]
     },
     "metadata": {},
     "output_type": "display_data"
    }
   ],
   "source": [
    "plotTracks(dTrack, groups=rep(c(\"control\", \"treated\"), each=3), type=c(\"a\", \"p\", \"confint\"))"
   ]
  },
  {
   "cell_type": "markdown",
   "metadata": {},
   "source": [
    "Gviz has multiple additional plotting options that can be found in the documentation."
   ]
  },
  {
   "cell_type": "markdown",
   "metadata": {},
   "source": [
    "# References:"
   ]
  },
  {
   "cell_type": "markdown",
   "metadata": {},
   "source": [
    "[1] https://bioconductor.org/packages/release/bioc/vignettes/AnnotationDbi/inst/doc/IntroToAnnotationPackages.pdf"
   ]
  },
  {
   "cell_type": "markdown",
   "metadata": {},
   "source": [
    "[2] https://bioconductor.org/packages/release/bioc/vignettes/AnnotationHub/inst/doc/AnnotationHub.html"
   ]
  },
  {
   "cell_type": "markdown",
   "metadata": {},
   "source": [
    "[3] https://bioconductor.org/packages/release/bioc/vignettes/rtracklayer/inst/doc/rtracklayer.pdf"
   ]
  },
  {
   "cell_type": "markdown",
   "metadata": {},
   "source": [
    "[4] https://bioconductor.org/packages/release/bioc/vignettes/Gviz/inst/doc/Gviz.html"
   ]
  },
  {
   "cell_type": "code",
   "execution_count": null,
   "metadata": {
    "collapsed": true
   },
   "outputs": [],
   "source": []
  }
 ],
 "metadata": {
  "kernelspec": {
   "display_name": "R",
   "language": "R",
   "name": "ir"
  },
  "language_info": {
   "codemirror_mode": "r",
   "file_extension": ".r",
   "mimetype": "text/x-r-source",
   "name": "R",
   "pygments_lexer": "r",
   "version": "3.6.0"
  }
 },
 "nbformat": 4,
 "nbformat_minor": 2
}
